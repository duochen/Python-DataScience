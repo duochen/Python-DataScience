{
 "cells": [
  {
   "cell_type": "markdown",
   "metadata": {},
   "source": [
    "## 3.1. Sorting NumPy Arrays "
   ]
  },
  {
   "cell_type": "markdown",
   "metadata": {},
   "source": [
    "### 3.1.1. Soring Numeric Arrays"
   ]
  },
  {
   "cell_type": "code",
   "execution_count": 38,
   "metadata": {},
   "outputs": [
    {
     "name": "stdout",
     "output_type": "stream",
     "text": [
      "unsorted array\n",
      "[ 3 17  8  6 10  8 15 13 18  5]\n",
      "\n",
      "sorted array\n",
      "[ 3  5  6  8  8 10 13 15 17 18]\n"
     ]
    }
   ],
   "source": [
    "import numpy as np\n",
    "\n",
    "print(\"unsorted array\")\n",
    "my_array = np.random.randint(1,20,10)\n",
    "print(my_array)\n",
    "\n",
    "print(\"\\nsorted array\")\n",
    "sorted_array = np.sort(my_array)\n",
    "print(sorted_array)"
   ]
  },
  {
   "cell_type": "markdown",
   "metadata": {},
   "source": [
    "### 3.1.2. Sorting Text Arrays"
   ]
  },
  {
   "cell_type": "code",
   "execution_count": 39,
   "metadata": {},
   "outputs": [
    {
     "name": "stdout",
     "output_type": "stream",
     "text": [
      "unsorted array\n",
      "['Red' 'Green' 'Blue' 'Yello']\n",
      "\n",
      "sorted array\n",
      "['Blue' 'Green' 'Red' 'Yello']\n"
     ]
    }
   ],
   "source": [
    "import numpy as np\n",
    "\n",
    "print(\"unsorted array\")\n",
    "my_array = np.array([\"Red\", \"Green\", \"Blue\", \"Yello\"])\n",
    "print(my_array)\n",
    "\n",
    "print(\"\\nsorted array\")\n",
    "sorted_array = np.sort(my_array)\n",
    "print(sorted_array)"
   ]
  },
  {
   "cell_type": "markdown",
   "metadata": {},
   "source": [
    "### 3.1.3. Sorting Boolean Arrays"
   ]
  },
  {
   "cell_type": "code",
   "execution_count": 4,
   "metadata": {},
   "outputs": [
    {
     "name": "stdout",
     "output_type": "stream",
     "text": [
      "unsorted array\n",
      "[False  True  True False False  True False  True]\n",
      "\n",
      "Sorted array\n",
      "[False False False False  True  True  True  True]\n"
     ]
    }
   ],
   "source": [
    "import numpy as np\n",
    "\n",
    "print(\"unsorted array\")\n",
    "my_array = np.array([False, True, True, False, False, True, False, True])\n",
    "print(my_array)\n",
    "\n",
    "print(\"\\nSorted array\")\n",
    "sorted_array = np.sort(my_array)\n",
    "print(sorted_array)"
   ]
  },
  {
   "cell_type": "markdown",
   "metadata": {},
   "source": [
    "### 3.1.4. Sorting 2-D Arrays"
   ]
  },
  {
   "cell_type": "code",
   "execution_count": 5,
   "metadata": {},
   "outputs": [
    {
     "name": "stdout",
     "output_type": "stream",
     "text": [
      "unsorted array\n",
      "[[19  3 12  1  2 12]\n",
      " [ 7  1 15 13 19  8]\n",
      " [15 10 16  7 18  4]\n",
      " [19 16  1  2  5 10]]\n",
      "Sorted array\n",
      "[[ 1  2  3 12 12 19]\n",
      " [ 1  7  8 13 15 19]\n",
      " [ 4  7 10 15 16 18]\n",
      " [ 1  2  5 10 16 19]]\n"
     ]
    }
   ],
   "source": [
    "import numpy as np\n",
    "\n",
    "print(\"unsorted array\")\n",
    "my_array = np.random.randint(1,20, size = (4,6))\n",
    "print(my_array)\n",
    "\n",
    "print(\"Sorted array\")\n",
    "sorted_array = np.sort(my_array)\n",
    "print(sorted_array)"
   ]
  },
  {
   "cell_type": "markdown",
   "metadata": {},
   "source": [
    "### 3.1.5. Sorting in Descending Order"
   ]
  },
  {
   "cell_type": "code",
   "execution_count": 6,
   "metadata": {},
   "outputs": [
    {
     "name": "stdout",
     "output_type": "stream",
     "text": [
      "unsorted array\n",
      "[ 8  6  9 10  7 15 17  6 10 16]\n",
      "\n",
      "sorted array\n",
      "[17 16 15 10 10  9  8  7  6  6]\n"
     ]
    }
   ],
   "source": [
    "import numpy as np\n",
    "\n",
    "print(\"unsorted array\")\n",
    "my_array = np.random.randint(1,20,10)\n",
    "print(my_array)\n",
    "\n",
    "print(\"\\nsorted array\")\n",
    "sorted_array = np.sort(my_array)\n",
    "reverse_sorted = np.flipud(sorted_array)\n",
    "print(reverse_sorted)"
   ]
  },
  {
   "cell_type": "markdown",
   "metadata": {},
   "source": [
    "## 3.2. Reshaping NumPy Arrays"
   ]
  },
  {
   "cell_type": "markdown",
   "metadata": {},
   "source": [
    "### 3.2.1. Reshaping from Lower to Higher Dimensions"
   ]
  },
  {
   "cell_type": "code",
   "execution_count": 7,
   "metadata": {},
   "outputs": [
    {
     "name": "stdout",
     "output_type": "stream",
     "text": [
      "one-dimensional array\n",
      "[ 5  3  2  4  9  2 17  2 14  9]\n",
      "\n",
      "two-dimensional array\n",
      "[[ 5  3  2  4  9]\n",
      " [ 2 17  2 14  9]]\n"
     ]
    }
   ],
   "source": [
    "import numpy as np\n",
    "\n",
    "print(\"one-dimensional array\")\n",
    "one_d_array = np.random.randint(1,20,10)\n",
    "print(one_d_array)\n",
    "\n",
    "print(\"\\ntwo-dimensional array\")\n",
    "two_d_array = one_d_array.reshape(2,5)\n",
    "print(two_d_array)"
   ]
  },
  {
   "cell_type": "code",
   "execution_count": 8,
   "metadata": {},
   "outputs": [
    {
     "name": "stdout",
     "output_type": "stream",
     "text": [
      "one-dimensional array\n",
      "[ 8  9  9 13 11 11  8  1 13 10]\n",
      "\n",
      "two-dimensional array\n",
      "[[ 8  9  9 13 11]\n",
      " [11  8  1 13 10]]\n"
     ]
    }
   ],
   "source": [
    "import numpy as np\n",
    "\n",
    "print(\"one-dimensional array\")\n",
    "one_d_array = np.random.randint(1,20,10)\n",
    "print(one_d_array)\n",
    "\n",
    "print(\"\\ntwo-dimensional array\")\n",
    "two_d_array = np.reshape(one_d_array,(2,5))\n",
    "print(two_d_array)"
   ]
  },
  {
   "cell_type": "code",
   "execution_count": 9,
   "metadata": {},
   "outputs": [
    {
     "name": "stdout",
     "output_type": "stream",
     "text": [
      "two-dimensional array\n",
      "[ 8  9  9 13 11 11  8  1 13 10]\n",
      "\n",
      "three-dimensional array\n",
      "[[ 6 14 19 18 15  5]\n",
      " [18 10 10  5  4 16]\n",
      " [11 12  8 17 13  7]\n",
      " [ 9 11 15 12  6 13]]\n"
     ]
    }
   ],
   "source": [
    "import numpy as np\n",
    "\n",
    "print(\"two-dimensional array\")\n",
    "two_d_array = np.random.randint(1,20, size = (4,6))\n",
    "print(one_d_array)\n",
    "\n",
    "print(\"\\nthree-dimensional array\")\n",
    "three_d_array = np.reshape(two_d_array,(3,4,2))\n",
    "print(two_d_array)"
   ]
  },
  {
   "cell_type": "code",
   "execution_count": 10,
   "metadata": {},
   "outputs": [
    {
     "name": "stdout",
     "output_type": "stream",
     "text": [
      "two-dimensional array\n",
      "[ 8  9  9 13 11 11  8  1 13 10]\n",
      "\n",
      "three-dimensional array\n"
     ]
    },
    {
     "ename": "ValueError",
     "evalue": "cannot reshape array of size 24 into shape (1,4,2)",
     "output_type": "error",
     "traceback": [
      "\u001b[1;31m---------------------------------------------------------------------------\u001b[0m",
      "\u001b[1;31mValueError\u001b[0m                                Traceback (most recent call last)",
      "\u001b[1;32m<ipython-input-10-26262dc58686>\u001b[0m in \u001b[0;36m<module>\u001b[1;34m\u001b[0m\n\u001b[0;32m      6\u001b[0m \u001b[1;33m\u001b[0m\u001b[0m\n\u001b[0;32m      7\u001b[0m \u001b[0mprint\u001b[0m\u001b[1;33m(\u001b[0m\u001b[1;34m\"\\nthree-dimensional array\"\u001b[0m\u001b[1;33m)\u001b[0m\u001b[1;33m\u001b[0m\u001b[1;33m\u001b[0m\u001b[0m\n\u001b[1;32m----> 8\u001b[1;33m \u001b[0mthree_d_array\u001b[0m \u001b[1;33m=\u001b[0m \u001b[0mnp\u001b[0m\u001b[1;33m.\u001b[0m\u001b[0mreshape\u001b[0m\u001b[1;33m(\u001b[0m\u001b[0mtwo_d_array\u001b[0m\u001b[1;33m,\u001b[0m\u001b[1;33m(\u001b[0m\u001b[1;36m1\u001b[0m\u001b[1;33m,\u001b[0m\u001b[1;36m4\u001b[0m\u001b[1;33m,\u001b[0m\u001b[1;36m2\u001b[0m\u001b[1;33m)\u001b[0m\u001b[1;33m)\u001b[0m\u001b[1;33m\u001b[0m\u001b[1;33m\u001b[0m\u001b[0m\n\u001b[0m\u001b[0;32m      9\u001b[0m \u001b[0mprint\u001b[0m\u001b[1;33m(\u001b[0m\u001b[0mtwo_d_array\u001b[0m\u001b[1;33m)\u001b[0m\u001b[1;33m\u001b[0m\u001b[1;33m\u001b[0m\u001b[0m\n",
      "\u001b[1;32m<__array_function__ internals>\u001b[0m in \u001b[0;36mreshape\u001b[1;34m(*args, **kwargs)\u001b[0m\n",
      "\u001b[1;32mc:\\apps\\anaconda3\\lib\\site-packages\\numpy\\core\\fromnumeric.py\u001b[0m in \u001b[0;36mreshape\u001b[1;34m(a, newshape, order)\u001b[0m\n\u001b[0;32m    297\u001b[0m            [5, 6]])\n\u001b[0;32m    298\u001b[0m     \"\"\"\n\u001b[1;32m--> 299\u001b[1;33m     \u001b[1;32mreturn\u001b[0m \u001b[0m_wrapfunc\u001b[0m\u001b[1;33m(\u001b[0m\u001b[0ma\u001b[0m\u001b[1;33m,\u001b[0m \u001b[1;34m'reshape'\u001b[0m\u001b[1;33m,\u001b[0m \u001b[0mnewshape\u001b[0m\u001b[1;33m,\u001b[0m \u001b[0morder\u001b[0m\u001b[1;33m=\u001b[0m\u001b[0morder\u001b[0m\u001b[1;33m)\u001b[0m\u001b[1;33m\u001b[0m\u001b[1;33m\u001b[0m\u001b[0m\n\u001b[0m\u001b[0;32m    300\u001b[0m \u001b[1;33m\u001b[0m\u001b[0m\n\u001b[0;32m    301\u001b[0m \u001b[1;33m\u001b[0m\u001b[0m\n",
      "\u001b[1;32mc:\\apps\\anaconda3\\lib\\site-packages\\numpy\\core\\fromnumeric.py\u001b[0m in \u001b[0;36m_wrapfunc\u001b[1;34m(obj, method, *args, **kwds)\u001b[0m\n\u001b[0;32m     56\u001b[0m \u001b[1;33m\u001b[0m\u001b[0m\n\u001b[0;32m     57\u001b[0m     \u001b[1;32mtry\u001b[0m\u001b[1;33m:\u001b[0m\u001b[1;33m\u001b[0m\u001b[1;33m\u001b[0m\u001b[0m\n\u001b[1;32m---> 58\u001b[1;33m         \u001b[1;32mreturn\u001b[0m \u001b[0mbound\u001b[0m\u001b[1;33m(\u001b[0m\u001b[1;33m*\u001b[0m\u001b[0margs\u001b[0m\u001b[1;33m,\u001b[0m \u001b[1;33m**\u001b[0m\u001b[0mkwds\u001b[0m\u001b[1;33m)\u001b[0m\u001b[1;33m\u001b[0m\u001b[1;33m\u001b[0m\u001b[0m\n\u001b[0m\u001b[0;32m     59\u001b[0m     \u001b[1;32mexcept\u001b[0m \u001b[0mTypeError\u001b[0m\u001b[1;33m:\u001b[0m\u001b[1;33m\u001b[0m\u001b[1;33m\u001b[0m\u001b[0m\n\u001b[0;32m     60\u001b[0m         \u001b[1;31m# A TypeError occurs if the object does have such a method in its\u001b[0m\u001b[1;33m\u001b[0m\u001b[1;33m\u001b[0m\u001b[1;33m\u001b[0m\u001b[0m\n",
      "\u001b[1;31mValueError\u001b[0m: cannot reshape array of size 24 into shape (1,4,2)"
     ]
    }
   ],
   "source": [
    "import numpy as np\n",
    "\n",
    "print(\"two-dimensional array\")\n",
    "two_d_array = np.random.randint(1,20, size = (4,6))\n",
    "print(one_d_array)\n",
    "\n",
    "print(\"\\nthree-dimensional array\")\n",
    "three_d_array = np.reshape(two_d_array,(1,4,2))\n",
    "print(two_d_array)"
   ]
  },
  {
   "cell_type": "markdown",
   "metadata": {},
   "source": [
    "### 3.2.2. Reshaping Higher Dimensions To Lower Dimensions"
   ]
  },
  {
   "cell_type": "code",
   "execution_count": 11,
   "metadata": {},
   "outputs": [
    {
     "name": "stdout",
     "output_type": "stream",
     "text": [
      "two-dimensional array\n",
      "[[ 2 11  7  3 10 12]\n",
      " [ 1 14 16  4  7  3]\n",
      " [12 17  3  8  5  6]\n",
      " [10  9 15  6  5  2]]\n",
      "\n",
      "one-dimensional array\n",
      "[ 2 11  7  3 10 12  1 14 16  4  7  3 12 17  3  8  5  6 10  9 15  6  5  2]\n"
     ]
    }
   ],
   "source": [
    "import numpy as np\n",
    "\n",
    "print(\"two-dimensional array\")\n",
    "two_d_array = np.random.randint(1,20, size = (4,6))\n",
    "print(two_d_array)\n",
    "\n",
    "print(\"\\none-dimensional array\")\n",
    "one_d_array = two_d_array.reshape(24)\n",
    "print(one_d_array)"
   ]
  },
  {
   "cell_type": "code",
   "execution_count": 12,
   "metadata": {},
   "outputs": [
    {
     "name": "stdout",
     "output_type": "stream",
     "text": [
      "two-dimensional array\n",
      "[[ 9 16 12  7 11  1]\n",
      " [15  7 14  5  6  7]\n",
      " [12  3  4 13  7  3]\n",
      " [18  3 14  2 18 16]]\n",
      "\n",
      "one-dimensional array\n",
      "[ 9 16 12  7 11  1 15  7 14  5  6  7 12  3  4 13  7  3 18  3 14  2 18 16]\n"
     ]
    }
   ],
   "source": [
    "import numpy as np\n",
    "\n",
    "print(\"two-dimensional array\")\n",
    "two_d_array = np.random.randint(1,20, size = (4,6))\n",
    "print(two_d_array)\n",
    "\n",
    "print(\"\\none-dimensional array\")\n",
    "one_d_array = two_d_array.reshape(-1)\n",
    "print(one_d_array)"
   ]
  },
  {
   "cell_type": "code",
   "execution_count": 13,
   "metadata": {},
   "outputs": [
    {
     "name": "stdout",
     "output_type": "stream",
     "text": [
      "two-dimensional array\n",
      "[[[ 7 15  5  8  1 13]\n",
      "  [10  8 17 19 15 13]]\n",
      "\n",
      " [[ 8 15 16  6  1  3]\n",
      "  [19  9 15  8  5 13]]\n",
      "\n",
      " [[ 6  1  7 15 16 11]\n",
      "  [ 5  7  8  1  7  1]]\n",
      "\n",
      " [[15  6 19  3 13  8]\n",
      "  [10  3  8 10  3  9]]]\n",
      "\n",
      "on-dimensional array\n",
      "[ 7 15  5  8  1 13 10  8 17 19 15 13  8 15 16  6  1  3 19  9 15  8  5 13\n",
      "  6  1  7 15 16 11  5  7  8  1  7  1 15  6 19  3 13  8 10  3  8 10  3  9]\n"
     ]
    }
   ],
   "source": [
    "import numpy as np\n",
    "\n",
    "print(\"two-dimensional array\")\n",
    "three_d_array = np.random.randint(1,20, size = (4,2,6))\n",
    "print(three_d_array )\n",
    "\n",
    "print(\"\\non-dimensional array\")\n",
    "one_d_array = three_d_array .reshape(-1)\n",
    "print(one_d_array)"
   ]
  },
  {
   "cell_type": "markdown",
   "metadata": {},
   "source": [
    "## 3.3. Array Indexing and Slicing"
   ]
  },
  {
   "cell_type": "code",
   "execution_count": 14,
   "metadata": {},
   "outputs": [
    {
     "name": "stdout",
     "output_type": "stream",
     "text": [
      "[ 1  2  3  4  5  6  7  8  9 10]\n"
     ]
    }
   ],
   "source": [
    "import numpy as np\n",
    "s = np.arange(1,11)  \n",
    "print(s) \n"
   ]
  },
  {
   "cell_type": "code",
   "execution_count": 15,
   "metadata": {},
   "outputs": [
    {
     "name": "stdout",
     "output_type": "stream",
     "text": [
      "2\n"
     ]
    }
   ],
   "source": [
    "print(s[1])  "
   ]
  },
  {
   "cell_type": "code",
   "execution_count": 16,
   "metadata": {},
   "outputs": [
    {
     "name": "stdout",
     "output_type": "stream",
     "text": [
      "[2 3 4 5 6 7 8 9]\n"
     ]
    }
   ],
   "source": [
    "print(s[1:9])  "
   ]
  },
  {
   "cell_type": "code",
   "execution_count": 17,
   "metadata": {},
   "outputs": [
    {
     "name": "stdout",
     "output_type": "stream",
     "text": [
      "[1 2 3 4 5]\n",
      "[ 6  7  8  9 10]\n"
     ]
    }
   ],
   "source": [
    "print(s[:5])  \n",
    "print(s[5:])  "
   ]
  },
  {
   "cell_type": "code",
   "execution_count": 18,
   "metadata": {},
   "outputs": [
    {
     "name": "stdout",
     "output_type": "stream",
     "text": [
      "[[10 12 13]\n",
      " [45 32 16]]\n"
     ]
    }
   ],
   "source": [
    "row1 = [10,12,13]  \n",
    "row2 = [45,32,16]  \n",
    "row3 = [45,32,16]  \n",
    "  \n",
    "nums_2d = np.array([row1, row2, row3])  \n",
    "print(nums_2d[:2,:])   "
   ]
  },
  {
   "cell_type": "code",
   "execution_count": 19,
   "metadata": {},
   "outputs": [
    {
     "name": "stdout",
     "output_type": "stream",
     "text": [
      "[[10 12]\n",
      " [45 32]\n",
      " [45 32]]\n"
     ]
    }
   ],
   "source": [
    "row1 = [10,12,13]  \n",
    "row2 = [45,32,16]  \n",
    "row3 = [45,32,16]  \n",
    " \n",
    "nums_2d = np.array([row1, row2, row3])  \n",
    "\n",
    "print(nums_2d[:,:2])   "
   ]
  },
  {
   "cell_type": "code",
   "execution_count": 20,
   "metadata": {},
   "outputs": [
    {
     "name": "stdout",
     "output_type": "stream",
     "text": [
      "[[32 16]\n",
      " [32 16]]\n"
     ]
    }
   ],
   "source": [
    "row1 = [10,12,13]  \n",
    "row2 = [45,32,16]  \n",
    "row3 = [45,32,16]  \n",
    " \n",
    "nums_2d = np.array([row1, row2, row3])  \n",
    "print(nums_2d[1:,1:]) \n"
   ]
  },
  {
   "cell_type": "markdown",
   "metadata": {},
   "source": [
    "## 3.4. Broadcasting NumPy Arrays"
   ]
  },
  {
   "cell_type": "code",
   "execution_count": 21,
   "metadata": {},
   "outputs": [
    {
     "name": "stdout",
     "output_type": "stream",
     "text": [
      "[24 35 41]\n"
     ]
    }
   ],
   "source": [
    "import numpy as np\n",
    "\n",
    "array1 = np.array ([14,25,31])\n",
    "array2 = np.array([10])\n",
    "result = array1 + array2 \n",
    "print(result)"
   ]
  },
  {
   "cell_type": "code",
   "execution_count": 22,
   "metadata": {},
   "outputs": [
    {
     "name": "stdout",
     "output_type": "stream",
     "text": [
      "[[14  5 10  1]\n",
      " [18 18  1  2]\n",
      " [13  4 17  5]]\n",
      "after bradcasting\n",
      "[[24 15 20 11]\n",
      " [28 28 11 12]\n",
      " [23 14 27 15]]\n"
     ]
    }
   ],
   "source": [
    "\n",
    "array1 = np.random.randint(1,20, size = (3,4))\n",
    "print(array1)\n",
    "\n",
    "array2 = np.array([10])\n",
    "\n",
    "print(\"after bradcasting\")\n",
    "result = array1 + array2 \n",
    "print(result)"
   ]
  },
  {
   "cell_type": "code",
   "execution_count": 23,
   "metadata": {},
   "outputs": [
    {
     "name": "stdout",
     "output_type": "stream",
     "text": [
      "[[ 8  7 16  3]\n",
      " [ 2 18 12 13]\n",
      " [ 2 19 17  7]]\n",
      "after bradcasting\n",
      "[[13 17 36 28]\n",
      " [ 7 28 32 38]\n",
      " [ 7 29 37 32]]\n"
     ]
    }
   ],
   "source": [
    "\n",
    "array1 = np.random.randint(1,20, size = (3,4))\n",
    "print(array1)\n",
    "\n",
    "array2 = np.array([5,10,20,25])\n",
    "\n",
    "print(\"after bradcasting\")\n",
    "result = array1 + array2 \n",
    "print(result)"
   ]
  },
  {
   "cell_type": "code",
   "execution_count": 24,
   "metadata": {},
   "outputs": [
    {
     "name": "stdout",
     "output_type": "stream",
     "text": [
      "[[15 10 18  3]\n",
      " [ 1 11  4 12]\n",
      " [ 1 16  2  9]]\n",
      "after bradcasting\n",
      "[[20 15 23  8]\n",
      " [11 21 14 22]\n",
      " [21 36 22 29]]\n"
     ]
    }
   ],
   "source": [
    "array1 = np.random.randint(1,20, size = (3,4))\n",
    "print(array1)\n",
    "\n",
    "array2 = np.array([[5],[10],[20]])\n",
    "\n",
    "print(\"after bradcasting\")\n",
    "result = array1 + array2 \n",
    "print(result)"
   ]
  },
  {
   "cell_type": "markdown",
   "metadata": {},
   "source": [
    "## 3.5. Copying NumPy Arrays"
   ]
  },
  {
   "cell_type": "code",
   "execution_count": 25,
   "metadata": {},
   "outputs": [
    {
     "name": "stdout",
     "output_type": "stream",
     "text": [
      "[10 12 14 16 18 20]\n",
      "[10 20 14 16 18 20]\n"
     ]
    }
   ],
   "source": [
    "import numpy as np\n",
    "array1 = np.array([10,12,14,16,18,20])\n",
    "\n",
    "array2 = array1.copy()\n",
    "array2[1] = 20\n",
    "\n",
    "print(array1)\n",
    "print(array2)"
   ]
  },
  {
   "cell_type": "code",
   "execution_count": 26,
   "metadata": {},
   "outputs": [
    {
     "name": "stdout",
     "output_type": "stream",
     "text": [
      "[10 12 14 16 18 20]\n",
      "[10 20 14 16 18 20]\n"
     ]
    }
   ],
   "source": [
    "array1 = np.array([10,12,14,16,18,20])\n",
    "\n",
    "array2 = np.copy(array1)\n",
    "array2[1] = 20\n",
    "\n",
    "print(array1)\n",
    "print(array2)"
   ]
  },
  {
   "cell_type": "code",
   "execution_count": 27,
   "metadata": {},
   "outputs": [
    {
     "name": "stdout",
     "output_type": "stream",
     "text": [
      "[10 20 14 16 18 20]\n",
      "[10 20 14 16 18 20]\n"
     ]
    }
   ],
   "source": [
    "array1 = np.array([10,12,14,16,18,20])\n",
    "\n",
    "array2 = array1.view()\n",
    "array2[1] = 20\n",
    "\n",
    "print(array1)\n",
    "print(array2)"
   ]
  },
  {
   "cell_type": "markdown",
   "metadata": {},
   "source": [
    "## 3.6. NumPy I/O Operations"
   ]
  },
  {
   "cell_type": "markdown",
   "metadata": {},
   "source": [
    "### 3.6.1. Saving a NumPy Array"
   ]
  },
  {
   "cell_type": "code",
   "execution_count": 33,
   "metadata": {},
   "outputs": [],
   "source": [
    "import numpy as np\n",
    "array1 = np.array([10,12,14,16,18,20])\n",
    "\n",
    "np.save(\"c:/temp/my_array\", array1)"
   ]
  },
  {
   "cell_type": "code",
   "execution_count": 34,
   "metadata": {},
   "outputs": [],
   "source": [
    "import numpy as np\n",
    "array1 = np.array([10,12,14,16,18,20])\n",
    "\n",
    "np.savetxt(\"c:/temp/my_array.txt\", array1)"
   ]
  },
  {
   "cell_type": "markdown",
   "metadata": {},
   "source": [
    "### 3.6.2. Loading a NumPy Array"
   ]
  },
  {
   "cell_type": "code",
   "execution_count": 35,
   "metadata": {},
   "outputs": [
    {
     "name": "stdout",
     "output_type": "stream",
     "text": [
      "[10 12 14 16 18 20]\n"
     ]
    }
   ],
   "source": [
    "import numpy as np\n",
    "loaded_array = np.load(\"c:/temp/my_array.npy\")\n",
    "print(loaded_array)"
   ]
  },
  {
   "cell_type": "code",
   "execution_count": 36,
   "metadata": {},
   "outputs": [
    {
     "name": "stdout",
     "output_type": "stream",
     "text": [
      "[10. 12. 14. 16. 18. 20.]\n"
     ]
    }
   ],
   "source": [
    "import numpy as np\n",
    "loaded_array = np.loadtxt(\"c:/temp/my_array.txt\")\n",
    "print(loaded_array)"
   ]
  },
  {
   "cell_type": "markdown",
   "metadata": {},
   "source": [
    "## Exercise 3.1"
   ]
  },
  {
   "cell_type": "markdown",
   "metadata": {},
   "source": [
    "\n",
    "**Question 1:**\n",
    "\n",
    "Which function is used to convert a multi-dimensional NumPy array into a flat array of 1-dimension?\n",
    "\n",
    "A- np.reshape(0)\n",
    "\n",
    "B- np.reshape(-1)\n",
    "\n",
    "C- np.reshape(1)\n",
    "\n",
    "D- None of the Above\n",
    "\n",
    "Answer: B\n",
    "\n",
    "\n",
    "**Question 2:**\n",
    "\n",
    "Which function is used to save a NumPy array in text format?\n",
    "\n",
    "A- np.savetext()\n",
    "\n",
    "B- np.saveText()\n",
    "\n",
    "C- np.saveTxt()\n",
    "\n",
    "D- np.savetxt()\n",
    "\n",
    "Answer: D\n",
    "\n",
    "\n",
    "**Question 3:**\n",
    "\n",
    "To sort a NumPy array in descending order, you can use the following function:\n",
    "\n",
    "A- np.flipud(np.sort(my_array))\n",
    "\n",
    "B- np.sort(np.flip(my_array))\n",
    "\n",
    "C- np.sort()\n",
    "\n",
    "D- np.flip()\n",
    "\n",
    "Answer: A"
   ]
  },
  {
   "cell_type": "markdown",
   "metadata": {},
   "source": [
    "## Exercise 3.2"
   ]
  },
  {
   "cell_type": "markdown",
   "metadata": {},
   "source": [
    "Create a random NumPy array of 4 rows and 5 columns. Using array indexing and slicing, display the items from row 3 to end and column 2 to end.\n",
    "\n",
    "**Solution:**"
   ]
  },
  {
   "cell_type": "code",
   "execution_count": 37,
   "metadata": {},
   "outputs": [
    {
     "name": "stdout",
     "output_type": "stream",
     "text": [
      "[[0.22274888 0.94708108 0.91456799 0.10947778 0.11966606]\n",
      " [0.28615944 0.5837256  0.83659242 0.56185408 0.95183326]\n",
      " [0.08608761 0.79592315 0.26014112 0.14017445 0.31678948]\n",
      " [0.20683328 0.82228997 0.80852221 0.37544098 0.81976294]]\n",
      "Result\n",
      "[[0.79592315 0.26014112 0.14017445 0.31678948]\n",
      " [0.82228997 0.80852221 0.37544098 0.81976294]]\n"
     ]
    }
   ],
   "source": [
    "uniform_random = np.random.rand(4, 5)\n",
    "print(uniform_random)\n",
    "print(\"Result\")\n",
    "print(uniform_random[2:,1:])"
   ]
  },
  {
   "cell_type": "code",
   "execution_count": null,
   "metadata": {},
   "outputs": [],
   "source": []
  }
 ],
 "metadata": {
  "kernelspec": {
   "display_name": "Python 3",
   "language": "python",
   "name": "python3"
  },
  "language_info": {
   "codemirror_mode": {
    "name": "ipython",
    "version": 3
   },
   "file_extension": ".py",
   "mimetype": "text/x-python",
   "name": "python",
   "nbconvert_exporter": "python",
   "pygments_lexer": "ipython3",
   "version": "3.8.8"
  }
 },
 "nbformat": 4,
 "nbformat_minor": 4
}
