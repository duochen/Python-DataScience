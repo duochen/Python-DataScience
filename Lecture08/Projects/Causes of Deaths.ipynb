{
 "cells": [
  {
   "cell_type": "code",
   "execution_count": 1,
   "metadata": {},
   "outputs": [],
   "source": [
    "# Import required libraries\n",
    "import pandas as pd"
   ]
  },
  {
   "cell_type": "code",
   "execution_count": 6,
   "metadata": {},
   "outputs": [
    {
     "data": {
      "text/html": [
       "<div>\n",
       "<style scoped>\n",
       "    .dataframe tbody tr th:only-of-type {\n",
       "        vertical-align: middle;\n",
       "    }\n",
       "\n",
       "    .dataframe tbody tr th {\n",
       "        vertical-align: top;\n",
       "    }\n",
       "\n",
       "    .dataframe thead th {\n",
       "        text-align: right;\n",
       "    }\n",
       "</style>\n",
       "<table border=\"1\" class=\"dataframe\">\n",
       "  <thead>\n",
       "    <tr style=\"text-align: right;\">\n",
       "      <th></th>\n",
       "      <th>Year</th>\n",
       "      <th>113 Cause Name</th>\n",
       "      <th>Cause Name</th>\n",
       "      <th>State</th>\n",
       "      <th>Deaths</th>\n",
       "      <th>Age-adjusted Death Rate</th>\n",
       "    </tr>\n",
       "  </thead>\n",
       "  <tbody>\n",
       "    <tr>\n",
       "      <td>0</td>\n",
       "      <td>1999</td>\n",
       "      <td>Accidents (unintentional injuries) (V01-X59,Y8...</td>\n",
       "      <td>Unintentional Injuries</td>\n",
       "      <td>Alabama</td>\n",
       "      <td>2313.0</td>\n",
       "      <td>52.2</td>\n",
       "    </tr>\n",
       "    <tr>\n",
       "      <td>1</td>\n",
       "      <td>1999</td>\n",
       "      <td>Accidents (unintentional injuries) (V01-X59,Y8...</td>\n",
       "      <td>Unintentional Injuries</td>\n",
       "      <td>Alaska</td>\n",
       "      <td>294.0</td>\n",
       "      <td>55.9</td>\n",
       "    </tr>\n",
       "    <tr>\n",
       "      <td>2</td>\n",
       "      <td>1999</td>\n",
       "      <td>Accidents (unintentional injuries) (V01-X59,Y8...</td>\n",
       "      <td>Unintentional Injuries</td>\n",
       "      <td>Arizona</td>\n",
       "      <td>2214.0</td>\n",
       "      <td>44.8</td>\n",
       "    </tr>\n",
       "  </tbody>\n",
       "</table>\n",
       "</div>"
      ],
      "text/plain": [
       "   Year                                     113 Cause Name  \\\n",
       "0  1999  Accidents (unintentional injuries) (V01-X59,Y8...   \n",
       "1  1999  Accidents (unintentional injuries) (V01-X59,Y8...   \n",
       "2  1999  Accidents (unintentional injuries) (V01-X59,Y8...   \n",
       "\n",
       "               Cause Name    State  Deaths  Age-adjusted Death Rate  \n",
       "0  Unintentional Injuries  Alabama  2313.0                     52.2  \n",
       "1  Unintentional Injuries   Alaska   294.0                     55.9  \n",
       "2  Unintentional Injuries  Arizona  2214.0                     44.8  "
      ]
     },
     "execution_count": 6,
     "metadata": {},
     "output_type": "execute_result"
    }
   ],
   "source": [
    "# Read the data from the csv file\n",
    "url = 'https://raw.githubusercontent.com/duochen/Python-DataScience/master/Lecture08/Projects/NCHS.csv'\n",
    "data=pd.read_csv(url)\n",
    "data.head(3)"
   ]
  },
  {
   "cell_type": "code",
   "execution_count": 7,
   "metadata": {},
   "outputs": [
    {
     "data": {
      "text/plain": [
       "(15028, 6)"
      ]
     },
     "execution_count": 7,
     "metadata": {},
     "output_type": "execute_result"
    }
   ],
   "source": [
    "# Check the rows and columns\n",
    "data.shape"
   ]
  },
  {
   "cell_type": "code",
   "execution_count": 8,
   "metadata": {},
   "outputs": [],
   "source": [
    "# Remove all rows with na cases\n",
    "data = data.dropna()"
   ]
  },
  {
   "cell_type": "code",
   "execution_count": 9,
   "metadata": {},
   "outputs": [
    {
     "data": {
      "text/plain": [
       "(14917, 6)"
      ]
     },
     "execution_count": 9,
     "metadata": {},
     "output_type": "execute_result"
    }
   ],
   "source": [
    "# Check the rows and columns again\n",
    "data.shape"
   ]
  },
  {
   "cell_type": "code",
   "execution_count": 10,
   "metadata": {},
   "outputs": [
    {
     "data": {
      "text/plain": [
       "array(['Unintentional Injuries', 'All Causes', \"Alzheimer's disease\",\n",
       "       'Homicide', 'Stroke', 'Chronic liver disease and cirrhosis',\n",
       "       'CLRD', 'Diabetes', 'Diseases of Heart',\n",
       "       'Essential hypertension and hypertensive renal disease',\n",
       "       'Influenza and pneumonia', 'Cancer', 'Suicide', 'Kidney Disease',\n",
       "       \"Parkinson's disease\", 'Pneumonitis due to solids and liquids',\n",
       "       'Septicemia'], dtype=object)"
      ]
     },
     "execution_count": 10,
     "metadata": {},
     "output_type": "execute_result"
    }
   ],
   "source": [
    "# Approximately 14917 death cases were recorded in different U.S. states.\n",
    "# What were the causes of death in this dataset?\n",
    "causes = data['Cause Name'].unique()\n",
    "causes"
   ]
  },
  {
   "cell_type": "code",
   "execution_count": 11,
   "metadata": {},
   "outputs": [
    {
     "data": {
      "text/plain": [
       "array(['Unintentional Injuries', \"Alzheimer's disease\", 'Homicide',\n",
       "       'Stroke', 'Chronic liver disease and cirrhosis', 'CLRD',\n",
       "       'Diabetes', 'Diseases of Heart',\n",
       "       'Essential hypertension and hypertensive renal disease',\n",
       "       'Influenza and pneumonia', 'Cancer', 'Suicide', 'Kidney Disease',\n",
       "       \"Parkinson's disease\", 'Pneumonitis due to solids and liquids',\n",
       "       'Septicemia'], dtype=object)"
      ]
     },
     "execution_count": 11,
     "metadata": {},
     "output_type": "execute_result"
    }
   ],
   "source": [
    "# Remove 'All Causes' from the Cause Name column\n",
    "data = data[data['Cause Name'] != 'All Causes']\n",
    "causes = data['Cause Name'].unique()\n",
    "causes"
   ]
  },
  {
   "cell_type": "code",
   "execution_count": 12,
   "metadata": {},
   "outputs": [
    {
     "data": {
      "text/plain": [
       "16"
      ]
     },
     "execution_count": 12,
     "metadata": {},
     "output_type": "execute_result"
    }
   ],
   "source": [
    "# How many death causes according to the data set?\n",
    "len(causes)"
   ]
  },
  {
   "cell_type": "code",
   "execution_count": 14,
   "metadata": {},
   "outputs": [
    {
     "data": {
      "text/plain": [
       "array(['Alabama', 'Alaska', 'Arizona', 'Arkansas', 'California',\n",
       "       'Colorado', 'Connecticut', 'Delaware', 'District of Columbia',\n",
       "       'Florida', 'Georgia', 'Hawaii', 'Idaho', 'Illinois', 'Indiana',\n",
       "       'Iowa', 'Kansas', 'Kentucky', 'Louisiana', 'Maine', 'Maryland',\n",
       "       'Massachusetts', 'Michigan', 'Minnesota', 'Mississippi',\n",
       "       'Missouri', 'Montana', 'Nebraska', 'Nevada', 'New Hampshire',\n",
       "       'New Jersey', 'New Mexico', 'New York', 'North Carolina',\n",
       "       'North Dakota', 'Ohio', 'Oklahoma', 'Oregon', 'Pennsylvania',\n",
       "       'Rhode Island', 'South Carolina', 'South Dakota', 'Tennessee',\n",
       "       'Texas', 'United States', 'Utah', 'Vermont', 'Virginia',\n",
       "       'Washington', 'West Virginia', 'Wisconsin', 'Wyoming'],\n",
       "      dtype=object)"
      ]
     },
     "execution_count": 14,
     "metadata": {},
     "output_type": "execute_result"
    }
   ],
   "source": [
    "# Find all the states\n",
    "states = data['State'].unique()\n",
    "states"
   ]
  },
  {
   "cell_type": "code",
   "execution_count": 15,
   "metadata": {},
   "outputs": [
    {
     "data": {
      "text/plain": [
       "array(['Alabama', 'Alaska', 'Arizona', 'Arkansas', 'California',\n",
       "       'Colorado', 'Connecticut', 'Delaware', 'District of Columbia',\n",
       "       'Florida', 'Georgia', 'Hawaii', 'Idaho', 'Illinois', 'Indiana',\n",
       "       'Iowa', 'Kansas', 'Kentucky', 'Louisiana', 'Maine', 'Maryland',\n",
       "       'Massachusetts', 'Michigan', 'Minnesota', 'Mississippi',\n",
       "       'Missouri', 'Montana', 'Nebraska', 'Nevada', 'New Hampshire',\n",
       "       'New Jersey', 'New Mexico', 'New York', 'North Carolina',\n",
       "       'North Dakota', 'Ohio', 'Oklahoma', 'Oregon', 'Pennsylvania',\n",
       "       'Rhode Island', 'South Carolina', 'South Dakota', 'Tennessee',\n",
       "       'Texas', 'Utah', 'Vermont', 'Virginia', 'Washington',\n",
       "       'West Virginia', 'Wisconsin', 'Wyoming'], dtype=object)"
      ]
     },
     "execution_count": 15,
     "metadata": {},
     "output_type": "execute_result"
    }
   ],
   "source": [
    "# Remove \"United States\"\n",
    "data1 = data[data['State'] != 'United States']\n",
    "states = data1['State'].unique()\n",
    "states"
   ]
  },
  {
   "cell_type": "code",
   "execution_count": 16,
   "metadata": {},
   "outputs": [
    {
     "data": {
      "text/plain": [
       "51"
      ]
     },
     "execution_count": 16,
     "metadata": {},
     "output_type": "execute_result"
    }
   ],
   "source": [
    "# How many states in the data set?\n",
    "len(states)"
   ]
  },
  {
   "cell_type": "code",
   "execution_count": 17,
   "metadata": {},
   "outputs": [
    {
     "data": {
      "text/plain": [
       "69279057.0"
      ]
     },
     "execution_count": 17,
     "metadata": {},
     "output_type": "execute_result"
    }
   ],
   "source": [
    "# What was the total number of deaths in the United States from 1999 to 2015?\n",
    "data['Deaths'].sum()"
   ]
  },
  {
   "cell_type": "code",
   "execution_count": 18,
   "metadata": {},
   "outputs": [
    {
     "data": {
      "text/html": [
       "<div>\n",
       "<style scoped>\n",
       "    .dataframe tbody tr th:only-of-type {\n",
       "        vertical-align: middle;\n",
       "    }\n",
       "\n",
       "    .dataframe tbody tr th {\n",
       "        vertical-align: top;\n",
       "    }\n",
       "\n",
       "    .dataframe thead th {\n",
       "        text-align: right;\n",
       "    }\n",
       "</style>\n",
       "<table border=\"1\" class=\"dataframe\">\n",
       "  <thead>\n",
       "    <tr style=\"text-align: right;\">\n",
       "      <th></th>\n",
       "      <th>Deaths</th>\n",
       "      <th>Age-adjusted Death Rate</th>\n",
       "    </tr>\n",
       "    <tr>\n",
       "      <th>Year</th>\n",
       "      <th></th>\n",
       "      <th></th>\n",
       "    </tr>\n",
       "  </thead>\n",
       "  <tbody>\n",
       "    <tr>\n",
       "      <td>1999</td>\n",
       "      <td>4052876.0</td>\n",
       "      <td>38550.3</td>\n",
       "    </tr>\n",
       "    <tr>\n",
       "      <td>2000</td>\n",
       "      <td>4054097.0</td>\n",
       "      <td>38136.3</td>\n",
       "    </tr>\n",
       "    <tr>\n",
       "      <td>2001</td>\n",
       "      <td>4063971.0</td>\n",
       "      <td>37645.3</td>\n",
       "    </tr>\n",
       "    <tr>\n",
       "      <td>2002</td>\n",
       "      <td>4104796.0</td>\n",
       "      <td>37503.0</td>\n",
       "    </tr>\n",
       "    <tr>\n",
       "      <td>2003</td>\n",
       "      <td>4097245.0</td>\n",
       "      <td>36904.3</td>\n",
       "    </tr>\n",
       "    <tr>\n",
       "      <td>2004</td>\n",
       "      <td>3999321.0</td>\n",
       "      <td>35359.7</td>\n",
       "    </tr>\n",
       "    <tr>\n",
       "      <td>2005</td>\n",
       "      <td>4062908.0</td>\n",
       "      <td>35368.7</td>\n",
       "    </tr>\n",
       "    <tr>\n",
       "      <td>2006</td>\n",
       "      <td>3990647.0</td>\n",
       "      <td>34113.0</td>\n",
       "    </tr>\n",
       "    <tr>\n",
       "      <td>2007</td>\n",
       "      <td>3979212.0</td>\n",
       "      <td>33405.3</td>\n",
       "    </tr>\n",
       "    <tr>\n",
       "      <td>2008</td>\n",
       "      <td>4038942.0</td>\n",
       "      <td>33270.1</td>\n",
       "    </tr>\n",
       "    <tr>\n",
       "      <td>2009</td>\n",
       "      <td>3967369.0</td>\n",
       "      <td>32052.5</td>\n",
       "    </tr>\n",
       "    <tr>\n",
       "      <td>2010</td>\n",
       "      <td>4001895.0</td>\n",
       "      <td>31929.8</td>\n",
       "    </tr>\n",
       "    <tr>\n",
       "      <td>2011</td>\n",
       "      <td>4048145.0</td>\n",
       "      <td>31522.9</td>\n",
       "    </tr>\n",
       "    <tr>\n",
       "      <td>2012</td>\n",
       "      <td>4069794.0</td>\n",
       "      <td>30965.9</td>\n",
       "    </tr>\n",
       "    <tr>\n",
       "      <td>2013</td>\n",
       "      <td>4151064.0</td>\n",
       "      <td>30930.9</td>\n",
       "    </tr>\n",
       "    <tr>\n",
       "      <td>2014</td>\n",
       "      <td>4213058.0</td>\n",
       "      <td>30862.1</td>\n",
       "    </tr>\n",
       "    <tr>\n",
       "      <td>2015</td>\n",
       "      <td>4383717.0</td>\n",
       "      <td>31496.7</td>\n",
       "    </tr>\n",
       "  </tbody>\n",
       "</table>\n",
       "</div>"
      ],
      "text/plain": [
       "         Deaths  Age-adjusted Death Rate\n",
       "Year                                    \n",
       "1999  4052876.0                  38550.3\n",
       "2000  4054097.0                  38136.3\n",
       "2001  4063971.0                  37645.3\n",
       "2002  4104796.0                  37503.0\n",
       "2003  4097245.0                  36904.3\n",
       "2004  3999321.0                  35359.7\n",
       "2005  4062908.0                  35368.7\n",
       "2006  3990647.0                  34113.0\n",
       "2007  3979212.0                  33405.3\n",
       "2008  4038942.0                  33270.1\n",
       "2009  3967369.0                  32052.5\n",
       "2010  4001895.0                  31929.8\n",
       "2011  4048145.0                  31522.9\n",
       "2012  4069794.0                  30965.9\n",
       "2013  4151064.0                  30930.9\n",
       "2014  4213058.0                  30862.1\n",
       "2015  4383717.0                  31496.7"
      ]
     },
     "execution_count": 18,
     "metadata": {},
     "output_type": "execute_result"
    }
   ],
   "source": [
    "# What is the number of deaths for each year from 1999 to 2015?\n",
    "dyear = data.groupby(['Year']).sum()\n",
    "dyear"
   ]
  },
  {
   "cell_type": "code",
   "execution_count": 21,
   "metadata": {},
   "outputs": [
    {
     "data": {
      "text/plain": [
       "<matplotlib.axes._subplots.AxesSubplot at 0x115b614f948>"
      ]
     },
     "execution_count": 21,
     "metadata": {},
     "output_type": "execute_result"
    },
    {
     "data": {
      "image/png": "[encoded data removed]",
      "text/plain": [
       "<Figure size 432x288 with 1 Axes>"
      ]
     },
     "metadata": {
      "needs_background": "light"
     },
     "output_type": "display_data"
    }
   ],
   "source": [
    "# Plot deaths per yer\n",
    "dyear[\"Deaths\"].plot(title=\"Death per year \\n 1999-2015\")"
   ]
  },
  {
   "cell_type": "code",
   "execution_count": 22,
   "metadata": {},
   "outputs": [
    {
     "data": {
      "text/html": [
       "<div>\n",
       "<style scoped>\n",
       "    .dataframe tbody tr th:only-of-type {\n",
       "        vertical-align: middle;\n",
       "    }\n",
       "\n",
       "    .dataframe tbody tr th {\n",
       "        vertical-align: top;\n",
       "    }\n",
       "\n",
       "    .dataframe thead th {\n",
       "        text-align: right;\n",
       "    }\n",
       "</style>\n",
       "<table border=\"1\" class=\"dataframe\">\n",
       "  <thead>\n",
       "    <tr style=\"text-align: right;\">\n",
       "      <th></th>\n",
       "      <th>Year</th>\n",
       "      <th>Deaths</th>\n",
       "      <th>Age-adjusted Death Rate</th>\n",
       "    </tr>\n",
       "    <tr>\n",
       "      <th>State</th>\n",
       "      <th></th>\n",
       "      <th></th>\n",
       "      <th></th>\n",
       "    </tr>\n",
       "  </thead>\n",
       "  <tbody>\n",
       "    <tr>\n",
       "      <td>California</td>\n",
       "      <td>545904</td>\n",
       "      <td>3422459.0</td>\n",
       "      <td>10101.2</td>\n",
       "    </tr>\n",
       "    <tr>\n",
       "      <td>Florida</td>\n",
       "      <td>545904</td>\n",
       "      <td>2397507.0</td>\n",
       "      <td>10156.8</td>\n",
       "    </tr>\n",
       "    <tr>\n",
       "      <td>Texas</td>\n",
       "      <td>545904</td>\n",
       "      <td>2270961.0</td>\n",
       "      <td>11339.7</td>\n",
       "    </tr>\n",
       "    <tr>\n",
       "      <td>New York</td>\n",
       "      <td>545904</td>\n",
       "      <td>2170019.0</td>\n",
       "      <td>10226.5</td>\n",
       "    </tr>\n",
       "    <tr>\n",
       "      <td>Pennsylvania</td>\n",
       "      <td>545904</td>\n",
       "      <td>1785982.0</td>\n",
       "      <td>11334.1</td>\n",
       "    </tr>\n",
       "    <tr>\n",
       "      <td>Ohio</td>\n",
       "      <td>545904</td>\n",
       "      <td>1529552.0</td>\n",
       "      <td>11931.3</td>\n",
       "    </tr>\n",
       "    <tr>\n",
       "      <td>Illinois</td>\n",
       "      <td>545904</td>\n",
       "      <td>1460489.0</td>\n",
       "      <td>11170.8</td>\n",
       "    </tr>\n",
       "    <tr>\n",
       "      <td>Michigan</td>\n",
       "      <td>545904</td>\n",
       "      <td>1248155.0</td>\n",
       "      <td>11645.7</td>\n",
       "    </tr>\n",
       "    <tr>\n",
       "      <td>North Carolina</td>\n",
       "      <td>545904</td>\n",
       "      <td>1063835.0</td>\n",
       "      <td>11737.3</td>\n",
       "    </tr>\n",
       "    <tr>\n",
       "      <td>New Jersey</td>\n",
       "      <td>545904</td>\n",
       "      <td>1003709.0</td>\n",
       "      <td>10446.7</td>\n",
       "    </tr>\n",
       "  </tbody>\n",
       "</table>\n",
       "</div>"
      ],
      "text/plain": [
       "                  Year     Deaths  Age-adjusted Death Rate\n",
       "State                                                     \n",
       "California      545904  3422459.0                  10101.2\n",
       "Florida         545904  2397507.0                  10156.8\n",
       "Texas           545904  2270961.0                  11339.7\n",
       "New York        545904  2170019.0                  10226.5\n",
       "Pennsylvania    545904  1785982.0                  11334.1\n",
       "Ohio            545904  1529552.0                  11931.3\n",
       "Illinois        545904  1460489.0                  11170.8\n",
       "Michigan        545904  1248155.0                  11645.7\n",
       "North Carolina  545904  1063835.0                  11737.3\n",
       "New Jersey      545904  1003709.0                  10446.7"
      ]
     },
     "execution_count": 22,
     "metadata": {},
     "output_type": "execute_result"
    }
   ],
   "source": [
    "# Which ten states had the highest number fo deaths overall?\n",
    "data1 = data[data[\"State\"] != \"United States\"]\n",
    "dataset2 = data1.groupby(\"State\").sum()\n",
    "dataset2.sort_values(\"Deaths\", ascending=False,inplace=True)\n",
    "dataset2.head(10)"
   ]
  },
  {
   "cell_type": "code",
   "execution_count": 23,
   "metadata": {},
   "outputs": [
    {
     "data": {
      "text/plain": [
       "<matplotlib.axes._subplots.AxesSubplot at 0x115b61c4c48>"
      ]
     },
     "execution_count": 23,
     "metadata": {},
     "output_type": "execute_result"
    },
    {
     "data": {
      "image/png": "[encoded data removed]",
      "text/plain": [
       "<Figure size 432x288 with 1 Axes>"
      ]
     },
     "metadata": {
      "needs_background": "light"
     },
     "output_type": "display_data"
    }
   ],
   "source": [
    "# Plot top ten states with highest death number\n",
    "dataset2[\"Deaths\"].head(10).plot.bar(title=\"Top ten states with highest death number \\n1999-2015\")"
   ]
  },
  {
   "cell_type": "code",
   "execution_count": 24,
   "metadata": {},
   "outputs": [
    {
     "data": {
      "text/html": [
       "<div>\n",
       "<style scoped>\n",
       "    .dataframe tbody tr th:only-of-type {\n",
       "        vertical-align: middle;\n",
       "    }\n",
       "\n",
       "    .dataframe tbody tr th {\n",
       "        vertical-align: top;\n",
       "    }\n",
       "\n",
       "    .dataframe thead th {\n",
       "        text-align: right;\n",
       "    }\n",
       "</style>\n",
       "<table border=\"1\" class=\"dataframe\">\n",
       "  <thead>\n",
       "    <tr style=\"text-align: right;\">\n",
       "      <th></th>\n",
       "      <th>Year</th>\n",
       "      <th>Deaths</th>\n",
       "      <th>Age-adjusted Death Rate</th>\n",
       "    </tr>\n",
       "    <tr>\n",
       "      <th>Cause Name</th>\n",
       "      <th></th>\n",
       "      <th></th>\n",
       "      <th></th>\n",
       "    </tr>\n",
       "  </thead>\n",
       "  <tbody>\n",
       "    <tr>\n",
       "      <td>Diseases of Heart</td>\n",
       "      <td>1774188</td>\n",
       "      <td>21879846.0</td>\n",
       "      <td>178315.3</td>\n",
       "    </tr>\n",
       "    <tr>\n",
       "      <td>Cancer</td>\n",
       "      <td>1774188</td>\n",
       "      <td>19292996.0</td>\n",
       "      <td>160163.8</td>\n",
       "    </tr>\n",
       "    <tr>\n",
       "      <td>Stroke</td>\n",
       "      <td>1774188</td>\n",
       "      <td>4875996.0</td>\n",
       "      <td>41458.8</td>\n",
       "    </tr>\n",
       "    <tr>\n",
       "      <td>CLRD</td>\n",
       "      <td>1774188</td>\n",
       "      <td>4560260.0</td>\n",
       "      <td>39545.5</td>\n",
       "    </tr>\n",
       "    <tr>\n",
       "      <td>Unintentional Injuries</td>\n",
       "      <td>1774188</td>\n",
       "      <td>4033020.0</td>\n",
       "      <td>37368.6</td>\n",
       "    </tr>\n",
       "    <tr>\n",
       "      <td>Alzheimer's disease</td>\n",
       "      <td>1774188</td>\n",
       "      <td>2514618.0</td>\n",
       "      <td>21435.6</td>\n",
       "    </tr>\n",
       "    <tr>\n",
       "      <td>Diabetes</td>\n",
       "      <td>1774188</td>\n",
       "      <td>2472642.0</td>\n",
       "      <td>20851.9</td>\n",
       "    </tr>\n",
       "    <tr>\n",
       "      <td>Influenza and pneumonia</td>\n",
       "      <td>1774188</td>\n",
       "      <td>1974864.0</td>\n",
       "      <td>16498.5</td>\n",
       "    </tr>\n",
       "    <tr>\n",
       "      <td>Kidney Disease</td>\n",
       "      <td>1774188</td>\n",
       "      <td>1515868.0</td>\n",
       "      <td>12555.4</td>\n",
       "    </tr>\n",
       "    <tr>\n",
       "      <td>Suicide</td>\n",
       "      <td>1774188</td>\n",
       "      <td>1209756.0</td>\n",
       "      <td>11580.1</td>\n",
       "    </tr>\n",
       "  </tbody>\n",
       "</table>\n",
       "</div>"
      ],
      "text/plain": [
       "                            Year      Deaths  Age-adjusted Death Rate\n",
       "Cause Name                                                           \n",
       "Diseases of Heart        1774188  21879846.0                 178315.3\n",
       "Cancer                   1774188  19292996.0                 160163.8\n",
       "Stroke                   1774188   4875996.0                  41458.8\n",
       "CLRD                     1774188   4560260.0                  39545.5\n",
       "Unintentional Injuries   1774188   4033020.0                  37368.6\n",
       "Alzheimer's disease      1774188   2514618.0                  21435.6\n",
       "Diabetes                 1774188   2472642.0                  20851.9\n",
       "Influenza and pneumonia  1774188   1974864.0                  16498.5\n",
       "Kidney Disease           1774188   1515868.0                  12555.4\n",
       "Suicide                  1774188   1209756.0                  11580.1"
      ]
     },
     "execution_count": 24,
     "metadata": {},
     "output_type": "execute_result"
    }
   ],
   "source": [
    "# What were the top causes of deaths in the United States during this period?\n",
    "dataset1 = data[data[\"Cause Name\"] != \"All Causes\"]\n",
    "dataset2 = dataset1.groupby(\"Cause Name\").sum()\n",
    "dataset2.sort_values(\"Deaths\", ascending=False, inplace=True)\n",
    "dataset2.head(10)"
   ]
  },
  {
   "cell_type": "code",
   "execution_count": 25,
   "metadata": {},
   "outputs": [
    {
     "data": {
      "text/plain": [
       "<matplotlib.axes._subplots.AxesSubplot at 0x115b627c7c8>"
      ]
     },
     "execution_count": 25,
     "metadata": {},
     "output_type": "execute_result"
    },
    {
     "data": {
      "image/png": "[encoded data removed]",
      "text/plain": [
       "<Figure size 432x288 with 1 Axes>"
      ]
     },
     "metadata": {
      "needs_background": "light"
     },
     "output_type": "display_data"
    }
   ],
   "source": [
    "# Plot the top causes of deaths in the United States\n",
    "dataset2[\"Deaths\"].head(10).plot.bar(title=\"Top ten causes fo death in USA \\n 1999-2015\")"
   ]
  },
  {
   "cell_type": "code",
   "execution_count": null,
   "metadata": {},
   "outputs": [],
   "source": []
  }
 ],
 "metadata": {
  "kernelspec": {
   "display_name": "Python 3",
   "language": "python",
   "name": "python3"
  },
  "language_info": {
   "codemirror_mode": {
    "name": "ipython",
    "version": 3
   },
   "file_extension": ".py",
   "mimetype": "text/x-python",
   "name": "python",
   "nbconvert_exporter": "python",
   "pygments_lexer": "ipython3",
   "version": "3.7.4"
  }
 },
 "nbformat": 4,
 "nbformat_minor": 2
}
