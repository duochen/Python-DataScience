{
 "cells": [
  {
   "cell_type": "code",
   "execution_count": 1,
   "id": "e5138dc3",
   "metadata": {},
   "outputs": [],
   "source": [
    "import numpy as np"
   ]
  },
  {
   "cell_type": "code",
   "execution_count": 2,
   "id": "1cd8a925",
   "metadata": {},
   "outputs": [
    {
     "data": {
      "text/plain": [
       "array([0, 1, 2, 3, 4, 5, 6, 7, 8, 9])"
      ]
     },
     "execution_count": 2,
     "metadata": {},
     "output_type": "execute_result"
    }
   ],
   "source": [
    "freq = np.arange(10)\n",
    "freq"
   ]
  },
  {
   "cell_type": "code",
   "execution_count": 3,
   "id": "90c24bb5",
   "metadata": {},
   "outputs": [
    {
     "data": {
      "text/plain": [
       "array([[0, 1],\n",
       "       [2, 3],\n",
       "       [4, 5],\n",
       "       [6, 7],\n",
       "       [8, 9]])"
      ]
     },
     "execution_count": 3,
     "metadata": {},
     "output_type": "execute_result"
    }
   ],
   "source": [
    "np.reshape(freq, (5, 2))"
   ]
  },
  {
   "cell_type": "code",
   "execution_count": 4,
   "id": "01d49afd",
   "metadata": {},
   "outputs": [
    {
     "data": {
      "text/plain": [
       "array([0.67392036, 0.04774957, 0.79839799, 0.08751681, 0.92440052,\n",
       "       0.19361403, 0.13016206, 0.45145004, 0.28945575, 0.75767221])"
      ]
     },
     "execution_count": 4,
     "metadata": {},
     "output_type": "execute_result"
    }
   ],
   "source": [
    "values = np.random.rand(10)\n",
    "values"
   ]
  },
  {
   "cell_type": "code",
   "execution_count": 7,
   "id": "6b70d797",
   "metadata": {},
   "outputs": [
    {
     "data": {
      "text/plain": [
       "array([[0.67392036, 0.04774957, 0.79839799, 0.08751681, 0.92440052],\n",
       "       [0.19361403, 0.13016206, 0.45145004, 0.28945575, 0.75767221]])"
      ]
     },
     "execution_count": 7,
     "metadata": {},
     "output_type": "execute_result"
    }
   ],
   "source": [
    "np.reshape(values, (2, 5))"
   ]
  },
  {
   "cell_type": "code",
   "execution_count": 8,
   "id": "dd74783c",
   "metadata": {},
   "outputs": [
    {
     "data": {
      "text/plain": [
       "array([[0, 1, 2],\n",
       "       [3, 4, 5]])"
      ]
     },
     "execution_count": 8,
     "metadata": {},
     "output_type": "execute_result"
    }
   ],
   "source": [
    "np_array_2d = np.arange(0, 6).reshape((2,3))\n",
    "np_array_2d"
   ]
  },
  {
   "cell_type": "code",
   "execution_count": 9,
   "id": "057a3628",
   "metadata": {},
   "outputs": [
    {
     "data": {
      "text/plain": [
       "array([3, 5, 7])"
      ]
     },
     "execution_count": 9,
     "metadata": {},
     "output_type": "execute_result"
    }
   ],
   "source": [
    "# Sum with axis = 0\n",
    "np.sum(np_array_2d, axis=0)"
   ]
  },
  {
   "cell_type": "markdown",
   "id": "ea2a70e8",
   "metadata": {},
   "source": []
  },
  {
   "cell_type": "code",
   "execution_count": 10,
   "id": "214df3fb",
   "metadata": {},
   "outputs": [
    {
     "data": {
      "text/plain": [
       "array([ 3, 12])"
      ]
     },
     "execution_count": 10,
     "metadata": {},
     "output_type": "execute_result"
    }
   ],
   "source": [
    "# Sum with axis = 1\n",
    "np.sum(np_array_2d, axis=1)"
   ]
  },
  {
   "cell_type": "code",
   "execution_count": 11,
   "id": "785afc74",
   "metadata": {},
   "outputs": [
    {
     "data": {
      "text/plain": [
       "array([0.67392036, 0.04774957, 0.79839799, 0.08751681, 0.92440052,\n",
       "       0.19361403, 0.13016206, 0.45145004, 0.28945575, 0.75767221])"
      ]
     },
     "execution_count": 11,
     "metadata": {},
     "output_type": "execute_result"
    }
   ],
   "source": [
    "values"
   ]
  },
  {
   "cell_type": "code",
   "execution_count": 12,
   "id": "9c5d8560",
   "metadata": {},
   "outputs": [
    {
     "data": {
      "text/plain": [
       "0.9244005246697935"
      ]
     },
     "execution_count": 12,
     "metadata": {},
     "output_type": "execute_result"
    }
   ],
   "source": [
    "values.max()"
   ]
  },
  {
   "cell_type": "code",
   "execution_count": 13,
   "id": "03637202",
   "metadata": {},
   "outputs": [
    {
     "data": {
      "text/plain": [
       "4"
      ]
     },
     "execution_count": 13,
     "metadata": {},
     "output_type": "execute_result"
    }
   ],
   "source": [
    "values.argmax()"
   ]
  },
  {
   "cell_type": "code",
   "execution_count": 14,
   "id": "4482a5ef",
   "metadata": {},
   "outputs": [
    {
     "data": {
      "text/plain": [
       "0.04774956735373603"
      ]
     },
     "execution_count": 14,
     "metadata": {},
     "output_type": "execute_result"
    }
   ],
   "source": [
    "values.min()"
   ]
  },
  {
   "cell_type": "code",
   "execution_count": 15,
   "id": "5dc60f72",
   "metadata": {},
   "outputs": [
    {
     "data": {
      "text/plain": [
       "1"
      ]
     },
     "execution_count": 15,
     "metadata": {},
     "output_type": "execute_result"
    }
   ],
   "source": [
    "values.argmin()"
   ]
  },
  {
   "cell_type": "code",
   "execution_count": 16,
   "id": "bf38648e",
   "metadata": {},
   "outputs": [
    {
     "data": {
      "text/plain": [
       "array([0.67392036, 0.04774957, 0.79839799, 0.08751681, 0.92440052,\n",
       "       0.19361403, 0.13016206, 0.45145004, 0.28945575, 0.75767221])"
      ]
     },
     "execution_count": 16,
     "metadata": {},
     "output_type": "execute_result"
    }
   ],
   "source": [
    "values"
   ]
  },
  {
   "cell_type": "code",
   "execution_count": 17,
   "id": "8208b124",
   "metadata": {},
   "outputs": [
    {
     "data": {
      "text/plain": [
       "0.6739203556016369"
      ]
     },
     "execution_count": 17,
     "metadata": {},
     "output_type": "execute_result"
    }
   ],
   "source": [
    "values[0]"
   ]
  },
  {
   "cell_type": "code",
   "execution_count": 18,
   "id": "038ab914",
   "metadata": {},
   "outputs": [
    {
     "data": {
      "text/plain": [
       "0.7576722097479865"
      ]
     },
     "execution_count": 18,
     "metadata": {},
     "output_type": "execute_result"
    }
   ],
   "source": [
    "values[-1]"
   ]
  },
  {
   "cell_type": "code",
   "execution_count": 19,
   "id": "4b8ecdb9",
   "metadata": {},
   "outputs": [
    {
     "data": {
      "text/plain": [
       "array([0.04774957, 0.79839799])"
      ]
     },
     "execution_count": 19,
     "metadata": {},
     "output_type": "execute_result"
    }
   ],
   "source": [
    "values[1:3]"
   ]
  },
  {
   "cell_type": "code",
   "execution_count": 20,
   "id": "736a84d4",
   "metadata": {},
   "outputs": [
    {
     "data": {
      "text/plain": [
       "array([0.08751681, 0.92440052, 0.19361403, 0.13016206, 0.45145004])"
      ]
     },
     "execution_count": 20,
     "metadata": {},
     "output_type": "execute_result"
    }
   ],
   "source": [
    "values[3:8]"
   ]
  },
  {
   "cell_type": "code",
   "execution_count": 21,
   "id": "7cfaf449",
   "metadata": {},
   "outputs": [
    {
     "data": {
      "text/plain": [
       "[0, 1, 2, 3, 4, 5, 6, 7, 8, 9, 10]"
      ]
     },
     "execution_count": 21,
     "metadata": {},
     "output_type": "execute_result"
    }
   ],
   "source": [
    "num_list = list(range(11))\n",
    "num_list"
   ]
  },
  {
   "cell_type": "code",
   "execution_count": 22,
   "id": "4ad2f20d",
   "metadata": {},
   "outputs": [
    {
     "data": {
      "text/plain": [
       "list"
      ]
     },
     "execution_count": 22,
     "metadata": {},
     "output_type": "execute_result"
    }
   ],
   "source": [
    "type(num_list)"
   ]
  },
  {
   "cell_type": "code",
   "execution_count": 23,
   "id": "ae3eb9a2",
   "metadata": {},
   "outputs": [
    {
     "data": {
      "text/plain": [
       "[0, 1, 2, 3]"
      ]
     },
     "execution_count": 23,
     "metadata": {},
     "output_type": "execute_result"
    }
   ],
   "source": [
    "list_slice = num_list[:4]\n",
    "list_slice"
   ]
  },
  {
   "cell_type": "code",
   "execution_count": 26,
   "id": "1998f55f",
   "metadata": {},
   "outputs": [
    {
     "data": {
      "text/plain": [
       "[5, 7, 9, 3]"
      ]
     },
     "execution_count": 26,
     "metadata": {},
     "output_type": "execute_result"
    }
   ],
   "source": [
    "list_slice[:] = [5, 7, 9, 3]\n",
    "list_slice"
   ]
  },
  {
   "cell_type": "code",
   "execution_count": 27,
   "id": "1a5e1f34",
   "metadata": {},
   "outputs": [
    {
     "data": {
      "text/plain": [
       "[0, 1, 2, 3, 4, 5, 6, 7, 8, 9, 10]"
      ]
     },
     "execution_count": 27,
     "metadata": {},
     "output_type": "execute_result"
    }
   ],
   "source": [
    "num_list"
   ]
  },
  {
   "cell_type": "code",
   "execution_count": 28,
   "id": "24128867",
   "metadata": {},
   "outputs": [],
   "source": [
    "num_array = np.arange(11)"
   ]
  },
  {
   "cell_type": "code",
   "execution_count": 29,
   "id": "56fddb7c",
   "metadata": {},
   "outputs": [
    {
     "data": {
      "text/plain": [
       "array([ 0,  1,  2,  3,  4,  5,  6,  7,  8,  9, 10])"
      ]
     },
     "execution_count": 29,
     "metadata": {},
     "output_type": "execute_result"
    }
   ],
   "source": [
    "num_array"
   ]
  },
  {
   "cell_type": "code",
   "execution_count": 30,
   "id": "6b6cdec1",
   "metadata": {},
   "outputs": [
    {
     "data": {
      "text/plain": [
       "numpy.ndarray"
      ]
     },
     "execution_count": 30,
     "metadata": {},
     "output_type": "execute_result"
    }
   ],
   "source": [
    "type(num_array)"
   ]
  },
  {
   "cell_type": "code",
   "execution_count": 31,
   "id": "dd154a16",
   "metadata": {},
   "outputs": [
    {
     "data": {
      "text/plain": [
       "array([0, 1, 2, 3])"
      ]
     },
     "execution_count": 31,
     "metadata": {},
     "output_type": "execute_result"
    }
   ],
   "source": [
    "array_slice = num_array[:4]\n",
    "array_slice"
   ]
  },
  {
   "cell_type": "code",
   "execution_count": 32,
   "id": "c54a021e",
   "metadata": {},
   "outputs": [
    {
     "data": {
      "text/plain": [
       "array([5, 7, 9, 3])"
      ]
     },
     "execution_count": 32,
     "metadata": {},
     "output_type": "execute_result"
    }
   ],
   "source": [
    "array_slice[:] = [5, 7, 9, 3]\n",
    "array_slice"
   ]
  },
  {
   "cell_type": "code",
   "execution_count": 33,
   "id": "792591b3",
   "metadata": {},
   "outputs": [
    {
     "data": {
      "text/plain": [
       "array([ 5,  7,  9,  3,  4,  5,  6,  7,  8,  9, 10])"
      ]
     },
     "execution_count": 33,
     "metadata": {},
     "output_type": "execute_result"
    }
   ],
   "source": [
    "num_array"
   ]
  },
  {
   "cell_type": "code",
   "execution_count": 34,
   "id": "24b9051b",
   "metadata": {},
   "outputs": [
    {
     "data": {
      "text/plain": [
       "array([ 5,  7,  9,  3,  4,  5,  6,  7,  8,  9, 10])"
      ]
     },
     "execution_count": 34,
     "metadata": {},
     "output_type": "execute_result"
    }
   ],
   "source": [
    "num_array"
   ]
  },
  {
   "cell_type": "code",
   "execution_count": 37,
   "id": "93b20a23",
   "metadata": {},
   "outputs": [
    {
     "data": {
      "text/plain": [
       "array([5, 7, 9, 3])"
      ]
     },
     "execution_count": 37,
     "metadata": {},
     "output_type": "execute_result"
    }
   ],
   "source": [
    "array_copy = num_array.copy()[:4]\n",
    "array_copy"
   ]
  },
  {
   "cell_type": "code",
   "execution_count": 38,
   "id": "ab67acf2",
   "metadata": {},
   "outputs": [
    {
     "data": {
      "text/plain": [
       "array([ 5,  7,  9,  3,  4,  5,  6,  7,  8,  9, 10])"
      ]
     },
     "execution_count": 38,
     "metadata": {},
     "output_type": "execute_result"
    }
   ],
   "source": [
    "num_array"
   ]
  },
  {
   "cell_type": "code",
   "execution_count": 39,
   "id": "5e61a63e",
   "metadata": {},
   "outputs": [
    {
     "data": {
      "text/plain": [
       "array([1, 1, 1, 1])"
      ]
     },
     "execution_count": 39,
     "metadata": {},
     "output_type": "execute_result"
    }
   ],
   "source": [
    "array_copy[:] = [1, 1, 1, 1]\n",
    "array_copy"
   ]
  },
  {
   "cell_type": "code",
   "execution_count": 40,
   "id": "f7b408be",
   "metadata": {},
   "outputs": [
    {
     "data": {
      "text/plain": [
       "array([ 5,  7,  9,  3,  4,  5,  6,  7,  8,  9, 10])"
      ]
     },
     "execution_count": 40,
     "metadata": {},
     "output_type": "execute_result"
    }
   ],
   "source": [
    "num_array"
   ]
  },
  {
   "cell_type": "code",
   "execution_count": 41,
   "id": "396fc6a4",
   "metadata": {},
   "outputs": [
    {
     "data": {
      "text/plain": [
       "array([[ 5, 10, 15],\n",
       "       [20, 25, 30],\n",
       "       [35, 40, 45]])"
      ]
     },
     "execution_count": 41,
     "metadata": {},
     "output_type": "execute_result"
    }
   ],
   "source": [
    "matrix = np.array(([5, 10, 15], [20, 25, 30], [35, 40, 45]))\n",
    "matrix"
   ]
  },
  {
   "cell_type": "code",
   "execution_count": 42,
   "id": "d32693c7",
   "metadata": {},
   "outputs": [
    {
     "data": {
      "text/plain": [
       "array([20, 25, 30])"
      ]
     },
     "execution_count": 42,
     "metadata": {},
     "output_type": "execute_result"
    }
   ],
   "source": [
    "matrix[1]"
   ]
  },
  {
   "cell_type": "code",
   "execution_count": 43,
   "id": "3e3a3c6c",
   "metadata": {},
   "outputs": [
    {
     "data": {
      "text/plain": [
       "35"
      ]
     },
     "execution_count": 43,
     "metadata": {},
     "output_type": "execute_result"
    }
   ],
   "source": [
    "matrix[2][0]"
   ]
  },
  {
   "cell_type": "code",
   "execution_count": 45,
   "id": "5a0bfbd1",
   "metadata": {},
   "outputs": [
    {
     "data": {
      "text/plain": [
       "array([[ 5, 10, 15],\n",
       "       [20, 25, 30]])"
      ]
     },
     "execution_count": 45,
     "metadata": {},
     "output_type": "execute_result"
    }
   ],
   "source": [
    "matrix[:2]"
   ]
  },
  {
   "cell_type": "code",
   "execution_count": 46,
   "id": "71b3dd59",
   "metadata": {},
   "outputs": [
    {
     "data": {
      "text/plain": [
       "45"
      ]
     },
     "execution_count": 46,
     "metadata": {},
     "output_type": "execute_result"
    }
   ],
   "source": [
    "matrix[2][2]"
   ]
  },
  {
   "cell_type": "code",
   "execution_count": 47,
   "id": "b2beebd7",
   "metadata": {},
   "outputs": [
    {
     "data": {
      "text/plain": [
       "45"
      ]
     },
     "execution_count": 47,
     "metadata": {},
     "output_type": "execute_result"
    }
   ],
   "source": [
    "matrix[2, 2]"
   ]
  },
  {
   "cell_type": "code",
   "execution_count": 48,
   "id": "7e71adc1",
   "metadata": {},
   "outputs": [
    {
     "data": {
      "text/plain": [
       "array([[ 5, 10, 15],\n",
       "       [20, 25, 30],\n",
       "       [35, 40, 45]])"
      ]
     },
     "execution_count": 48,
     "metadata": {},
     "output_type": "execute_result"
    }
   ],
   "source": [
    "matrix"
   ]
  },
  {
   "cell_type": "code",
   "execution_count": 50,
   "id": "c50f9bee",
   "metadata": {},
   "outputs": [
    {
     "data": {
      "text/plain": [
       "array([[10, 15],\n",
       "       [25, 30],\n",
       "       [40, 45]])"
      ]
     },
     "execution_count": 50,
     "metadata": {},
     "output_type": "execute_result"
    }
   ],
   "source": [
    "colum_slice = matrix[:, 1:3]\n",
    "colum_slice"
   ]
  },
  {
   "cell_type": "code",
   "execution_count": 51,
   "id": "09661fe7",
   "metadata": {},
   "outputs": [
    {
     "data": {
      "text/plain": [
       "array([ 0,  2,  4,  6,  8, 10, 12, 14, 16, 18])"
      ]
     },
     "execution_count": 51,
     "metadata": {},
     "output_type": "execute_result"
    }
   ],
   "source": [
    "even_array = np.arange(0, 20, 2)\n",
    "even_array"
   ]
  },
  {
   "cell_type": "code",
   "execution_count": 52,
   "id": "3e8a080c",
   "metadata": {},
   "outputs": [
    {
     "data": {
      "text/plain": [
       "array([False, False, False, False, False, False,  True,  True,  True,\n",
       "        True])"
      ]
     },
     "execution_count": 52,
     "metadata": {},
     "output_type": "execute_result"
    }
   ],
   "source": [
    "bool_array = even_array > 11\n",
    "bool_array"
   ]
  },
  {
   "cell_type": "code",
   "execution_count": 53,
   "id": "1c83e97a",
   "metadata": {},
   "outputs": [
    {
     "data": {
      "text/plain": [
       "array([12, 14, 16, 18])"
      ]
     },
     "execution_count": 53,
     "metadata": {},
     "output_type": "execute_result"
    }
   ],
   "source": [
    "useful_array = even_array[bool_array]\n",
    "useful_array"
   ]
  },
  {
   "cell_type": "code",
   "execution_count": 54,
   "id": "c7359cda",
   "metadata": {},
   "outputs": [
    {
     "data": {
      "text/plain": [
       "array([12, 14, 16, 18])"
      ]
     },
     "execution_count": 54,
     "metadata": {},
     "output_type": "execute_result"
    }
   ],
   "source": [
    "compact_array = even_array[even_array > 11]\n",
    "compact_array"
   ]
  },
  {
   "cell_type": "code",
   "execution_count": 55,
   "id": "781f3a91",
   "metadata": {},
   "outputs": [
    {
     "data": {
      "text/plain": [
       "array([[0, 1, 2, 3, 4],\n",
       "       [5, 6, 7, 8, 9]])"
      ]
     },
     "execution_count": 55,
     "metadata": {},
     "output_type": "execute_result"
    }
   ],
   "source": [
    "array1 = np.arange(10).reshape(2, 5)\n",
    "array1"
   ]
  },
  {
   "cell_type": "code",
   "execution_count": 56,
   "id": "0eec4992",
   "metadata": {},
   "outputs": [
    {
     "data": {
      "text/plain": [
       "array([[0.34928889, 0.99772181, 0.2642809 , 0.39890028, 0.04669609],\n",
       "       [0.61819998, 0.04693454, 0.77322342, 0.68128144, 0.4998125 ]])"
      ]
     },
     "execution_count": 56,
     "metadata": {},
     "output_type": "execute_result"
    }
   ],
   "source": [
    "array2 = np.random.rand(10).reshape(2, 5)\n",
    "array2"
   ]
  },
  {
   "cell_type": "code",
   "execution_count": 57,
   "id": "1dee9882",
   "metadata": {},
   "outputs": [
    {
     "data": {
      "text/plain": [
       "array([[0.34928889, 1.99772181, 2.2642809 , 3.39890028, 4.04669609],\n",
       "       [5.61819998, 6.04693454, 7.77322342, 8.68128144, 9.4998125 ]])"
      ]
     },
     "execution_count": 57,
     "metadata": {},
     "output_type": "execute_result"
    }
   ],
   "source": [
    "#Addition\n",
    "array_sum = array1 + array2\n",
    "array_sum"
   ]
  },
  {
   "cell_type": "code",
   "execution_count": 58,
   "id": "8268247b",
   "metadata": {},
   "outputs": [
    {
     "data": {
      "text/plain": [
       "array([[-3.49288890e-01,  2.27819078e-03,  1.73571910e+00,\n",
       "         2.60109972e+00,  3.95330391e+00],\n",
       "       [ 4.38180002e+00,  5.95306546e+00,  6.22677658e+00,\n",
       "         7.31871856e+00,  8.50018750e+00]])"
      ]
     },
     "execution_count": 58,
     "metadata": {},
     "output_type": "execute_result"
    }
   ],
   "source": [
    "#Substraction\n",
    "array_minus = array1 - array2\n",
    "array_minus"
   ]
  },
  {
   "cell_type": "code",
   "execution_count": 59,
   "id": "02b34ca3",
   "metadata": {},
   "outputs": [
    {
     "data": {
      "text/plain": [
       "array([[0.        , 0.99772181, 0.52856179, 1.19670084, 0.18678437],\n",
       "       [3.09099989, 0.28160723, 5.41256393, 5.45025151, 4.49831253]])"
      ]
     },
     "execution_count": 59,
     "metadata": {},
     "output_type": "execute_result"
    }
   ],
   "source": [
    "array_product = array1 * array2\n",
    "array_product"
   ]
  },
  {
   "cell_type": "code",
   "execution_count": 60,
   "id": "e944c62b",
   "metadata": {},
   "outputs": [
    {
     "data": {
      "text/plain": [
       "array([[  0.        ,   1.00228339,   7.5677055 ,   7.52067659,\n",
       "         85.66027102],\n",
       "       [  8.08799771, 127.837629  ,   9.05301085,  11.74257736,\n",
       "         18.00675242]])"
      ]
     },
     "execution_count": 60,
     "metadata": {},
     "output_type": "execute_result"
    }
   ],
   "source": [
    "# Division\n",
    "array_divide = array1 / array2\n",
    "array_divide"
   ]
  },
  {
   "cell_type": "code",
   "execution_count": 61,
   "id": "7ddbbdbb",
   "metadata": {},
   "outputs": [
    {
     "data": {
      "text/plain": [
       "array([ 0,  1,  2,  3,  4,  5,  6,  7,  8,  9, 10])"
      ]
     },
     "execution_count": 61,
     "metadata": {},
     "output_type": "execute_result"
    }
   ],
   "source": [
    "new_array = np.arange(0, 11)\n",
    "new_array"
   ]
  },
  {
   "cell_type": "code",
   "execution_count": 62,
   "id": "becb0891",
   "metadata": {},
   "outputs": [],
   "source": [
    "scalar = 100"
   ]
  },
  {
   "cell_type": "code",
   "execution_count": 63,
   "id": "b5649b63",
   "metadata": {},
   "outputs": [
    {
     "data": {
      "text/plain": [
       "array([100, 101, 102, 103, 104, 105, 106, 107, 108, 109, 110])"
      ]
     },
     "execution_count": 63,
     "metadata": {},
     "output_type": "execute_result"
    }
   ],
   "source": [
    "add_array = new_array + scalar\n",
    "add_array"
   ]
  },
  {
   "cell_type": "code",
   "execution_count": 64,
   "id": "b359622b",
   "metadata": {},
   "outputs": [
    {
     "data": {
      "text/plain": [
       "array([100, 100, 100, 100, 100, 100, 100, 100, 100, 100, 100])"
      ]
     },
     "execution_count": 64,
     "metadata": {},
     "output_type": "execute_result"
    }
   ],
   "source": [
    "minus_array = add_array - new_array\n",
    "minus_array"
   ]
  },
  {
   "cell_type": "code",
   "execution_count": 65,
   "id": "48d15aa7",
   "metadata": {},
   "outputs": [
    {
     "data": {
      "text/plain": [
       "array([   0,  100,  200,  300,  400,  500,  600,  700,  800,  900, 1000])"
      ]
     },
     "execution_count": 65,
     "metadata": {},
     "output_type": "execute_result"
    }
   ],
   "source": [
    "multi_array = new_array * scalar\n",
    "multi_array"
   ]
  },
  {
   "cell_type": "code",
   "execution_count": 66,
   "id": "82ce247f",
   "metadata": {},
   "outputs": [
    {
     "name": "stderr",
     "output_type": "stream",
     "text": [
      "C:\\Users\\duoch\\AppData\\Local\\Temp\\ipykernel_27444\\3524559128.py:1: RuntimeWarning: invalid value encountered in divide\n",
      "  err_array = new_array / new_array\n"
     ]
    },
    {
     "data": {
      "text/plain": [
       "array([nan,  1.,  1.,  1.,  1.,  1.,  1.,  1.,  1.,  1.,  1.])"
      ]
     },
     "execution_count": 66,
     "metadata": {},
     "output_type": "execute_result"
    }
   ],
   "source": [
    "err_array = new_array / new_array\n",
    "err_array"
   ]
  },
  {
   "cell_type": "code",
   "execution_count": 67,
   "id": "cfb0be2c",
   "metadata": {},
   "outputs": [
    {
     "data": {
      "text/plain": [
       "array([100, 101, 102, 103, 104, 105, 106, 107, 108, 109, 110])"
      ]
     },
     "execution_count": 67,
     "metadata": {},
     "output_type": "execute_result"
    }
   ],
   "source": [
    "u_add = np.add(new_array, scalar)\n",
    "u_add"
   ]
  },
  {
   "cell_type": "code",
   "execution_count": 68,
   "id": "9a3b24e0",
   "metadata": {},
   "outputs": [
    {
     "data": {
      "text/plain": [
       "array([100, 100, 100, 100, 100, 100, 100, 100, 100, 100, 100])"
      ]
     },
     "execution_count": 68,
     "metadata": {},
     "output_type": "execute_result"
    }
   ],
   "source": [
    "u_sub = np.subtract(add_array, new_array)\n",
    "u_sub"
   ]
  },
  {
   "cell_type": "code",
   "execution_count": 69,
   "id": "2a8dd3f2",
   "metadata": {},
   "outputs": [
    {
     "name": "stderr",
     "output_type": "stream",
     "text": [
      "C:\\Users\\duoch\\AppData\\Local\\Temp\\ipykernel_27444\\301786795.py:1: RuntimeWarning: divide by zero encountered in log\n",
      "  u_log = np.log(new_array)\n"
     ]
    },
    {
     "data": {
      "text/plain": [
       "array([      -inf, 0.        , 0.69314718, 1.09861229, 1.38629436,\n",
       "       1.60943791, 1.79175947, 1.94591015, 2.07944154, 2.19722458,\n",
       "       2.30258509])"
      ]
     },
     "execution_count": 69,
     "metadata": {},
     "output_type": "execute_result"
    }
   ],
   "source": [
    "u_log = np.log(new_array)\n",
    "u_log"
   ]
  },
  {
   "cell_type": "code",
   "execution_count": 71,
   "id": "86fcddb0",
   "metadata": {},
   "outputs": [
    {
     "data": {
      "text/plain": [
       "array([ 0.        ,  0.84147098,  0.90929743,  0.14112001, -0.7568025 ,\n",
       "       -0.95892427, -0.2794155 ,  0.6569866 ,  0.98935825,  0.41211849,\n",
       "       -0.54402111])"
      ]
     },
     "execution_count": 71,
     "metadata": {},
     "output_type": "execute_result"
    }
   ],
   "source": [
    "u_sine = np.sin(new_array)\n",
    "u_sine"
   ]
  },
  {
   "cell_type": "code",
   "execution_count": 72,
   "id": "a6038f0c",
   "metadata": {},
   "outputs": [
    {
     "data": {
      "text/plain": [
       "10"
      ]
     },
     "execution_count": 72,
     "metadata": {},
     "output_type": "execute_result"
    }
   ],
   "source": [
    "new_array.max()"
   ]
  },
  {
   "cell_type": "code",
   "execution_count": 73,
   "id": "478d9a90",
   "metadata": {},
   "outputs": [
    {
     "data": {
      "text/plain": [
       "10"
      ]
     },
     "execution_count": 73,
     "metadata": {},
     "output_type": "execute_result"
    }
   ],
   "source": [
    "np.max(new_array)"
   ]
  },
  {
   "cell_type": "code",
   "execution_count": 74,
   "id": "c6ab2e4f",
   "metadata": {},
   "outputs": [
    {
     "data": {
      "text/plain": [
       "array(['Red', 'Green', 'Orange'], dtype='<U6')"
      ]
     },
     "execution_count": 74,
     "metadata": {},
     "output_type": "execute_result"
    }
   ],
   "source": [
    "my_array = np.array([\"Red\", \"Green\", \"Orange\"])\n",
    "my_array"
   ]
  },
  {
   "cell_type": "code",
   "execution_count": 77,
   "id": "cfd0300d",
   "metadata": {},
   "outputs": [
    {
     "data": {
      "text/plain": [
       "array(['Red', 'Green', 'Orange', 'Yellow', 'Pink'], dtype='<U6')"
      ]
     },
     "execution_count": 77,
     "metadata": {},
     "output_type": "execute_result"
    }
   ],
   "source": [
    "extended = np.append(my_array, [\"Yellow\", \"Pink\"])\n",
    "extended"
   ]
  },
  {
   "cell_type": "code",
   "execution_count": 76,
   "id": "7500c282",
   "metadata": {},
   "outputs": [
    {
     "data": {
      "text/plain": [
       "array(['Red', 'Green', 'Orange'], dtype='<U6')"
      ]
     },
     "execution_count": 76,
     "metadata": {},
     "output_type": "execute_result"
    }
   ],
   "source": [
    "my_array"
   ]
  },
  {
   "cell_type": "code",
   "execution_count": 78,
   "id": "83fa3fee",
   "metadata": {},
   "outputs": [
    {
     "data": {
      "text/plain": [
       "array([[0., 0., 0.],\n",
       "       [0., 0., 0.],\n",
       "       [0., 0., 0.]])"
      ]
     },
     "execution_count": 78,
     "metadata": {},
     "output_type": "execute_result"
    }
   ],
   "source": [
    "zeros_array = np.zeros((3, 3))\n",
    "zeros_array"
   ]
  },
  {
   "cell_type": "code",
   "execution_count": 82,
   "id": "bbf46535",
   "metadata": {},
   "outputs": [
    {
     "data": {
      "text/plain": [
       "array([[0., 0., 0., 1.],\n",
       "       [0., 0., 0., 2.],\n",
       "       [0., 0., 0., 3.]])"
      ]
     },
     "execution_count": 82,
     "metadata": {},
     "output_type": "execute_result"
    }
   ],
   "source": [
    "extended = np.append(zeros_array, [[1], [2], [3]], axis=1)\n",
    "extended"
   ]
  },
  {
   "cell_type": "code",
   "execution_count": 83,
   "id": "bcd965f6",
   "metadata": {},
   "outputs": [
    {
     "data": {
      "text/plain": [
       "array(['Red', 'Green', 'Orange'], dtype='<U6')"
      ]
     },
     "execution_count": 83,
     "metadata": {},
     "output_type": "execute_result"
    }
   ],
   "source": [
    "my_array"
   ]
  },
  {
   "cell_type": "code",
   "execution_count": 84,
   "id": "ea0e8b43",
   "metadata": {},
   "outputs": [
    {
     "data": {
      "text/plain": [
       "array(['Red', 'Orange'], dtype='<U6')"
      ]
     },
     "execution_count": 84,
     "metadata": {},
     "output_type": "execute_result"
    }
   ],
   "source": [
    "updated_array = np.delete(my_array, 1)\n",
    "updated_array"
   ]
  },
  {
   "cell_type": "code",
   "execution_count": 85,
   "id": "bbddf832",
   "metadata": {},
   "outputs": [
    {
     "data": {
      "text/plain": [
       "array(['Red', 'Green', 'Orange'], dtype='<U6')"
      ]
     },
     "execution_count": 85,
     "metadata": {},
     "output_type": "execute_result"
    }
   ],
   "source": [
    "my_array"
   ]
  },
  {
   "cell_type": "code",
   "execution_count": 86,
   "id": "5dbe0bbc",
   "metadata": {},
   "outputs": [
    {
     "data": {
      "text/plain": [
       "array([[10,  2,  4,  3,  9],\n",
       "       [ 6,  8,  6,  2,  6],\n",
       "       [ 5, 10,  4,  3,  3],\n",
       "       [10,  8,  2,  1,  7]])"
      ]
     },
     "execution_count": 86,
     "metadata": {},
     "output_type": "execute_result"
    }
   ],
   "source": [
    "integer_random = np.random.randint(1, 11, size=(4,5))\n",
    "integer_random"
   ]
  },
  {
   "cell_type": "code",
   "execution_count": 87,
   "id": "a807fb10",
   "metadata": {},
   "outputs": [
    {
     "data": {
      "text/plain": [
       "array([[10,  2,  4,  3,  9],\n",
       "       [ 5, 10,  4,  3,  3],\n",
       "       [10,  8,  2,  1,  7]])"
      ]
     },
     "execution_count": 87,
     "metadata": {},
     "output_type": "execute_result"
    }
   ],
   "source": [
    "updated_array = np.delete(integer_random, 1, axis=0)\n",
    "updated_array"
   ]
  },
  {
   "cell_type": "code",
   "execution_count": 89,
   "id": "e247f0fb",
   "metadata": {},
   "outputs": [
    {
     "data": {
      "text/plain": [
       "array([[10,  2,  4,  3,  9],\n",
       "       [ 6,  8,  6,  2,  6],\n",
       "       [ 5, 10,  4,  3,  3],\n",
       "       [10,  8,  2,  1,  7]])"
      ]
     },
     "execution_count": 89,
     "metadata": {},
     "output_type": "execute_result"
    }
   ],
   "source": [
    "integer_random"
   ]
  },
  {
   "cell_type": "code",
   "execution_count": 90,
   "id": "0a23e3c6",
   "metadata": {},
   "outputs": [
    {
     "data": {
      "text/plain": [
       "array([[10,  4,  3,  9],\n",
       "       [ 6,  6,  2,  6],\n",
       "       [ 5,  4,  3,  3],\n",
       "       [10,  2,  1,  7]])"
      ]
     },
     "execution_count": 90,
     "metadata": {},
     "output_type": "execute_result"
    }
   ],
   "source": [
    "update_array = np.delete(integer_random, 1, axis=1)\n",
    "update_array"
   ]
  },
  {
   "cell_type": "code",
   "execution_count": 91,
   "id": "0b7e4d57",
   "metadata": {},
   "outputs": [
    {
     "data": {
      "text/plain": [
       "array([11,  4,  8,  8, 12, 14,  5,  2, 15,  9])"
      ]
     },
     "execution_count": 91,
     "metadata": {},
     "output_type": "execute_result"
    }
   ],
   "source": [
    "my_array = np.random.randint(1, 20, 10)\n",
    "my_array"
   ]
  },
  {
   "cell_type": "code",
   "execution_count": 92,
   "id": "794cb9f5",
   "metadata": {},
   "outputs": [
    {
     "data": {
      "text/plain": [
       "array([ 2,  4,  5,  8,  8,  9, 11, 12, 14, 15])"
      ]
     },
     "execution_count": 92,
     "metadata": {},
     "output_type": "execute_result"
    }
   ],
   "source": [
    "sorted_array = np.sort(my_array)\n",
    "sorted_array"
   ]
  },
  {
   "cell_type": "code",
   "execution_count": 93,
   "id": "5826bcfd",
   "metadata": {},
   "outputs": [
    {
     "data": {
      "text/plain": [
       "array(['Red', 'Green', 'Blue', 'Yellow'], dtype='<U6')"
      ]
     },
     "execution_count": 93,
     "metadata": {},
     "output_type": "execute_result"
    }
   ],
   "source": [
    "my_array = np.array([\"Red\", \"Green\", \"Blue\", \"Yellow\"])\n",
    "my_array"
   ]
  },
  {
   "cell_type": "code",
   "execution_count": 94,
   "id": "f83f76ae",
   "metadata": {},
   "outputs": [
    {
     "data": {
      "text/plain": [
       "array(['Blue', 'Green', 'Red', 'Yellow'], dtype='<U6')"
      ]
     },
     "execution_count": 94,
     "metadata": {},
     "output_type": "execute_result"
    }
   ],
   "source": [
    "sorted_array = np.sort(my_array)\n",
    "sorted_array"
   ]
  },
  {
   "cell_type": "code",
   "execution_count": 95,
   "id": "ec3b7d40",
   "metadata": {},
   "outputs": [
    {
     "data": {
      "text/plain": [
       "array([False,  True,  True, False, False,  True, False,  True])"
      ]
     },
     "execution_count": 95,
     "metadata": {},
     "output_type": "execute_result"
    }
   ],
   "source": [
    "my_array = np.array([False, True, True, False, False, True, False, True])\n",
    "my_array"
   ]
  },
  {
   "cell_type": "code",
   "execution_count": 96,
   "id": "585057c1",
   "metadata": {},
   "outputs": [
    {
     "data": {
      "text/plain": [
       "array([False, False, False, False,  True,  True,  True,  True])"
      ]
     },
     "execution_count": 96,
     "metadata": {},
     "output_type": "execute_result"
    }
   ],
   "source": [
    "sorted_array = np.sort(my_array)\n",
    "sorted_array"
   ]
  },
  {
   "cell_type": "code",
   "execution_count": 98,
   "id": "060de63b",
   "metadata": {},
   "outputs": [
    {
     "data": {
      "text/plain": [
       "array([[11,  6,  6, 10,  2, 10],\n",
       "       [ 4,  7, 19,  2,  8, 19],\n",
       "       [17, 14, 11,  3,  4,  9],\n",
       "       [10,  4,  8, 14,  7,  6]])"
      ]
     },
     "execution_count": 98,
     "metadata": {},
     "output_type": "execute_result"
    }
   ],
   "source": [
    "my_array = np.random.randint(1, 20, size=(4, 6))\n",
    "my_array"
   ]
  },
  {
   "cell_type": "raw",
   "id": "610cd8da",
   "metadata": {},
   "source": []
  },
  {
   "cell_type": "code",
   "execution_count": 99,
   "id": "d9ccdcaf",
   "metadata": {},
   "outputs": [
    {
     "data": {
      "text/plain": [
       "array([[ 2,  6,  6, 10, 10, 11],\n",
       "       [ 2,  4,  7,  8, 19, 19],\n",
       "       [ 3,  4,  9, 11, 14, 17],\n",
       "       [ 4,  6,  7,  8, 10, 14]])"
      ]
     },
     "execution_count": 99,
     "metadata": {},
     "output_type": "execute_result"
    }
   ],
   "source": [
    "sorted_array = np.sort(my_array)\n",
    "sorted_array"
   ]
  },
  {
   "cell_type": "code",
   "execution_count": 100,
   "id": "f6ff2f8f",
   "metadata": {},
   "outputs": [
    {
     "data": {
      "text/plain": [
       "array([10,  9,  2, 19, 10, 19,  6, 18, 10, 12])"
      ]
     },
     "execution_count": 100,
     "metadata": {},
     "output_type": "execute_result"
    }
   ],
   "source": [
    "my_array = np.random.randint(1, 20, 10)\n",
    "my_array"
   ]
  },
  {
   "cell_type": "code",
   "execution_count": 101,
   "id": "0644d3e8",
   "metadata": {},
   "outputs": [
    {
     "data": {
      "text/plain": [
       "array([ 2,  6,  9, 10, 10, 10, 12, 18, 19, 19])"
      ]
     },
     "execution_count": 101,
     "metadata": {},
     "output_type": "execute_result"
    }
   ],
   "source": [
    "sorted_array = np.sort(my_array)\n",
    "sorted_array"
   ]
  },
  {
   "cell_type": "code",
   "execution_count": 102,
   "id": "bc85f8bc",
   "metadata": {},
   "outputs": [
    {
     "data": {
      "text/plain": [
       "array([19, 19, 18, 12, 10, 10, 10,  9,  6,  2])"
      ]
     },
     "execution_count": 102,
     "metadata": {},
     "output_type": "execute_result"
    }
   ],
   "source": [
    "reverse_sorted = np.flipud(sorted_array)\n",
    "reverse_sorted"
   ]
  },
  {
   "cell_type": "code",
   "execution_count": 103,
   "id": "6bff27fa",
   "metadata": {},
   "outputs": [
    {
     "data": {
      "text/plain": [
       "array([[14, 10, 11,  6, 18,  2],\n",
       "       [10, 12, 14, 11,  9, 11],\n",
       "       [16, 18, 10,  4, 18,  7],\n",
       "       [16, 19,  5,  9,  8,  3]])"
      ]
     },
     "execution_count": 103,
     "metadata": {},
     "output_type": "execute_result"
    }
   ],
   "source": [
    "two_d_array = np.random.randint(1, 20, size=(4,6))\n",
    "two_d_array"
   ]
  },
  {
   "cell_type": "code",
   "execution_count": 104,
   "id": "d075f5c6",
   "metadata": {},
   "outputs": [
    {
     "data": {
      "text/plain": [
       "array([14, 10, 11,  6, 18,  2, 10, 12, 14, 11,  9, 11, 16, 18, 10,  4, 18,\n",
       "        7, 16, 19,  5,  9,  8,  3])"
      ]
     },
     "execution_count": 104,
     "metadata": {},
     "output_type": "execute_result"
    }
   ],
   "source": [
    "one_d_array = two_d_array.reshape(24)\n",
    "one_d_array"
   ]
  },
  {
   "cell_type": "code",
   "execution_count": 105,
   "id": "766ed6be",
   "metadata": {},
   "outputs": [
    {
     "data": {
      "text/plain": [
       "array([[14, 10, 11,  6, 18,  2],\n",
       "       [10, 12, 14, 11,  9, 11],\n",
       "       [16, 18, 10,  4, 18,  7],\n",
       "       [16, 19,  5,  9,  8,  3]])"
      ]
     },
     "execution_count": 105,
     "metadata": {},
     "output_type": "execute_result"
    }
   ],
   "source": [
    "two_d_array"
   ]
  },
  {
   "cell_type": "code",
   "execution_count": 106,
   "id": "29876b84",
   "metadata": {},
   "outputs": [
    {
     "data": {
      "text/plain": [
       "array([14, 10, 11,  6, 18,  2, 10, 12, 14, 11,  9, 11, 16, 18, 10,  4, 18,\n",
       "        7, 16, 19,  5,  9,  8,  3])"
      ]
     },
     "execution_count": 106,
     "metadata": {},
     "output_type": "execute_result"
    }
   ],
   "source": [
    "one_d_array = two_d_array.reshape(-1)\n",
    "one_d_array"
   ]
  },
  {
   "cell_type": "code",
   "execution_count": 107,
   "id": "9e5f4f0f",
   "metadata": {},
   "outputs": [
    {
     "data": {
      "text/plain": [
       "array([24, 35, 41])"
      ]
     },
     "execution_count": 107,
     "metadata": {},
     "output_type": "execute_result"
    }
   ],
   "source": [
    "array1 = np.array([14, 25, 31])\n",
    "array2 = np.array([10])\n",
    "result = array1 + array2\n",
    "result"
   ]
  },
  {
   "cell_type": "code",
   "execution_count": 108,
   "id": "24aa25bd",
   "metadata": {},
   "outputs": [
    {
     "data": {
      "text/plain": [
       "array([10, 12, 14, 16, 18, 20])"
      ]
     },
     "execution_count": 108,
     "metadata": {},
     "output_type": "execute_result"
    }
   ],
   "source": [
    "array1 = np.array([10, 12, 14, 16, 18, 20])\n",
    "array1"
   ]
  },
  {
   "cell_type": "code",
   "execution_count": 110,
   "id": "0ffb4513",
   "metadata": {},
   "outputs": [],
   "source": [
    "np.save(r\"c:\\temp\\my_array.npy\", array1)"
   ]
  },
  {
   "cell_type": "code",
   "execution_count": 111,
   "id": "4d2761cf",
   "metadata": {},
   "outputs": [
    {
     "data": {
      "text/plain": [
       "array([10, 12, 14, 16, 18, 20])"
      ]
     },
     "execution_count": 111,
     "metadata": {},
     "output_type": "execute_result"
    }
   ],
   "source": [
    "loaded_array = np.load(r\"c:\\temp\\my_array.npy\")\n",
    "loaded_array"
   ]
  },
  {
   "cell_type": "code",
   "execution_count": 112,
   "id": "5ecf5a41",
   "metadata": {},
   "outputs": [],
   "source": [
    "np.savetxt(r\"c:\\temp\\my_array.txt\", array1)"
   ]
  },
  {
   "cell_type": "code",
   "execution_count": 113,
   "id": "15f0486c",
   "metadata": {},
   "outputs": [
    {
     "data": {
      "text/plain": [
       "array([10., 12., 14., 16., 18., 20.])"
      ]
     },
     "execution_count": 113,
     "metadata": {},
     "output_type": "execute_result"
    }
   ],
   "source": [
    "loaded_array = np.loadtxt(r\"c:\\temp\\my_array.txt\")\n",
    "loaded_array"
   ]
  },
  {
   "cell_type": "code",
   "execution_count": 114,
   "id": "db387c16",
   "metadata": {},
   "outputs": [
    {
     "data": {
      "text/plain": [
       "array([ 2,  4,  8, 10, 12])"
      ]
     },
     "execution_count": 114,
     "metadata": {},
     "output_type": "execute_result"
    }
   ],
   "source": [
    "my_array = np.array([2,4,8,10, 12])\n",
    "my_array"
   ]
  },
  {
   "cell_type": "code",
   "execution_count": 115,
   "id": "e1b1dd5e",
   "metadata": {},
   "outputs": [
    {
     "data": {
      "text/plain": [
       "7.2"
      ]
     },
     "execution_count": 115,
     "metadata": {},
     "output_type": "execute_result"
    }
   ],
   "source": [
    "np.mean(my_array)"
   ]
  },
  {
   "cell_type": "code",
   "execution_count": 116,
   "id": "c08e44db",
   "metadata": {},
   "outputs": [
    {
     "data": {
      "text/plain": [
       "array([[11, 18, 11],\n",
       "       [ 1, 19, 17]])"
      ]
     },
     "execution_count": 116,
     "metadata": {},
     "output_type": "execute_result"
    }
   ],
   "source": [
    "my_array = np.random.randint(1, 20, size=(2,3))\n",
    "my_array"
   ]
  },
  {
   "cell_type": "code",
   "execution_count": 117,
   "id": "69124033",
   "metadata": {},
   "outputs": [
    {
     "data": {
      "text/plain": [
       "array([13.33333333, 12.33333333])"
      ]
     },
     "execution_count": 117,
     "metadata": {},
     "output_type": "execute_result"
    }
   ],
   "source": [
    "np.mean(my_array, axis=1)"
   ]
  },
  {
   "cell_type": "code",
   "execution_count": 118,
   "id": "e1cb53bb",
   "metadata": {},
   "outputs": [
    {
     "data": {
      "text/plain": [
       "array([ 6. , 18.5, 14. ])"
      ]
     },
     "execution_count": 118,
     "metadata": {},
     "output_type": "execute_result"
    }
   ],
   "source": [
    "np.mean(my_array, axis=0)"
   ]
  },
  {
   "cell_type": "code",
   "execution_count": 119,
   "id": "6b4aefb7",
   "metadata": {},
   "outputs": [
    {
     "data": {
      "text/plain": [
       "array([[11, 18, 11],\n",
       "       [ 1, 19, 17]])"
      ]
     },
     "execution_count": 119,
     "metadata": {},
     "output_type": "execute_result"
    }
   ],
   "source": [
    "my_array"
   ]
  },
  {
   "cell_type": "code",
   "execution_count": 120,
   "id": "c7944b28",
   "metadata": {},
   "outputs": [
    {
     "data": {
      "text/plain": [
       "array([ 2,  4,  8, 10, 12])"
      ]
     },
     "execution_count": 120,
     "metadata": {},
     "output_type": "execute_result"
    }
   ],
   "source": [
    "my_array = np.array([2,4,8, 10, 12])\n",
    "my_array"
   ]
  },
  {
   "cell_type": "code",
   "execution_count": 121,
   "id": "2fcac2e2",
   "metadata": {},
   "outputs": [
    {
     "data": {
      "text/plain": [
       "8.0"
      ]
     },
     "execution_count": 121,
     "metadata": {},
     "output_type": "execute_result"
    }
   ],
   "source": [
    "np.median(my_array)"
   ]
  },
  {
   "cell_type": "code",
   "execution_count": 122,
   "id": "e04e2fcb",
   "metadata": {},
   "outputs": [
    {
     "data": {
      "text/plain": [
       "array([[ 9, 11, 18, 14],\n",
       "       [13, 11,  4, 17],\n",
       "       [ 8,  4, 18,  5]])"
      ]
     },
     "execution_count": 122,
     "metadata": {},
     "output_type": "execute_result"
    }
   ],
   "source": [
    "my_array = np.random.randint(1,20, size=(3,4))\n",
    "my_array"
   ]
  },
  {
   "cell_type": "code",
   "execution_count": 123,
   "id": "10ba09c0",
   "metadata": {},
   "outputs": [
    {
     "data": {
      "text/plain": [
       "array([18, 17, 18])"
      ]
     },
     "execution_count": 123,
     "metadata": {},
     "output_type": "execute_result"
    }
   ],
   "source": [
    "np.amax(my_array, axis=1)"
   ]
  },
  {
   "cell_type": "code",
   "execution_count": 124,
   "id": "8d154a39",
   "metadata": {},
   "outputs": [
    {
     "data": {
      "text/plain": [
       "array([13, 11, 18, 17])"
      ]
     },
     "execution_count": 124,
     "metadata": {},
     "output_type": "execute_result"
    }
   ],
   "source": [
    "np.amax(my_array, axis=0)"
   ]
  },
  {
   "cell_type": "code",
   "execution_count": 125,
   "id": "ba696ecc",
   "metadata": {},
   "outputs": [
    {
     "data": {
      "text/plain": [
       "array([ 2,  4,  8, 10, 12])"
      ]
     },
     "execution_count": 125,
     "metadata": {},
     "output_type": "execute_result"
    }
   ],
   "source": [
    "my_array = np.array([2,4,8, 10, 12])\n",
    "my_array"
   ]
  },
  {
   "cell_type": "code",
   "execution_count": 126,
   "id": "6e2652d1",
   "metadata": {},
   "outputs": [
    {
     "data": {
      "text/plain": [
       "3.7094473981982814"
      ]
     },
     "execution_count": 126,
     "metadata": {},
     "output_type": "execute_result"
    }
   ],
   "source": [
    "np.std(my_array)"
   ]
  },
  {
   "cell_type": "code",
   "execution_count": 127,
   "id": "feafcbbe",
   "metadata": {},
   "outputs": [
    {
     "data": {
      "text/plain": [
       "array([1, 3, 4, 5, 6, 7, 8, 9])"
      ]
     },
     "execution_count": 127,
     "metadata": {},
     "output_type": "execute_result"
    }
   ],
   "source": [
    "my_array = np.array([5,8,7, 5, 9, 3, 7, 7, 1, 1, 8, 4, 6, 9, 7, 3])\n",
    "unique_items = np.unique(my_array)\n",
    "unique_items"
   ]
  },
  {
   "cell_type": "code",
   "execution_count": 128,
   "id": "a589dfd7",
   "metadata": {},
   "outputs": [
    {
     "data": {
      "text/plain": [
       "array([5, 8, 7, 5, 9, 3, 7, 7, 1, 1, 8, 4, 6, 9, 7, 3])"
      ]
     },
     "execution_count": 128,
     "metadata": {},
     "output_type": "execute_result"
    }
   ],
   "source": [
    "my_array"
   ]
  },
  {
   "cell_type": "code",
   "execution_count": 129,
   "id": "c6777595",
   "metadata": {},
   "outputs": [
    {
     "data": {
      "text/plain": [
       "array([1, 3, 4, 5, 6, 7, 8, 9])"
      ]
     },
     "execution_count": 129,
     "metadata": {},
     "output_type": "execute_result"
    }
   ],
   "source": [
    "unique_items, counts = np.unique(my_array, return_counts=True)\n",
    "unique_items"
   ]
  },
  {
   "cell_type": "code",
   "execution_count": 130,
   "id": "ce7fcddd",
   "metadata": {},
   "outputs": [
    {
     "data": {
      "text/plain": [
       "array([2, 2, 1, 2, 1, 4, 2, 2], dtype=int64)"
      ]
     },
     "execution_count": 130,
     "metadata": {},
     "output_type": "execute_result"
    }
   ],
   "source": [
    "counts"
   ]
  },
  {
   "cell_type": "code",
   "execution_count": 131,
   "id": "71b37a27",
   "metadata": {},
   "outputs": [
    {
     "data": {
      "text/plain": [
       "array([[1, 3, 4, 5, 6, 7, 8, 9],\n",
       "       [2, 2, 1, 2, 1, 4, 2, 2]], dtype=int64)"
      ]
     },
     "execution_count": 131,
     "metadata": {},
     "output_type": "execute_result"
    }
   ],
   "source": [
    "frequencies = np.asarray((unique_items, counts))\n",
    "frequencies"
   ]
  },
  {
   "cell_type": "code",
   "execution_count": 132,
   "id": "bf1a1c1e",
   "metadata": {},
   "outputs": [
    {
     "data": {
      "text/plain": [
       "array([ 2,  1,  8,  6, 12,  5, 16,  2,  3,  3])"
      ]
     },
     "execution_count": 132,
     "metadata": {},
     "output_type": "execute_result"
    }
   ],
   "source": [
    "my_array = np.random.randint(1, 20, 10)\n",
    "my_array"
   ]
  },
  {
   "cell_type": "code",
   "execution_count": 134,
   "id": "8ef2eebf",
   "metadata": {},
   "outputs": [
    {
     "data": {
      "text/plain": [
       "array([ 3,  3,  2, 16,  5, 12,  6,  8,  1,  2])"
      ]
     },
     "execution_count": 134,
     "metadata": {},
     "output_type": "execute_result"
    }
   ],
   "source": [
    "reversed_array = np.flipud(my_array)\n",
    "reversed_array"
   ]
  },
  {
   "cell_type": "code",
   "execution_count": 135,
   "id": "6d913050",
   "metadata": {},
   "outputs": [
    {
     "data": {
      "text/plain": [
       "array([[11, 12,  5, 18],\n",
       "       [ 4,  6,  4,  9],\n",
       "       [ 6, 11,  4,  7]])"
      ]
     },
     "execution_count": 135,
     "metadata": {},
     "output_type": "execute_result"
    }
   ],
   "source": [
    "my_array = np.random.randint(1, 20, size=(3,4))\n",
    "my_array"
   ]
  },
  {
   "cell_type": "code",
   "execution_count": 136,
   "id": "09709976",
   "metadata": {},
   "outputs": [
    {
     "data": {
      "text/plain": [
       "array([[18,  5, 12, 11],\n",
       "       [ 9,  4,  6,  4],\n",
       "       [ 7,  4, 11,  6]])"
      ]
     },
     "execution_count": 136,
     "metadata": {},
     "output_type": "execute_result"
    }
   ],
   "source": [
    "reversed_array = np.fliplr(my_array)\n",
    "reversed_array"
   ]
  },
  {
   "cell_type": "code",
   "execution_count": null,
   "id": "35b8faa2",
   "metadata": {},
   "outputs": [],
   "source": []
  }
 ],
 "metadata": {
  "kernelspec": {
   "display_name": "Python 3 (ipykernel)",
   "language": "python",
   "name": "python3"
  },
  "language_info": {
   "codemirror_mode": {
    "name": "ipython",
    "version": 3
   },
   "file_extension": ".py",
   "mimetype": "text/x-python",
   "name": "python",
   "nbconvert_exporter": "python",
   "pygments_lexer": "ipython3",
   "version": "3.8.8"
  }
 },
 "nbformat": 4,
 "nbformat_minor": 5
}
