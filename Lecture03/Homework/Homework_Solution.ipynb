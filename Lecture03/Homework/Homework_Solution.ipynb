{
 "cells": [
  {
   "cell_type": "markdown",
   "metadata": {},
   "source": [
    "# The following code is from 101 NumPy Exercises for Data Analysis [Python] https://www.machinelearningplus.com/python/101-numpy-exercises-python/"
   ]
  },
  {
   "cell_type": "code",
   "execution_count": 2,
   "metadata": {},
   "outputs": [
    {
     "name": "stdout",
     "output_type": "stream",
     "text": [
      "1.16.5\n"
     ]
    }
   ],
   "source": [
    "# Import numpy as np and print the version number.\n",
    "import numpy as np\n",
    "print(np.__version__)"
   ]
  },
  {
   "cell_type": "code",
   "execution_count": 3,
   "metadata": {},
   "outputs": [
    {
     "data": {
      "text/plain": [
       "array([0, 1, 2, 3, 4, 5, 6, 7, 8, 9])"
      ]
     },
     "execution_count": 3,
     "metadata": {},
     "output_type": "execute_result"
    }
   ],
   "source": [
    "# Create a 1D array of numbers from 0 to 9\n",
    "arr = np.arange(10)\n",
    "arr"
   ]
  },
  {
   "cell_type": "code",
   "execution_count": 4,
   "metadata": {},
   "outputs": [
    {
     "data": {
      "text/plain": [
       "array([[ True,  True,  True],\n",
       "       [ True,  True,  True],\n",
       "       [ True,  True,  True]])"
      ]
     },
     "execution_count": 4,
     "metadata": {},
     "output_type": "execute_result"
    }
   ],
   "source": [
    "# Create a 3x3 nuimpy array of all True's\n",
    "np.full((3,3), True, dtype=bool)"
   ]
  },
  {
   "cell_type": "code",
   "execution_count": 5,
   "metadata": {},
   "outputs": [
    {
     "data": {
      "text/plain": [
       "array([[ True,  True,  True],\n",
       "       [ True,  True,  True],\n",
       "       [ True,  True,  True]])"
      ]
     },
     "execution_count": 5,
     "metadata": {},
     "output_type": "execute_result"
    }
   ],
   "source": [
    "np.ones((3,3), dtype=bool)"
   ]
  },
  {
   "cell_type": "code",
   "execution_count": 6,
   "metadata": {},
   "outputs": [
    {
     "data": {
      "text/plain": [
       "array([1, 3, 5, 7, 9])"
      ]
     },
     "execution_count": 6,
     "metadata": {},
     "output_type": "execute_result"
    }
   ],
   "source": [
    "# Extract all odd numbers from arr\n",
    "arr[arr%2 == 1]"
   ]
  },
  {
   "cell_type": "code",
   "execution_count": 9,
   "metadata": {},
   "outputs": [
    {
     "data": {
      "text/plain": [
       "array([ 0, -1,  2, -1,  4, -1,  6, -1,  8, -1])"
      ]
     },
     "execution_count": 9,
     "metadata": {},
     "output_type": "execute_result"
    }
   ],
   "source": [
    "# Replace all odd numbers in arr with -1\n",
    "arr[arr%2 == 1] = -1\n",
    "arr"
   ]
  },
  {
   "cell_type": "code",
   "execution_count": 10,
   "metadata": {},
   "outputs": [
    {
     "data": {
      "text/plain": [
       "array([ 0, -1,  2, -1,  4, -1,  6, -1,  8, -1])"
      ]
     },
     "execution_count": 10,
     "metadata": {},
     "output_type": "execute_result"
    }
   ],
   "source": [
    "# Replace all odd numbers in array with -1 without changing arr\n",
    "arr = np.arange(10)\n",
    "out = np.where(arr % 2 ==1, -1, arr)"
   ]
  },
  {
   "cell_type": "code",
   "execution_count": 11,
   "metadata": {},
   "outputs": [
    {
     "data": {
      "text/plain": [
       "array([[0, 1, 2, 3, 4],\n",
       "       [5, 6, 7, 8, 9]])"
      ]
     },
     "execution_count": 11,
     "metadata": {},
     "output_type": "execute_result"
    }
   ],
   "source": [
    "# convert 1D array to a 2D array with 2 rows\n",
    "arr = np.arange(10)\n",
    "arr.reshape(2, -1)  # Setting tto -1 automatically decides the number of cols"
   ]
  },
  {
   "cell_type": "code",
   "execution_count": 15,
   "metadata": {},
   "outputs": [
    {
     "data": {
      "text/plain": [
       "array([[0, 1, 2, 3, 4],\n",
       "       [5, 6, 7, 8, 9],\n",
       "       [1, 1, 1, 1, 1],\n",
       "       [1, 1, 1, 1, 1]])"
      ]
     },
     "execution_count": 15,
     "metadata": {},
     "output_type": "execute_result"
    }
   ],
   "source": [
    "# Stack arrays a and b vertically\n",
    "a = np.arange(10).reshape(2, -1)\n",
    "b = np.repeat(1,10).reshape(2,-1)\n",
    "np.vstack([a,b])"
   ]
  },
  {
   "cell_type": "code",
   "execution_count": 16,
   "metadata": {},
   "outputs": [
    {
     "data": {
      "text/plain": [
       "array([[0, 1, 2, 3, 4, 1, 1, 1, 1, 1],\n",
       "       [5, 6, 7, 8, 9, 1, 1, 1, 1, 1]])"
      ]
     },
     "execution_count": 16,
     "metadata": {},
     "output_type": "execute_result"
    }
   ],
   "source": [
    "# Stack the arrays a and b horizontally\n",
    "a = np.arange(10).reshape(2, -1)\n",
    "b = np.repeat(1,10).reshape(2,-1)\n",
    "np.hstack([a,b])"
   ]
  },
  {
   "cell_type": "code",
   "execution_count": 19,
   "metadata": {},
   "outputs": [
    {
     "data": {
      "text/plain": [
       "array([1, 1, 1, 2, 2, 2, 3, 3, 3, 1, 2, 3, 1, 2, 3, 1, 2, 3])"
      ]
     },
     "execution_count": 19,
     "metadata": {},
     "output_type": "execute_result"
    }
   ],
   "source": [
    "# Create the following pattern without hardcoding. Use only numpy functiosn and the blow input array a\n",
    "a = np.array([1,2,3])\n",
    "np.r_[np.repeat(a,3), np.tile(a,3)]"
   ]
  },
  {
   "cell_type": "code",
   "execution_count": 20,
   "metadata": {},
   "outputs": [
    {
     "data": {
      "text/plain": [
       "array([2, 4])"
      ]
     },
     "execution_count": 20,
     "metadata": {},
     "output_type": "execute_result"
    }
   ],
   "source": [
    "# Get the common items between a and b\n",
    "a = np.array([1,2,3,2,3,4,3,4,5,6])\n",
    "b = np.array([7,2,10,2,7,4,9,4,9,8])\n",
    "np.intersect1d(a, b)"
   ]
  },
  {
   "cell_type": "code",
   "execution_count": 21,
   "metadata": {},
   "outputs": [
    {
     "data": {
      "text/plain": [
       "array([1, 2, 3, 4])"
      ]
     },
     "execution_count": 21,
     "metadata": {},
     "output_type": "execute_result"
    }
   ],
   "source": [
    "# From array a remove all items presetn in array b\n",
    "a = np.array([1,2,3,4,5])\n",
    "b = np.array([5,6,7,8,9])\n",
    "np.setdiff1d(a,b)"
   ]
  },
  {
   "cell_type": "code",
   "execution_count": 24,
   "metadata": {},
   "outputs": [
    {
     "data": {
      "text/plain": [
       "(array([1, 3, 5, 7], dtype=int64),)"
      ]
     },
     "execution_count": 24,
     "metadata": {},
     "output_type": "execute_result"
    }
   ],
   "source": [
    "# Get the positions where elements of a and b match\n",
    "a = np.array([1,2,3,2,3,4,3,4,5,6])\n",
    "b = np.array([7,2,10,2,7,4,9,4,9,8])\n",
    "np.where(a ==b)"
   ]
  },
  {
   "cell_type": "code",
   "execution_count": 27,
   "metadata": {},
   "outputs": [
    {
     "data": {
      "text/plain": [
       "array([ 6,  9, 10])"
      ]
     },
     "execution_count": 27,
     "metadata": {},
     "output_type": "execute_result"
    }
   ],
   "source": [
    "# Get all items between 5 and 10 from a\n",
    "a = np.array([2, 6, 1, 9, 10, 3, 27])\n",
    "a[ (a >= 5) & (a <= 10) ]"
   ]
  },
  {
   "cell_type": "code",
   "execution_count": 29,
   "metadata": {},
   "outputs": [
    {
     "data": {
      "text/plain": [
       "array([ 6,  9, 10])"
      ]
     },
     "execution_count": 29,
     "metadata": {},
     "output_type": "execute_result"
    }
   ],
   "source": [
    "index = np.where((a >= 5) & (a <= 10))\n",
    "a[index]"
   ]
  },
  {
   "cell_type": "code",
   "execution_count": 30,
   "metadata": {},
   "outputs": [
    {
     "data": {
      "text/plain": [
       "array([6., 7., 9., 8., 9., 7., 5.])"
      ]
     },
     "execution_count": 30,
     "metadata": {},
     "output_type": "execute_result"
    }
   ],
   "source": [
    "# Convert the function maxx that works on two scalars, to work on two arrays.\n",
    "def maxx(x, y):\n",
    "    \"\"\"Get the maximum of two items\"\"\"\n",
    "    if x >= y:\n",
    "        return x\n",
    "    else:\n",
    "        return y\n",
    "    \n",
    "pair_max = np.vectorize(maxx, otypes=[float])\n",
    "a = np.array([5, 7, 9, 8, 6, 4, 5])\n",
    "b = np.array([6, 3, 4, 8, 9, 7, 1])\n",
    "pair_max(a, b)"
   ]
  },
  {
   "cell_type": "code",
   "execution_count": 32,
   "metadata": {},
   "outputs": [
    {
     "data": {
      "text/plain": [
       "array([[1, 0, 2],\n",
       "       [4, 3, 5],\n",
       "       [7, 6, 8]])"
      ]
     },
     "execution_count": 32,
     "metadata": {},
     "output_type": "execute_result"
    }
   ],
   "source": [
    "# Swap coummns 1 and 2 in the array arr\n",
    "arr = np.arange(9).reshape(3,3)\n",
    "arr\n",
    "arr[:, [1,0,2]]"
   ]
  },
  {
   "cell_type": "code",
   "execution_count": 33,
   "metadata": {},
   "outputs": [
    {
     "data": {
      "text/plain": [
       "array([[3, 4, 5],\n",
       "       [0, 1, 2],\n",
       "       [6, 7, 8]])"
      ]
     },
     "execution_count": 33,
     "metadata": {},
     "output_type": "execute_result"
    }
   ],
   "source": [
    "# Swap rows 1 and 2 in the array arr\n",
    "arr = np.arange(9).reshape(3,3)\n",
    "arr\n",
    "arr[[1,0,2], :]"
   ]
  },
  {
   "cell_type": "code",
   "execution_count": 34,
   "metadata": {},
   "outputs": [
    {
     "data": {
      "text/plain": [
       "array([[6, 7, 8],\n",
       "       [3, 4, 5],\n",
       "       [0, 1, 2]])"
      ]
     },
     "execution_count": 34,
     "metadata": {},
     "output_type": "execute_result"
    }
   ],
   "source": [
    "# Reverse the rows of a 2D array arr\n",
    "arr = np.arange(9).reshape(3,3)\n",
    "arr[::-1]"
   ]
  },
  {
   "cell_type": "code",
   "execution_count": 35,
   "metadata": {},
   "outputs": [
    {
     "data": {
      "text/plain": [
       "array([[2, 1, 0],\n",
       "       [5, 4, 3],\n",
       "       [8, 7, 6]])"
      ]
     },
     "execution_count": 35,
     "metadata": {},
     "output_type": "execute_result"
    }
   ],
   "source": [
    "# Reverse the columns of a 2D array arr\n",
    "arr = np.arange(9).reshape(3,3)\n",
    "arr[:, ::-1]"
   ]
  },
  {
   "cell_type": "code",
   "execution_count": 37,
   "metadata": {},
   "outputs": [
    {
     "data": {
      "text/plain": [
       "array([[8.8988295 , 7.31226795, 6.7886754 ],\n",
       "       [9.18712077, 6.49726287, 9.09061488],\n",
       "       [9.2190306 , 7.17536064, 7.5922941 ],\n",
       "       [7.70756015, 5.75025004, 5.83458112],\n",
       "       [6.96313542, 9.15097405, 6.78898801]])"
      ]
     },
     "execution_count": 37,
     "metadata": {},
     "output_type": "execute_result"
    }
   ],
   "source": [
    "# Create a 2D array of shape 5x3 to contain random decimal numbers between 5 and 10\n",
    "rand_arr = np.random.uniform(5,10,size=(5,3))\n",
    "rand_arr"
   ]
  },
  {
   "cell_type": "code",
   "execution_count": 38,
   "metadata": {},
   "outputs": [
    {
     "data": {
      "text/plain": [
       "array([[0.77 , 0.06 , 0.602],\n",
       "       [0.299, 0.028, 0.951],\n",
       "       [0.864, 0.17 , 0.468],\n",
       "       [0.099, 0.53 , 0.39 ],\n",
       "       [0.138, 0.738, 0.688]])"
      ]
     },
     "execution_count": 38,
     "metadata": {},
     "output_type": "execute_result"
    }
   ],
   "source": [
    "# Print or show only 3 decimal places of the numpy array rand_arr\n",
    "rand_arr = np.random.random((5,3))\n",
    "np.set_printoptions(precision=3)\n",
    "rand_arr"
   ]
  },
  {
   "cell_type": "code",
   "execution_count": 40,
   "metadata": {},
   "outputs": [
    {
     "data": {
      "text/plain": [
       "array([[0.000543, 0.000278, 0.000425],\n",
       "       [0.000845, 0.000005, 0.000122],\n",
       "       [0.000671, 0.000826, 0.000137]])"
      ]
     },
     "execution_count": 40,
     "metadata": {},
     "output_type": "execute_result"
    }
   ],
   "source": [
    "# Pretty print rand_arr by suppressing the scientific notiona [likele10]\n",
    "np.random.seed(100)\n",
    "rand_arr = np.random.random([3,3])/1e3\n",
    "rand_arr\n",
    "np.set_printoptions(suppress=True, precision=6)  # precision is optional\n",
    "rand_arr"
   ]
  },
  {
   "cell_type": "code",
   "execution_count": 42,
   "metadata": {},
   "outputs": [
    {
     "data": {
      "text/plain": [
       "array([ 0,  1,  2, ..., 12, 13, 14])"
      ]
     },
     "execution_count": 42,
     "metadata": {},
     "output_type": "execute_result"
    }
   ],
   "source": [
    "# Limit the number of items printed in python numpy array a to a maximum of 6 elements\n",
    "np.set_printoptions(threshold=6)\n",
    "a = np.arange(15)\n",
    "a"
   ]
  },
  {
   "cell_type": "code",
   "execution_count": 47,
   "metadata": {},
   "outputs": [
    {
     "data": {
      "text/plain": [
       "array([ 0,  1,  2,  3,  4,  5,  6,  7,  8,  9, 10, 11, 12, 13, 14])"
      ]
     },
     "execution_count": 47,
     "metadata": {},
     "output_type": "execute_result"
    }
   ],
   "source": [
    "# Print the full numpy array a without truncating\n",
    "np.set_printoptions(threshold=6)\n",
    "a = np.arange(15)\n",
    "import sys\n",
    "np.set_printoptions(threshold=sys.maxsize)\n",
    "a"
   ]
  },
  {
   "cell_type": "code",
   "execution_count": 49,
   "metadata": {},
   "outputs": [
    {
     "data": {
      "text/plain": [
       "array([[b'5.1', b'3.5', b'1.4', b'0.2', b'Iris-setosa'],\n",
       "       [b'4.9', b'3.0', b'1.4', b'0.2', b'Iris-setosa'],\n",
       "       [b'4.7', b'3.2', b'1.3', b'0.2', b'Iris-setosa']], dtype=object)"
      ]
     },
     "execution_count": 49,
     "metadata": {},
     "output_type": "execute_result"
    }
   ],
   "source": [
    "# Import the iris dataset keeping the text intact\n",
    "url = 'https://archive.ics.uci.edu/ml/machine-learning-databases/iris/iris.data'\n",
    "iris = np.genfromtxt(url, delimiter=',', dtype='object')\n",
    "#names = ('sepallength', 'sepalwidth', 'petallength', 'petalwidth', 'species')\n",
    "iris[:3]"
   ]
  },
  {
   "cell_type": "code",
   "execution_count": 59,
   "metadata": {},
   "outputs": [
    {
     "name": "stderr",
     "output_type": "stream",
     "text": [
      "C:\\Program Files (x86)\\Microsoft Visual Studio\\Shared\\Anaconda3_64\\envs\\JetsonNano\\lib\\site-packages\\ipykernel_launcher.py:3: VisibleDeprecationWarning: Reading unicode strings without specifying the encoding argument is deprecated. Set the encoding, use None for the system default.\n",
      "  This is separate from the ipykernel package so we can avoid doing imports until\n"
     ]
    },
    {
     "data": {
      "text/plain": [
       "array([[5.1, 3.5, 1.4, 0.2],\n",
       "       [4.9, 3. , 1.4, 0.2],\n",
       "       [4.7, 3.2, 1.3, 0.2],\n",
       "       [4.6, 3.1, 1.5, 0.2]])"
      ]
     },
     "execution_count": 59,
     "metadata": {},
     "output_type": "execute_result"
    }
   ],
   "source": [
    "# Convert the 1D iris to 2D array iris_2d by omitting the species text field\n",
    "url = 'https://archive.ics.uci.edu/ml/machine-learning-databases/iris/iris.data'\n",
    "iris_1d = np.genfromtxt(url, delimiter=',', dtype=None)\n",
    "iris_2d = np.array([row.tolist()[:4] for row in iris_1d])\n",
    "iris_2d[:4]"
   ]
  },
  {
   "cell_type": "code",
   "execution_count": 60,
   "metadata": {},
   "outputs": [
    {
     "name": "stdout",
     "output_type": "stream",
     "text": [
      "5.843333333333334 5.8 0.8253012917851409\n"
     ]
    }
   ],
   "source": [
    "# Find the mean, median, standard deviation of iris's sepallength [1st column]\n",
    "url = 'https://archive.ics.uci.edu/ml/machine-learning-databases/iris/iris.data'\n",
    "iris = np.genfromtxt(url, delimiter=',', dtype='object')\n",
    "sepallength = np.genfromtxt(url, delimiter=',', dtype='float', usecols=[0])\n",
    "\n",
    "mu, med, sd = np.mean(sepallength), np.median(sepallength), np.std(sepallength)\n",
    "print(mu, med, sd)"
   ]
  },
  {
   "cell_type": "code",
   "execution_count": 63,
   "metadata": {},
   "outputs": [
    {
     "data": {
      "text/plain": [
       "array([0.222222, 0.166667, 0.111111, 0.083333, 0.194444, 0.305556,\n",
       "       0.083333, 0.194444, 0.027778, 0.166667, 0.305556, 0.138889,\n",
       "       0.138889, 0.      , 0.416667, 0.388889, 0.305556, 0.222222,\n",
       "       0.388889, 0.222222, 0.305556, 0.222222, 0.083333, 0.222222,\n",
       "       0.138889, 0.194444, 0.194444, 0.25    , 0.25    , 0.111111,\n",
       "       0.138889, 0.305556, 0.25    , 0.333333, 0.166667, 0.194444,\n",
       "       0.333333, 0.166667, 0.027778, 0.222222, 0.194444, 0.055556,\n",
       "       0.027778, 0.194444, 0.222222, 0.138889, 0.222222, 0.083333,\n",
       "       0.277778, 0.194444, 0.75    , 0.583333, 0.722222, 0.333333,\n",
       "       0.611111, 0.388889, 0.555556, 0.166667, 0.638889, 0.25    ,\n",
       "       0.194444, 0.444444, 0.472222, 0.5     , 0.361111, 0.666667,\n",
       "       0.361111, 0.416667, 0.527778, 0.361111, 0.444444, 0.5     ,\n",
       "       0.555556, 0.5     , 0.583333, 0.638889, 0.694444, 0.666667,\n",
       "       0.472222, 0.388889, 0.333333, 0.333333, 0.416667, 0.472222,\n",
       "       0.305556, 0.472222, 0.666667, 0.555556, 0.361111, 0.333333,\n",
       "       0.333333, 0.5     , 0.416667, 0.194444, 0.361111, 0.388889,\n",
       "       0.388889, 0.527778, 0.222222, 0.388889, 0.555556, 0.416667,\n",
       "       0.777778, 0.555556, 0.611111, 0.916667, 0.166667, 0.833333,\n",
       "       0.666667, 0.805556, 0.611111, 0.583333, 0.694444, 0.388889,\n",
       "       0.416667, 0.583333, 0.611111, 0.944444, 0.944444, 0.472222,\n",
       "       0.722222, 0.361111, 0.944444, 0.555556, 0.666667, 0.805556,\n",
       "       0.527778, 0.5     , 0.583333, 0.805556, 0.861111, 1.      ,\n",
       "       0.583333, 0.555556, 0.5     , 0.944444, 0.555556, 0.583333,\n",
       "       0.472222, 0.722222, 0.666667, 0.722222, 0.416667, 0.694444,\n",
       "       0.666667, 0.666667, 0.555556, 0.611111, 0.527778, 0.444444])"
      ]
     },
     "execution_count": 63,
     "metadata": {},
     "output_type": "execute_result"
    }
   ],
   "source": [
    "# Create a normalized form of iris's sepallength whose values range exactly \n",
    "# between 0 and 1 so that the minimum has value 0 and maximum has value 1.\n",
    "url = 'https://archive.ics.uci.edu/ml/machine-learning-databases/iris/iris.data'\n",
    "sepallength = np.genfromtxt(url, delimiter=',', dtype='float', usecols=[0])\n",
    "Smax, Smin = sepallength.max(), sepallength.min()\n",
    "S = (sepallength - Smin)/(Smax - Smin)\n",
    "S"
   ]
  },
  {
   "cell_type": "code",
   "execution_count": 64,
   "metadata": {},
   "outputs": [
    {
     "name": "stdout",
     "output_type": "stream",
     "text": [
      "[0.00222  0.001817 0.001488 0.001346 0.002008 0.002996 0.001346 0.002008\n",
      " 0.001102 0.001817 0.002996 0.001644 0.001644 0.000997 0.00447  0.004044\n",
      " 0.002996 0.00222  0.004044 0.00222  0.002996 0.00222  0.001346 0.00222\n",
      " 0.001644 0.002008 0.002008 0.002453 0.002453 0.001488 0.001644 0.002996\n",
      " 0.002453 0.003311 0.001817 0.002008 0.003311 0.001817 0.001102 0.00222\n",
      " 0.002008 0.001218 0.001102 0.002008 0.00222  0.001644 0.00222  0.001346\n",
      " 0.002711 0.002008 0.01484  0.008144 0.013428 0.003311 0.009001 0.004044\n",
      " 0.007369 0.001817 0.009947 0.002453 0.002008 0.00494  0.005459 0.006033\n",
      " 0.003659 0.010994 0.003659 0.00447  0.006668 0.003659 0.00494  0.006033\n",
      " 0.007369 0.006033 0.008144 0.009947 0.01215  0.010994 0.005459 0.004044\n",
      " 0.003311 0.003311 0.00447  0.005459 0.002996 0.005459 0.010994 0.007369\n",
      " 0.003659 0.003311 0.003311 0.006033 0.00447  0.002008 0.003659 0.004044\n",
      " 0.004044 0.006668 0.00222  0.004044 0.007369 0.00447  0.016401 0.007369\n",
      " 0.009001 0.02704  0.001817 0.020032 0.010994 0.018126 0.009001 0.008144\n",
      " 0.01215  0.004044 0.00447  0.008144 0.009001 0.029884 0.029884 0.005459\n",
      " 0.013428 0.003659 0.029884 0.007369 0.010994 0.018126 0.006668 0.006033\n",
      " 0.008144 0.018126 0.022139 0.0365   0.008144 0.007369 0.006033 0.029884\n",
      " 0.007369 0.008144 0.005459 0.013428 0.010994 0.013428 0.00447  0.01215\n",
      " 0.010994 0.010994 0.007369 0.009001 0.006668 0.00494 ]\n"
     ]
    }
   ],
   "source": [
    "# Compute the softmax score of sepallength.\n",
    "url = 'https://archive.ics.uci.edu/ml/machine-learning-databases/iris/iris.data'\n",
    "iris = np.genfromtxt(url, delimiter=',', dtype='object')\n",
    "sepallength = np.array([float(row[0]) for row in iris])\n",
    "\n",
    "# Solution\n",
    "def softmax(x):\n",
    "    \"\"\"Compute softmax values for each sets of scores in x.\n",
    "    https://stackoverflow.com/questions/34968722/how-to-implement-the-softmax-function-in-python\"\"\"\n",
    "    e_x = np.exp(x - np.max(x))\n",
    "    return e_x / e_x.sum(axis=0)\n",
    "\n",
    "print(softmax(sepallength))"
   ]
  },
  {
   "cell_type": "code",
   "execution_count": 66,
   "metadata": {},
   "outputs": [
    {
     "data": {
      "text/plain": [
       "array([4.6  , 7.255])"
      ]
     },
     "execution_count": 66,
     "metadata": {},
     "output_type": "execute_result"
    }
   ],
   "source": [
    "# Find the 5th and 95th percentile of iris's sepallength\n",
    "url = 'https://archive.ics.uci.edu/ml/machine-learning-databases/iris/iris.data'\n",
    "sepallength = np.genfromtxt(url, delimiter=',', dtype='float', usecols=[0])\n",
    "\n",
    "# Solution\n",
    "np.percentile(sepallength, q=[5, 95])"
   ]
  },
  {
   "cell_type": "code",
   "execution_count": 72,
   "metadata": {},
   "outputs": [
    {
     "name": "stdout",
     "output_type": "stream",
     "text": [
      "[[b'5.1' b'3.5' b'1.4' b'0.2' b'Iris-setosa']\n",
      " [b'4.9' b'3.0' b'1.4' b'0.2' b'Iris-setosa']\n",
      " [b'4.7' b'3.2' b'1.3' b'0.2' b'Iris-setosa']\n",
      " [b'4.6' b'3.1' b'1.5' b'0.2' b'Iris-setosa']\n",
      " [b'5.0' b'3.6' b'1.4' b'0.2' b'Iris-setosa']\n",
      " [b'5.4' b'3.9' b'1.7' b'0.4' b'Iris-setosa']\n",
      " [b'4.6' b'3.4' b'1.4' b'0.3' b'Iris-setosa']\n",
      " [b'5.0' b'3.4' b'1.5' b'0.2' b'Iris-setosa']\n",
      " [b'4.4' b'2.9' b'1.4' b'0.2' b'Iris-setosa']\n",
      " [b'4.9' b'3.1' b'1.5' b'0.1' b'Iris-setosa']\n",
      " [b'5.4' b'3.7' b'1.5' nan b'Iris-setosa']\n",
      " [b'4.8' b'3.4' b'1.6' b'0.2' b'Iris-setosa']\n",
      " [b'4.8' b'3.0' b'1.4' b'0.1' b'Iris-setosa']\n",
      " [b'4.3' b'3.0' b'1.1' b'0.1' b'Iris-setosa']\n",
      " [b'5.8' b'4.0' b'1.2' b'0.2' b'Iris-setosa']\n",
      " [b'5.7' b'4.4' nan b'0.4' b'Iris-setosa']\n",
      " [b'5.4' b'3.9' b'1.3' b'0.4' b'Iris-setosa']\n",
      " [b'5.1' b'3.5' b'1.4' nan b'Iris-setosa']\n",
      " [b'5.7' b'3.8' b'1.7' nan b'Iris-setosa']\n",
      " [b'5.1' b'3.8' b'1.5' b'0.3' b'Iris-setosa']]\n"
     ]
    }
   ],
   "source": [
    "# Insert np.nan values at 20 random positions in iris_2d dataset\n",
    "url = 'https://archive.ics.uci.edu/ml/machine-learning-databases/iris/iris.data'\n",
    "iris_2d = np.genfromtxt(url, delimiter=',', dtype='object')\n",
    "i, j = np.where(iris_2d)\n",
    "np.random.seed(100)\n",
    "iris_2d[np.random.choice((i), 20), np.random.choice((j), 20)] = np.nan\n",
    "print(iris_2d[:20])"
   ]
  },
  {
   "cell_type": "code",
   "execution_count": 74,
   "metadata": {},
   "outputs": [
    {
     "name": "stdout",
     "output_type": "stream",
     "text": [
      "Number of missing values: \n",
      " 3\n",
      "Position of missing values: \n",
      " (array([ 58, 102, 122], dtype=int64),)\n"
     ]
    }
   ],
   "source": [
    "# Find the number and position of missing values in iris_2d's sepallength (1st column)\n",
    "url = 'https://archive.ics.uci.edu/ml/machine-learning-databases/iris/iris.data'\n",
    "iris_2d = np.genfromtxt(url, delimiter=',', dtype='float')\n",
    "iris_2d[np.random.randint(150, size=20), np.random.randint(4, size=20)] = np.nan\n",
    "\n",
    "print(\"Number of missing values: \\n\", np.isnan(iris_2d[:, 0]).sum())\n",
    "print(\"Position of missing values: \\n\", np.where(np.isnan(iris_2d[:, 0])))"
   ]
  },
  {
   "cell_type": "code",
   "execution_count": 77,
   "metadata": {},
   "outputs": [
    {
     "data": {
      "text/plain": [
       "array([[4.8, 3.4, 1.6, 0.2],\n",
       "       [4.8, 3.4, 1.9, 0.2],\n",
       "       [4.7, 3.2, 1.6, 0.2],\n",
       "       [4.8, 3.1, 1.6, 0.2],\n",
       "       [4.9, 2.4, 3.3, 1. ],\n",
       "       [4.9, 2.5, 4.5, 1.7]])"
      ]
     },
     "execution_count": 77,
     "metadata": {},
     "output_type": "execute_result"
    }
   ],
   "source": [
    "# Filter the rows of iris_2d that has petallength (3rd column) > 1.5 and sepallength (1st column) < 5.0\n",
    "url = 'https://archive.ics.uci.edu/ml/machine-learning-databases/iris/iris.data'\n",
    "iris_2d = np.genfromtxt(url, delimiter=',', dtype='float', usecols=[0,1,2,3])\n",
    "condition = (iris_2d[:,2] > 1.5) & (iris_2d[:,0] < 5.0)\n",
    "iris_2d[condition]"
   ]
  },
  {
   "cell_type": "code",
   "execution_count": 79,
   "metadata": {},
   "outputs": [
    {
     "data": {
      "text/plain": [
       "array([[4.9, 3. , 1.4, 0.2],\n",
       "       [4.7, 3.2, 1.3, 0.2],\n",
       "       [4.6, 3.1, 1.5, 0.2],\n",
       "       [5. , 3.6, 1.4, 0.2],\n",
       "       [5.4, 3.9, 1.7, 0.4]])"
      ]
     },
     "execution_count": 79,
     "metadata": {},
     "output_type": "execute_result"
    }
   ],
   "source": [
    "# Select the rows of iris_2d that does not have any nan value.\n",
    "url = 'https://archive.ics.uci.edu/ml/machine-learning-databases/iris/iris.data'\n",
    "iris_2d = np.genfromtxt(url, delimiter=',', dtype='float', usecols=[0,1,2,3])\n",
    "iris_2d[np.random.randint(150, size=20), np.random.randint(4, size=20)] = np.nan\n",
    "new_2d= iris_2d[np.sum(np.isnan(iris_2d), axis = 1) == 0]\n",
    "new_2d[:5]"
   ]
  },
  {
   "cell_type": "code",
   "execution_count": 81,
   "metadata": {},
   "outputs": [
    {
     "data": {
      "text/plain": [
       "0.8717541573048718"
      ]
     },
     "execution_count": 81,
     "metadata": {},
     "output_type": "execute_result"
    }
   ],
   "source": [
    "# Find the correlation between SepalLength(1st column) and PetalLength(3rd column) in iris_2d\n",
    "url = 'https://archive.ics.uci.edu/ml/machine-learning-databases/iris/iris.data'\n",
    "iris = np.genfromtxt(url, delimiter=',', dtype='float', usecols=[0,1,2,3])\n",
    "\n",
    "np.corrcoef(iris[:, 0], iris[:,2])[0,1]"
   ]
  },
  {
   "cell_type": "code",
   "execution_count": 82,
   "metadata": {},
   "outputs": [
    {
     "data": {
      "text/plain": [
       "False"
      ]
     },
     "execution_count": 82,
     "metadata": {},
     "output_type": "execute_result"
    }
   ],
   "source": [
    "# Find out if iris_2d has any missing values\n",
    "url = 'https://archive.ics.uci.edu/ml/machine-learning-databases/iris/iris.data'\n",
    "iris_2d = np.genfromtxt(url, delimiter=',', dtype='float', usecols=[0,1,2,3])\n",
    "\n",
    "np.isnan(iris_2d).any()"
   ]
  },
  {
   "cell_type": "code",
   "execution_count": 83,
   "metadata": {},
   "outputs": [
    {
     "data": {
      "text/plain": [
       "array([[5.1, 3.5, 1.4, 0.2],\n",
       "       [4.9, 3. , 1.4, 0.2],\n",
       "       [4.7, 3.2, 1.3, 0.2],\n",
       "       [4.6, 3.1, 1.5, 0.2]])"
      ]
     },
     "execution_count": 83,
     "metadata": {},
     "output_type": "execute_result"
    }
   ],
   "source": [
    "#  Replace all ccurrences of nan with 0 in numpy array\n",
    "url = 'https://archive.ics.uci.edu/ml/machine-learning-databases/iris/iris.data'\n",
    "iris_2d = np.genfromtxt(url, delimiter=',', dtype='float', usecols=[0,1,2,3])\n",
    "iris_2d[np.random.randint(150, size=20), np.random.randint(4, size=20)] = np.nan\n",
    "\n",
    "iris_2d[np.isnan(iris_2d)] = 0\n",
    "iris_2d[:4]"
   ]
  },
  {
   "cell_type": "code",
   "execution_count": 85,
   "metadata": {},
   "outputs": [
    {
     "data": {
      "text/plain": [
       "(array([b'Iris-setosa', b'Iris-versicolor', b'Iris-virginica'],\n",
       "       dtype='|S15'), array([50, 50, 50], dtype=int64))"
      ]
     },
     "execution_count": 85,
     "metadata": {},
     "output_type": "execute_result"
    }
   ],
   "source": [
    "# Find the unique values and the count of unique values in iris's species\n",
    "url = 'https://archive.ics.uci.edu/ml/machine-learning-databases/iris/iris.data'\n",
    "iris = np.genfromtxt(url, delimiter=',', dtype='object')\n",
    "names = ('sepallength', 'sepalwidth', 'petallength', 'petalwidth', 'species')\n",
    "\n",
    "species = np.array([row.tolist()[4] for row in iris])\n",
    "np.unique(species, return_counts=True)"
   ]
  },
  {
   "cell_type": "code",
   "execution_count": 88,
   "metadata": {},
   "outputs": [
    {
     "data": {
      "text/plain": [
       "['small', 'small', 'small', 'small']"
      ]
     },
     "execution_count": 88,
     "metadata": {},
     "output_type": "execute_result"
    }
   ],
   "source": [
    "# Bin the petal length (3rd) column of iris_2d to form a text array, such that if petal length is:\n",
    "# Less than 3 --> 'small'\n",
    "# 3-5 --> 'medium'\n",
    "# '>=5 --> 'large'\n",
    "\n",
    "url = 'https://archive.ics.uci.edu/ml/machine-learning-databases/iris/iris.data'\n",
    "iris = np.genfromtxt(url, delimiter=',', dtype='object')\n",
    "names = ('sepallength', 'sepalwidth', 'petallength', 'petalwidth', 'species')\n",
    "\n",
    "# Bin petallength \n",
    "petal_length_bin = np.digitize(iris[:, 2].astype('float'), [0, 3, 5, 10])\n",
    "\n",
    "# Map it to respective category\n",
    "label_map = {1: 'small', 2: 'medium', 3: 'large', 4: np.nan}\n",
    "petal_length_cat = [label_map[x] for x in petal_length_bin]\n",
    "\n",
    "# View\n",
    "petal_length_cat[:4]"
   ]
  },
  {
   "cell_type": "code",
   "execution_count": 89,
   "metadata": {},
   "outputs": [
    {
     "data": {
      "text/plain": [
       "array([[b'5.1', b'3.5', b'1.4', b'0.2', b'Iris-setosa',\n",
       "        38.13265162927291],\n",
       "       [b'4.9', b'3.0', b'1.4', b'0.2', b'Iris-setosa',\n",
       "        35.200498485922445],\n",
       "       [b'4.7', b'3.2', b'1.3', b'0.2', b'Iris-setosa', 30.0723720777127],\n",
       "       [b'4.6', b'3.1', b'1.5', b'0.2', b'Iris-setosa',\n",
       "        33.238050274980004]], dtype=object)"
      ]
     },
     "execution_count": 89,
     "metadata": {},
     "output_type": "execute_result"
    }
   ],
   "source": [
    "#  Create a new column for volume in iris_2d, where volume is (pi x petallength x sepal_length^2)/3\n",
    "url = 'https://archive.ics.uci.edu/ml/machine-learning-databases/iris/iris.data'\n",
    "iris_2d = np.genfromtxt(url, delimiter=',', dtype='object')\n",
    "names = ('sepallength', 'sepalwidth', 'petallength', 'petalwidth', 'species')\n",
    "\n",
    "\n",
    "# Compute volume\n",
    "sepallength = iris_2d[:, 0].astype('float')\n",
    "petallength = iris_2d[:, 2].astype('float')\n",
    "volume = (np.pi * petallength * (sepallength**2))/3\n",
    "\n",
    "# Introduce new dimension to match iris_2d's\n",
    "volume = volume[:, np.newaxis]\n",
    "\n",
    "# Add the new column\n",
    "out = np.hstack([iris_2d, volume])\n",
    "\n",
    "# View\n",
    "out[:4]"
   ]
  },
  {
   "cell_type": "code",
   "execution_count": 93,
   "metadata": {},
   "outputs": [
    {
     "data": {
      "text/plain": [
       "1.7"
      ]
     },
     "execution_count": 93,
     "metadata": {},
     "output_type": "execute_result"
    }
   ],
   "source": [
    "# Randomly sample iris's species such that setose is twice the number of versicolor and virginica\n",
    "url = 'https://archive.ics.uci.edu/ml/machine-learning-databases/iris/iris.data'\n",
    "iris = np.genfromtxt(url, delimiter=',', dtype='object')\n",
    "\n",
    "# Solution\n",
    "# Get the species and petal length columns\n",
    "petal_len_setosa = iris[iris[:, 4] == b'Iris-setosa', [2]].astype('float')\n",
    "\n",
    "# Get the second last value\n",
    "np.unique(np.sort(petal_len_setosa))[-2]"
   ]
  },
  {
   "cell_type": "code",
   "execution_count": 94,
   "metadata": {},
   "outputs": [
    {
     "name": "stdout",
     "output_type": "stream",
     "text": [
      "[[b'4.3' b'3.0' b'1.1' b'0.1' b'Iris-setosa']\n",
      " [b'4.4' b'3.2' b'1.3' b'0.2' b'Iris-setosa']\n",
      " [b'4.4' b'3.0' b'1.3' b'0.2' b'Iris-setosa']\n",
      " [b'4.4' b'2.9' b'1.4' b'0.2' b'Iris-setosa']\n",
      " [b'4.5' b'2.3' b'1.3' b'0.3' b'Iris-setosa']\n",
      " [b'4.6' b'3.6' b'1.0' b'0.2' b'Iris-setosa']\n",
      " [b'4.6' b'3.1' b'1.5' b'0.2' b'Iris-setosa']\n",
      " [b'4.6' b'3.4' b'1.4' b'0.3' b'Iris-setosa']\n",
      " [b'4.6' b'3.2' b'1.4' b'0.2' b'Iris-setosa']\n",
      " [b'4.7' b'3.2' b'1.3' b'0.2' b'Iris-setosa']\n",
      " [b'4.7' b'3.2' b'1.6' b'0.2' b'Iris-setosa']\n",
      " [b'4.8' b'3.0' b'1.4' b'0.1' b'Iris-setosa']\n",
      " [b'4.8' b'3.0' b'1.4' b'0.3' b'Iris-setosa']\n",
      " [b'4.8' b'3.4' b'1.9' b'0.2' b'Iris-setosa']\n",
      " [b'4.8' b'3.4' b'1.6' b'0.2' b'Iris-setosa']\n",
      " [b'4.8' b'3.1' b'1.6' b'0.2' b'Iris-setosa']\n",
      " [b'4.9' b'2.4' b'3.3' b'1.0' b'Iris-versicolor']\n",
      " [b'4.9' b'2.5' b'4.5' b'1.7' b'Iris-virginica']\n",
      " [b'4.9' b'3.1' b'1.5' b'0.1' b'Iris-setosa']\n",
      " [b'4.9' b'3.1' b'1.5' b'0.1' b'Iris-setosa']]\n"
     ]
    }
   ],
   "source": [
    "# Sort the iris dataset based on sepallength column.\n",
    "url = 'https://archive.ics.uci.edu/ml/machine-learning-databases/iris/iris.data'\n",
    "iris = np.genfromtxt(url, delimiter=',', dtype='object')\n",
    "names = ('sepallength', 'sepalwidth', 'petallength', 'petalwidth', 'species')\n",
    "\n",
    "print(iris[iris[:,0].argsort()][:20])"
   ]
  },
  {
   "cell_type": "code",
   "execution_count": 95,
   "metadata": {},
   "outputs": [
    {
     "name": "stdout",
     "output_type": "stream",
     "text": [
      "b'1.5'\n"
     ]
    }
   ],
   "source": [
    "# Find the most frequent value of petal length (3rd column) in iris dataset.\n",
    "rl = 'https://archive.ics.uci.edu/ml/machine-learning-databases/iris/iris.data'\n",
    "iris = np.genfromtxt(url, delimiter=',', dtype='object')\n",
    "\n",
    "vals, counts = np.unique(iris[:, 2], return_counts=True)\n",
    "print(vals[np.argmax(counts)])"
   ]
  },
  {
   "cell_type": "code",
   "execution_count": 100,
   "metadata": {},
   "outputs": [
    {
     "name": "stdout",
     "output_type": "stream",
     "text": [
      "[50]\n"
     ]
    }
   ],
   "source": [
    "#  Find the position of the first occurrence of a value greater than 1.0 in petalwidth 4th column of iris dataset.\n",
    "url = 'https://archive.ics.uci.edu/ml/machine-learning-databases/iris/iris.data'\n",
    "iris = np.genfromtxt(url, delimiter=',', dtype='object')\n",
    "\n",
    "print(np.argwhere(iris[:, 3].astype(float) > 1.0)[0])"
   ]
  },
  {
   "cell_type": "code",
   "execution_count": 101,
   "metadata": {},
   "outputs": [
    {
     "name": "stdout",
     "output_type": "stream",
     "text": [
      "[27.63 14.64 21.8  30.   10.   10.   30.   30.   10.   29.18 30.   11.25\n",
      " 10.08 10.   11.77 30.   30.   10.   30.   14.43]\n"
     ]
    }
   ],
   "source": [
    "# From the array a, replace all values greater than 30 to 30 and less than 10 to 10.\n",
    "np.set_printoptions(precision=2)\n",
    "np.random.seed(100)\n",
    "a = np.random.uniform(1,50, 20)\n",
    "\n",
    "# Solution 2: Using np.where\n",
    "print(np.where(a < 10, 10, np.where(a > 30, 30, a)))"
   ]
  },
  {
   "cell_type": "code",
   "execution_count": 103,
   "metadata": {},
   "outputs": [
    {
     "name": "stdout",
     "output_type": "stream",
     "text": [
      "[ 4 13  5  8 17 12 11 14 19  1  2  0  9  6 16 18  7  3 10 15]\n"
     ]
    },
    {
     "data": {
      "text/plain": [
       "array([41.  , 41.47, 42.39, 44.67, 48.95])"
      ]
     },
     "execution_count": 103,
     "metadata": {},
     "output_type": "execute_result"
    }
   ],
   "source": [
    "# Get the positions of top 5 maximum values in a given array a.\n",
    "np.random.seed(100)\n",
    "a = np.random.uniform(1,50, 20)\n",
    "\n",
    "# Solution:\n",
    "print(a.argsort())\n",
    "\n",
    "np.sort(a)[-5:]"
   ]
  },
  {
   "cell_type": "code",
   "execution_count": 104,
   "metadata": {},
   "outputs": [
    {
     "name": "stdout",
     "output_type": "stream",
     "text": [
      "[ 1  2  3  4  5  6  7  8  9 10]\n"
     ]
    },
    {
     "data": {
      "text/plain": [
       "[[1, 0, 2, 1, 1, 1, 0, 2, 2, 0],\n",
       " [2, 1, 3, 0, 1, 0, 1, 0, 1, 1],\n",
       " [0, 3, 0, 2, 3, 1, 0, 1, 0, 0],\n",
       " [1, 0, 2, 1, 0, 1, 0, 2, 1, 2],\n",
       " [2, 2, 2, 0, 0, 1, 1, 1, 1, 0],\n",
       " [1, 1, 1, 1, 1, 2, 0, 0, 2, 1]]"
      ]
     },
     "execution_count": 104,
     "metadata": {},
     "output_type": "execute_result"
    }
   ],
   "source": [
    "# Compute the counts of unique values row-wise.\n",
    "np.random.seed(100)\n",
    "arr = np.random.randint(1,11,size=(6, 10))\n",
    "arr\n",
    "\n",
    "# Solution\n",
    "def counts_of_all_values_rowwise(arr2d):\n",
    "    # Unique values and its counts row wise\n",
    "    num_counts_array = [np.unique(row, return_counts=True) for row in arr2d]\n",
    "\n",
    "    # Counts of all values row wise\n",
    "    return([[int(b[a==i]) if i in a else 0 for i in np.unique(arr2d)] for a, b in num_counts_array])\n",
    "\n",
    "# Print\n",
    "print(np.arange(1,11))\n",
    "counts_of_all_values_rowwise(arr)"
   ]
  },
  {
   "cell_type": "code",
   "execution_count": 105,
   "metadata": {},
   "outputs": [
    {
     "name": "stdout",
     "output_type": "stream",
     "text": [
      "array_of_arrays:  [array([0, 1, 2]) array([3, 4, 5, 6]) array([7, 8, 9])]\n",
      "[0 1 2 3 4 5 6 7 8 9]\n"
     ]
    }
   ],
   "source": [
    "# Convert array_of_arrays into a flat linear 1d array.\n",
    "arr1 = np.arange(3)\n",
    "arr2 = np.arange(3,7)\n",
    "arr3 = np.arange(7,10)\n",
    "\n",
    "array_of_arrays = np.array([arr1, arr2, arr3])\n",
    "print('array_of_arrays: ', array_of_arrays)\n",
    "\n",
    "# Solution 1\n",
    "arr_2d = np.array([a for arr in array_of_arrays for a in arr])\n",
    "\n",
    "arr_2d = np.concatenate(array_of_arrays)\n",
    "print(arr_2d)"
   ]
  },
  {
   "cell_type": "code",
   "execution_count": 106,
   "metadata": {},
   "outputs": [
    {
     "data": {
      "text/plain": [
       "array([[0., 1., 0.],\n",
       "       [0., 0., 1.],\n",
       "       [0., 1., 0.],\n",
       "       [0., 1., 0.],\n",
       "       [0., 1., 0.],\n",
       "       [1., 0., 0.]])"
      ]
     },
     "execution_count": 106,
     "metadata": {},
     "output_type": "execute_result"
    }
   ],
   "source": [
    "# Compute the one-hot encodings (dummy binary variables for each unique value in the array)\n",
    "np.random.seed(101) \n",
    "arr = np.random.randint(1,4, size=6)\n",
    "arr\n",
    "#> array([2, 3, 2, 2, 2, 1])\n",
    "\n",
    "# Solution:\n",
    "def one_hot_encodings(arr):\n",
    "    uniqs = np.unique(arr)\n",
    "    out = np.zeros((arr.shape[0], uniqs.shape[0]))\n",
    "    for i, k in enumerate(arr):\n",
    "        out[i, k-1] = 1\n",
    "    return out\n",
    "\n",
    "one_hot_encodings(arr)"
   ]
  },
  {
   "cell_type": "code",
   "execution_count": 107,
   "metadata": {},
   "outputs": [
    {
     "data": {
      "text/plain": [
       "array(['Iris-setosa', 'Iris-setosa', 'Iris-setosa', 'Iris-setosa',\n",
       "       'Iris-setosa', 'Iris-versicolor', 'Iris-versicolor',\n",
       "       'Iris-versicolor', 'Iris-versicolor', 'Iris-versicolor',\n",
       "       'Iris-versicolor', 'Iris-versicolor', 'Iris-versicolor',\n",
       "       'Iris-versicolor', 'Iris-virginica', 'Iris-virginica',\n",
       "       'Iris-virginica', 'Iris-virginica', 'Iris-virginica',\n",
       "       'Iris-virginica'], dtype='<U15')"
      ]
     },
     "execution_count": 107,
     "metadata": {},
     "output_type": "execute_result"
    }
   ],
   "source": [
    "# Create row numbers grouped by a categorical variable. Use the following sample from iris species as input.\n",
    "url = 'https://archive.ics.uci.edu/ml/machine-learning-databases/iris/iris.data'\n",
    "species = np.genfromtxt(url, delimiter=',', dtype='str', usecols=4)\n",
    "np.random.seed(100)\n",
    "species_small = np.sort(np.random.choice(species, size=20))\n",
    "species_small"
   ]
  },
  {
   "cell_type": "code",
   "execution_count": 108,
   "metadata": {},
   "outputs": [
    {
     "name": "stdout",
     "output_type": "stream",
     "text": [
      "[0, 0, 0, 0, 0, 1, 1, 1, 1, 1, 1, 1, 1, 1, 2, 2, 2, 2, 2, 2]\n"
     ]
    }
   ],
   "source": [
    "# Create group ids based on a given categorical variable. Use the following sample from iris species as input.\n",
    "url = 'https://archive.ics.uci.edu/ml/machine-learning-databases/iris/iris.data'\n",
    "species = np.genfromtxt(url, delimiter=',', dtype='str', usecols=4)\n",
    "np.random.seed(100)\n",
    "species_small = np.sort(np.random.choice(species, size=20))\n",
    "species_small\n",
    "\n",
    "output = []\n",
    "uniqs = np.unique(species_small)\n",
    "\n",
    "for val in uniqs:  # uniq values in group\n",
    "    for s in species_small[species_small==val]:  # each element in group\n",
    "        groupid = np.argwhere(uniqs == s).tolist()[0][0]  # groupid\n",
    "        output.append(groupid)\n",
    "\n",
    "print(output)"
   ]
  },
  {
   "cell_type": "code",
   "execution_count": 109,
   "metadata": {},
   "outputs": [
    {
     "name": "stdout",
     "output_type": "stream",
     "text": [
      "Array:  [ 9  4 15  0 17 16 17  8  9  0]\n",
      "[4 2 6 0 8 7 9 3 5 1]\n",
      "Array:  [ 9  4 15  0 17 16 17  8  9  0]\n"
     ]
    }
   ],
   "source": [
    "# Create the ranks for the given numeric array a.\n",
    "np.random.seed(10)\n",
    "a = np.random.randint(20, size=10)\n",
    "print('Array: ', a)\n",
    "\n",
    "# Solution\n",
    "print(a.argsort().argsort())\n",
    "print('Array: ', a)"
   ]
  },
  {
   "cell_type": "code",
   "execution_count": 110,
   "metadata": {},
   "outputs": [
    {
     "name": "stdout",
     "output_type": "stream",
     "text": [
      "[[ 9  4 15  0 17]\n",
      " [16 17  8  9  0]]\n",
      "[[4 2 6 0 8]\n",
      " [7 9 3 5 1]]\n"
     ]
    }
   ],
   "source": [
    "# Create a rank array of the same shape as a given numeric array a.\n",
    "np.random.seed(10)\n",
    "a = np.random.randint(20, size=[2,5])\n",
    "print(a)\n",
    "\n",
    "# Solution\n",
    "print(a.ravel().argsort().argsort().reshape(a.shape))"
   ]
  },
  {
   "cell_type": "code",
   "execution_count": 111,
   "metadata": {},
   "outputs": [
    {
     "data": {
      "text/plain": [
       "array([9, 8, 6, 3, 9])"
      ]
     },
     "execution_count": 111,
     "metadata": {},
     "output_type": "execute_result"
    }
   ],
   "source": [
    "# Compute the maximum for each row in the given array.\n",
    "np.random.seed(100)\n",
    "a = np.random.randint(1,10, [5,3])\n",
    "a\n",
    "\n",
    "# Solution 1\n",
    "np.amax(a, axis=1)\n",
    "\n",
    "# Solution 2\n",
    "np.apply_along_axis(np.max, arr=a, axis=1)\n",
    "#> array([9, 8, 6, 3, 9])"
   ]
  },
  {
   "cell_type": "code",
   "execution_count": 112,
   "metadata": {},
   "outputs": [
    {
     "data": {
      "text/plain": [
       "array([0.44, 0.12, 0.5 , 1.  , 0.11])"
      ]
     },
     "execution_count": 112,
     "metadata": {},
     "output_type": "execute_result"
    }
   ],
   "source": [
    "# Compute the min-by-max for each row for given 2d numpy array.\n",
    "np.random.seed(100)\n",
    "a = np.random.randint(1,10, [5,3])\n",
    "a\n",
    "\n",
    "# Solution\n",
    "np.apply_along_axis(lambda x: np.min(x)/np.max(x), arr=a, axis=1)"
   ]
  },
  {
   "cell_type": "code",
   "execution_count": 113,
   "metadata": {},
   "outputs": [
    {
     "name": "stdout",
     "output_type": "stream",
     "text": [
      "[False  True False  True False False  True  True  True  True]\n"
     ]
    }
   ],
   "source": [
    "# Find the duplicate entries (2nd occurrence onwards) in the given numpy array and mark them as True. First time occurrences should be False.\n",
    "np.random.seed(100)\n",
    "a = np.random.randint(0, 5, 10)\n",
    "\n",
    "## Solution\n",
    "# There is no direct function to do this as of 1.13.3\n",
    "\n",
    "# Create an all True array\n",
    "out = np.full(a.shape[0], True)\n",
    "\n",
    "# Find the index positions of unique elements\n",
    "unique_positions = np.unique(a, return_index=True)[1]\n",
    "\n",
    "# Mark those positions as False\n",
    "out[unique_positions] = False\n",
    "\n",
    "print(out)"
   ]
  },
  {
   "cell_type": "code",
   "execution_count": 114,
   "metadata": {},
   "outputs": [
    {
     "data": {
      "text/plain": [
       "[[b'Iris-setosa', 3.418],\n",
       " [b'Iris-versicolor', 2.7700000000000005],\n",
       " [b'Iris-virginica', 2.974]]"
      ]
     },
     "execution_count": 114,
     "metadata": {},
     "output_type": "execute_result"
    }
   ],
   "source": [
    "# Find the mean of a numeric column grouped by a categorical column in a 2D numpy array\n",
    "url = 'https://archive.ics.uci.edu/ml/machine-learning-databases/iris/iris.data'\n",
    "iris = np.genfromtxt(url, delimiter=',', dtype='object')\n",
    "names = ('sepallength', 'sepalwidth', 'petallength', 'petalwidth', 'species')\n",
    "\n",
    "\n",
    "# Solution\n",
    "# No direct way to implement this. Just a version of a workaround.\n",
    "numeric_column = iris[:, 1].astype('float')  # sepalwidth\n",
    "grouping_column = iris[:, 4]  # species\n",
    "\n",
    "# List comprehension version\n",
    "[[group_val, numeric_column[grouping_column==group_val].mean()] for group_val in np.unique(grouping_column)]\n",
    "\n",
    "# For Loop version\n",
    "output = []\n",
    "for group_val in np.unique(grouping_column):\n",
    "    output.append([group_val, numeric_column[grouping_column==group_val].mean()])\n",
    "\n",
    "output"
   ]
  },
  {
   "cell_type": "code",
   "execution_count": 115,
   "metadata": {},
   "outputs": [],
   "source": [
    "# Import the image from the following URL and convert it to a numpy array.\n",
    "# URL = 'https://upload.wikimedia.org/wikipedia/commons/8/8b/Denali_Mt_McKinley.jpg'\n",
    "\n",
    "from io import BytesIO\n",
    "from PIL import Image\n",
    "import PIL, requests\n",
    "\n",
    "# Import image from URL\n",
    "URL = 'https://upload.wikimedia.org/wikipedia/commons/8/8b/Denali_Mt_McKinley.jpg'\n",
    "response = requests.get(URL)\n",
    "\n",
    "# Read it as Image\n",
    "I = Image.open(BytesIO(response.content))\n",
    "\n",
    "# Optionally resize\n",
    "I = I.resize([150,150])\n",
    "\n",
    "# Convert to numpy array\n",
    "arr = np.asarray(I)\n",
    "\n",
    "# Optionaly Convert it back to an image and show\n",
    "im = PIL.Image.fromarray(np.uint8(arr))\n",
    "Image.Image.show(im)"
   ]
  },
  {
   "cell_type": "code",
   "execution_count": 116,
   "metadata": {},
   "outputs": [
    {
     "data": {
      "text/plain": [
       "array([1., 2., 3., 5., 6., 7.])"
      ]
     },
     "execution_count": 116,
     "metadata": {},
     "output_type": "execute_result"
    }
   ],
   "source": [
    "# Drop all nan values from a 1D numpy array\n",
    "a = np.array([1,2,3,np.nan,5,6,7,np.nan])\n",
    "a[~np.isnan(a)]"
   ]
  },
  {
   "cell_type": "code",
   "execution_count": 117,
   "metadata": {},
   "outputs": [
    {
     "data": {
      "text/plain": [
       "6.708203932499369"
      ]
     },
     "execution_count": 117,
     "metadata": {},
     "output_type": "execute_result"
    }
   ],
   "source": [
    "# Compute the euclidean distance between two arrays a and b.\n",
    "a = np.array([1,2,3,4,5])\n",
    "b = np.array([4,5,6,7,8])\n",
    "\n",
    "# Solution\n",
    "dist = np.linalg.norm(a-b)\n",
    "dist"
   ]
  },
  {
   "cell_type": "code",
   "execution_count": 118,
   "metadata": {},
   "outputs": [
    {
     "data": {
      "text/plain": [
       "array([2, 5], dtype=int64)"
      ]
     },
     "execution_count": 118,
     "metadata": {},
     "output_type": "execute_result"
    }
   ],
   "source": [
    "# Find all the peaks in a 1D numpy array a. Peaks are points surrounded by smaller values on both sides.\n",
    "a = np.array([1, 3, 7, 1, 2, 6, 0, 1])\n",
    "doublediff = np.diff(np.sign(np.diff(a)))\n",
    "peak_locations = np.where(doublediff == -2)[0] + 1\n",
    "peak_locations"
   ]
  },
  {
   "cell_type": "code",
   "execution_count": 119,
   "metadata": {},
   "outputs": [
    {
     "name": "stdout",
     "output_type": "stream",
     "text": [
      "[[2 2 2]\n",
      " [2 2 2]\n",
      " [2 2 2]]\n"
     ]
    }
   ],
   "source": [
    "#  Subtract the 1d array b_1d from the 2d array a_2d, such that each item of b_1d subtracts from respective row of a_2d.\n",
    "a_2d = np.array([[3,3,3],[4,4,4],[5,5,5]])\n",
    "b_1d = np.array([1,2,3])\n",
    "\n",
    "# Solution\n",
    "print(a_2d - b_1d[:,None])"
   ]
  },
  {
   "cell_type": "code",
   "execution_count": 120,
   "metadata": {},
   "outputs": [
    {
     "data": {
      "text/plain": [
       "8"
      ]
     },
     "execution_count": 120,
     "metadata": {},
     "output_type": "execute_result"
    }
   ],
   "source": [
    "# Find the index of 5th repetition of number 1 in x.\n",
    "x = np.array([1, 2, 1, 1, 3, 4, 3, 1, 1, 2, 1, 1, 2])\n",
    "n = 5\n",
    "\n",
    "# Solution 1: List comprehension\n",
    "[i for i, v in enumerate(x) if v == 1][n-1]\n",
    "\n",
    "# Solution 2: Numpy version\n",
    "np.where(x == 1)[0][n-1]"
   ]
  },
  {
   "cell_type": "code",
   "execution_count": 121,
   "metadata": {},
   "outputs": [
    {
     "data": {
      "text/plain": [
       "datetime.datetime(2018, 2, 25, 22, 10, 10)"
      ]
     },
     "execution_count": 121,
     "metadata": {},
     "output_type": "execute_result"
    }
   ],
   "source": [
    "# Convert numpy's datetime64 object to datetime's datetime object\n",
    "dt64 = np.datetime64('2018-02-25 22:10:10')\n",
    "\n",
    "# Solution\n",
    "from datetime import datetime\n",
    "dt64.tolist()\n",
    "\n",
    "# or\n",
    "\n",
    "dt64.astype(datetime)"
   ]
  },
  {
   "cell_type": "code",
   "execution_count": 123,
   "metadata": {},
   "outputs": [
    {
     "name": "stdout",
     "output_type": "stream",
     "text": [
      "array:  [8 8 3 7 7 0 4 2 5 2]\n"
     ]
    },
    {
     "data": {
      "text/plain": [
       "array([6.33, 6.  , 5.67, 4.67, 3.67, 2.  , 3.67, 3.  ])"
      ]
     },
     "execution_count": 123,
     "metadata": {},
     "output_type": "execute_result"
    }
   ],
   "source": [
    "# Compute the moving average of window size 3, for the given 1D array.\n",
    "def moving_average(a, n=3) :\n",
    "    ret = np.cumsum(a, dtype=float)\n",
    "    ret[n:] = ret[n:] - ret[:-n]\n",
    "    return ret[n - 1:] / n\n",
    "\n",
    "np.random.seed(100)\n",
    "Z = np.random.randint(10, size=10)\n",
    "print('array: ', Z)\n",
    "# Method 1\n",
    "moving_average(Z, n=3).round(2)\n",
    "\n",
    "# Method 2:  # Thanks AlanLRH!\n",
    "# np.ones(3)/3 gives equal weights. Use np.ones(4)/4 for window size 4.\n",
    "np.convolve(Z, np.ones(3)/3, mode='valid')"
   ]
  },
  {
   "cell_type": "code",
   "execution_count": 124,
   "metadata": {},
   "outputs": [
    {
     "data": {
      "text/plain": [
       "array([ 5,  8, 11, 14, 17, 20, 23, 26, 29, 32])"
      ]
     },
     "execution_count": 124,
     "metadata": {},
     "output_type": "execute_result"
    }
   ],
   "source": [
    "# Create a numpy array of length 10, starting from 5 and has a step of 3 between consecutive numbers\n",
    "length = 10\n",
    "start = 5\n",
    "step = 3\n",
    "\n",
    "def seq(start, length, step):\n",
    "    end = start + (step*length)\n",
    "    return np.arange(start, end, step)\n",
    "\n",
    "seq(start, length, step)"
   ]
  },
  {
   "cell_type": "code",
   "execution_count": 125,
   "metadata": {},
   "outputs": [
    {
     "name": "stdout",
     "output_type": "stream",
     "text": [
      "['2018-02-01' '2018-02-03' '2018-02-05' '2018-02-07' '2018-02-09'\n",
      " '2018-02-11' '2018-02-13' '2018-02-15' '2018-02-17' '2018-02-19'\n",
      " '2018-02-21' '2018-02-23']\n"
     ]
    },
    {
     "data": {
      "text/plain": [
       "array(['2018-02-01', '2018-02-02', '2018-02-03', '2018-02-04',\n",
       "       '2018-02-05', '2018-02-06', '2018-02-07', '2018-02-08',\n",
       "       '2018-02-09', '2018-02-10', '2018-02-11', '2018-02-12',\n",
       "       '2018-02-13', '2018-02-14', '2018-02-15', '2018-02-16',\n",
       "       '2018-02-17', '2018-02-18', '2018-02-19', '2018-02-20',\n",
       "       '2018-02-21', '2018-02-22', '2018-02-23'], dtype='datetime64[D]')"
      ]
     },
     "execution_count": 125,
     "metadata": {},
     "output_type": "execute_result"
    }
   ],
   "source": [
    "#  Given an array of a non-continuous sequence of dates. Make it a continuous sequence of dates, by filling in the missing dates.\n",
    "dates = np.arange(np.datetime64('2018-02-01'), np.datetime64('2018-02-25'), 2)\n",
    "print(dates)\n",
    "\n",
    "# Solution ---------------\n",
    "filled_in = np.array([np.arange(date, (date+d)) for date, d in zip(dates, np.diff(dates))]).reshape(-1)\n",
    "\n",
    "# add the last day\n",
    "output = np.hstack([filled_in, dates[-1]])\n",
    "output\n",
    "\n",
    "# For loop version -------\n",
    "out = []\n",
    "for date, d in zip(dates, np.diff(dates)):\n",
    "    out.append(np.arange(date, (date+d)))\n",
    "\n",
    "filled_in = np.array(out).reshape(-1)\n",
    "\n",
    "# add the last day\n",
    "output = np.hstack([filled_in, dates[-1]])\n",
    "output"
   ]
  },
  {
   "cell_type": "code",
   "execution_count": 126,
   "metadata": {},
   "outputs": [
    {
     "name": "stdout",
     "output_type": "stream",
     "text": [
      "[[ 0  1  2  3]\n",
      " [ 2  3  4  5]\n",
      " [ 4  5  6  7]\n",
      " [ 6  7  8  9]\n",
      " [ 8  9 10 11]\n",
      " [10 11 12 13]]\n"
     ]
    }
   ],
   "source": [
    "# From the given 1d array arr, generate a 2d matrix using strides, with a window length of 4 and strides of 2, like [[0,1,2,3], [2,3,4,5], [4,5,6,7]..]\n",
    "def gen_strides(a, stride_len=5, window_len=5):\n",
    "    n_strides = ((a.size-window_len)//stride_len) + 1\n",
    "    # return np.array([a[s:(s+window_len)] for s in np.arange(0, a.size, stride_len)[:n_strides]])\n",
    "    return np.array([a[s:(s+window_len)] for s in np.arange(0, n_strides*stride_len, stride_len)])\n",
    "\n",
    "print(gen_strides(np.arange(15), stride_len=2, window_len=4))"
   ]
  },
  {
   "cell_type": "code",
   "execution_count": null,
   "metadata": {},
   "outputs": [],
   "source": []
  }
 ],
 "metadata": {
  "kernelspec": {
   "display_name": "Python 3.7.4 64-bit (conda)",
   "language": "python",
   "name": "python37464bitconda1ef1291014014eada69bd7351af7bc74"
  },
  "language_info": {
   "codemirror_mode": {
    "name": "ipython",
    "version": 3
   },
   "file_extension": ".py",
   "mimetype": "text/x-python",
   "name": "python",
   "nbconvert_exporter": "python",
   "pygments_lexer": "ipython3",
   "version": "3.7.4"
  }
 },
 "nbformat": 4,
 "nbformat_minor": 2
}
