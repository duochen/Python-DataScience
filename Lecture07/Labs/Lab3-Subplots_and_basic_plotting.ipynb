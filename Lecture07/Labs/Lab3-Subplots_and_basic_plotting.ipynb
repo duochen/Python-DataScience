{
 "cells": [
  {
   "cell_type": "code",
   "execution_count": 14,
   "metadata": {},
   "outputs": [],
   "source": [
    "# Import libraries\n",
    "import numpy as np\n",
    "import matplotlib.pyplot as plt"
   ]
  },
  {
   "cell_type": "code",
   "execution_count": 17,
   "metadata": {},
   "outputs": [
    {
     "data": {
      "text/plain": [
       "array([ 0.        ,  0.1010101 ,  0.2020202 ,  0.3030303 ,  0.4040404 ,\n",
       "        0.50505051,  0.60606061,  0.70707071,  0.80808081,  0.90909091,\n",
       "        1.01010101,  1.11111111,  1.21212121,  1.31313131,  1.41414141,\n",
       "        1.51515152,  1.61616162,  1.71717172,  1.81818182,  1.91919192,\n",
       "        2.02020202,  2.12121212,  2.22222222,  2.32323232,  2.42424242,\n",
       "        2.52525253,  2.62626263,  2.72727273,  2.82828283,  2.92929293,\n",
       "        3.03030303,  3.13131313,  3.23232323,  3.33333333,  3.43434343,\n",
       "        3.53535354,  3.63636364,  3.73737374,  3.83838384,  3.93939394,\n",
       "        4.04040404,  4.14141414,  4.24242424,  4.34343434,  4.44444444,\n",
       "        4.54545455,  4.64646465,  4.74747475,  4.84848485,  4.94949495,\n",
       "        5.05050505,  5.15151515,  5.25252525,  5.35353535,  5.45454545,\n",
       "        5.55555556,  5.65656566,  5.75757576,  5.85858586,  5.95959596,\n",
       "        6.06060606,  6.16161616,  6.26262626,  6.36363636,  6.46464646,\n",
       "        6.56565657,  6.66666667,  6.76767677,  6.86868687,  6.96969697,\n",
       "        7.07070707,  7.17171717,  7.27272727,  7.37373737,  7.47474747,\n",
       "        7.57575758,  7.67676768,  7.77777778,  7.87878788,  7.97979798,\n",
       "        8.08080808,  8.18181818,  8.28282828,  8.38383838,  8.48484848,\n",
       "        8.58585859,  8.68686869,  8.78787879,  8.88888889,  8.98989899,\n",
       "        9.09090909,  9.19191919,  9.29292929,  9.39393939,  9.49494949,\n",
       "        9.5959596 ,  9.6969697 ,  9.7979798 ,  9.8989899 , 10.        ])"
      ]
     },
     "execution_count": 17,
     "metadata": {},
     "output_type": "execute_result"
    }
   ],
   "source": [
    "# Create evenly spaced 100 numbers\n",
    "x = np.linspace(0, 10, 100)\n",
    "x"
   ]
  },
  {
   "cell_type": "code",
   "execution_count": 18,
   "metadata": {},
   "outputs": [
    {
     "data": {
      "text/plain": [
       "array([ 1.        ,  0.99490282,  0.97966323,  0.95443659,  0.91948007,\n",
       "        0.87515004,  0.8218984 ,  0.76026803,  0.69088721,  0.61446323,\n",
       "        0.53177518,  0.44366602,  0.35103397,  0.25482335,  0.15601496,\n",
       "        0.0556161 , -0.04534973, -0.14585325, -0.24486989, -0.34139023,\n",
       "       -0.43443032, -0.52304166, -0.60632092, -0.68341913, -0.75355031,\n",
       "       -0.81599952, -0.87013012, -0.91539031, -0.95131866, -0.97754893,\n",
       "       -0.9938137 , -0.99994717, -0.9958868 , -0.981674  , -0.95745366,\n",
       "       -0.92347268, -0.88007748, -0.82771044, -0.76690542, -0.69828229,\n",
       "       -0.6225406 , -0.54045251, -0.45285485, -0.36064061, -0.26474988,\n",
       "       -0.16616018, -0.06587659,  0.03507857,  0.13567613,  0.23489055,\n",
       "        0.33171042,  0.4251487 ,  0.51425287,  0.59811455,  0.67587883,\n",
       "        0.74675295,  0.8100144 ,  0.86501827,  0.91120382,  0.94810022,\n",
       "        0.97533134,  0.99261957,  0.99978867,  0.99676556,  0.98358105,\n",
       "        0.96036956,  0.9273677 ,  0.88491192,  0.83343502,  0.77346177,\n",
       "        0.70560358,  0.63055219,  0.54907273,  0.46199582,  0.37020915,\n",
       "        0.27464844,  0.17628785,  0.07613012, -0.0248037 , -0.12548467,\n",
       "       -0.2248864 , -0.32199555, -0.41582217, -0.50540974, -0.58984498,\n",
       "       -0.66826712, -0.7398767 , -0.8039437 , -0.859815  , -0.90692104,\n",
       "       -0.94478159, -0.97301068, -0.99132055, -0.99952453, -0.99753899,\n",
       "       -0.98538417, -0.96318398, -0.93116473, -0.88965286, -0.83907153])"
      ]
     },
     "execution_count": 18,
     "metadata": {},
     "output_type": "execute_result"
    }
   ],
   "source": [
    "# Create y1 data \n",
    "y1 = np.cos(x)\n",
    "y1"
   ]
  },
  {
   "cell_type": "code",
   "execution_count": 19,
   "metadata": {},
   "outputs": [
    {
     "data": {
      "text/plain": [
       "array([ 0.54030231,  0.45269568,  0.36047411,  0.26457773,  0.16598415,\n",
       "        0.06569847, -0.03525697, -0.13585299, -0.23506407, -0.33187882,\n",
       "       -0.42531027, -0.51440596, -0.5982576 , -0.67601039, -0.74687167,\n",
       "       -0.81011907, -0.86510782, -0.91127734, -0.94815696, -0.97537073,\n",
       "       -0.9926412 , -0.99979232, -0.9967512 , -0.98354882, -0.96031979,\n",
       "       -0.9273009 , -0.88482876, -0.83333636, -0.77334861, -0.70547707,\n",
       "       -0.63041363, -0.54892353, -0.46183749, -0.37004332, -0.27447678,\n",
       "       -0.17611213, -0.07595213,  0.02498216,  0.12566177,  0.22506033,\n",
       "        0.32216455,  0.41598451,  0.50556377,  0.58998912,  0.6683999 ,\n",
       "        0.73999678,  0.80404985,  0.85990614,  0.90699623,  0.94484007,\n",
       "        0.97305186,  0.991344  ,  0.99953002,  0.99752646,  0.98535374,\n",
       "        0.96313597,  0.93109963,  0.88957133,  0.8389744 ,  0.77982466,\n",
       "        0.7127251 ,  0.63835976,  0.55748674,  0.4709305 ,  0.37957342,\n",
       "        0.28434683,  0.1862215 ,  0.08619777, -0.0147047 , -0.11545727,\n",
       "       -0.21503282, -0.31241625, -0.40661479, -0.49666815, -0.58165829,\n",
       "       -0.66071879, -0.73304369, -0.79789566, -0.8546136 , -0.90261928,\n",
       "       -0.94142334, -0.97063017, -0.98994205, -0.99916209, -0.99819631,\n",
       "       -0.98705454, -0.96585038, -0.93479998, -0.89421989, -0.84452379,\n",
       "       -0.78621831, -0.71989782, -0.64623843, -0.56599105, -0.47997375,\n",
       "       -0.38906342, -0.29418683, -0.1963112 , -0.09643429,  0.0044257 ])"
      ]
     },
     "execution_count": 19,
     "metadata": {},
     "output_type": "execute_result"
    }
   ],
   "source": [
    "# Create y2 data\n",
    "y2 = np.cos(x + 1)\n",
    "y2"
   ]
  },
  {
   "cell_type": "code",
   "execution_count": 20,
   "metadata": {},
   "outputs": [
    {
     "data": {
      "text/plain": [
       "array([-0.41614684, -0.50571778, -0.59013324, -0.66853267, -0.74011683,\n",
       "       -0.80415597, -0.85999725, -0.9070714 , -0.94489852, -0.97309301,\n",
       "       -0.99136742, -0.99953547, -0.99751389, -0.98532329, -0.96308793,\n",
       "       -0.9310345 , -0.88948977, -0.83887725, -0.7797129 , -0.71259987,\n",
       "       -0.63822234, -0.55733854, -0.47077302, -0.37940826, -0.28417568,\n",
       "       -0.18604611, -0.08601992,  0.0148832 ,  0.11563459,  0.21520715,\n",
       "        0.31258582,  0.40677787,  0.49682308,  0.58180349,  0.66085278,\n",
       "        0.7331651 ,  0.79800326,  0.85470628,  0.90269611,  0.94148352,\n",
       "        0.9706731 ,  0.98996729,  0.99916938,  0.99818558,  0.9870259 ,\n",
       "        0.96580411,  0.93473657,  0.89413997,  0.84442818,  0.78610798,\n",
       "        0.71977391,  0.6461022 ,  0.56584388,  0.47981714,  0.38889897,\n",
       "        0.29401622,  0.19613616,  0.09625661, -0.00460421, -0.10541809,\n",
       "       -0.2051573 , -0.30280507, -0.39736592, -0.48787588, -0.57341226,\n",
       "       -0.65310306, -0.72613589, -0.79176622, -0.84932499, -0.89822543,\n",
       "       -0.93796903, -0.96815063, -0.98846255, -0.99869771, -0.99875178,\n",
       "       -0.98862421, -0.96841824, -0.93833986, -0.89869569, -0.84988989,\n",
       "       -0.79242   , -0.72687189, -0.65391378, -0.57428943, -0.48881056,\n",
       "       -0.39834858, -0.30382568, -0.20620548, -0.10648314, -0.00567527,\n",
       "        0.09519046,  0.19508577,  0.29299232,  0.38791199,  0.47887714,\n",
       "        0.56496044,  0.64528433,  0.71902995,  0.78544551,  0.84385396])"
      ]
     },
     "execution_count": 20,
     "metadata": {},
     "output_type": "execute_result"
    }
   ],
   "source": [
    "# Create y3 data\n",
    "y3 = np.cos(x + 2)\n",
    "y3"
   ]
  },
  {
   "cell_type": "code",
   "execution_count": 21,
   "metadata": {},
   "outputs": [],
   "source": [
    "# Create labels\n",
    "names = ['Signal 1', 'Signal 2', 'Signal 3']"
   ]
  },
  {
   "cell_type": "code",
   "execution_count": 11,
   "metadata": {},
   "outputs": [
    {
     "data": {
      "image/png": "[encoded data removed]",
      "text/plain": [
       "<Figure size 432x288 with 3 Axes>"
      ]
     },
     "metadata": {
      "needs_background": "light"
     },
     "output_type": "display_data"
    }
   ],
   "source": [
    "# Create plot\n",
    "fig, axes = plt.subplots(nrows=3)"
   ]
  },
  {
   "cell_type": "code",
   "execution_count": 22,
   "metadata": {},
   "outputs": [],
   "source": [
    "for ax, y, name in zip(axes, [y1, y2, y3], names):\n",
    "    ax.plot(x, y, color='black')\n",
    "    ax.set(xticks=[], yticks=[], title=name)\n",
    "\n",
    "plt.show()"
   ]
  },
  {
   "cell_type": "code",
   "execution_count": null,
   "metadata": {},
   "outputs": [],
   "source": []
  }
 ],
 "metadata": {
  "kernelspec": {
   "display_name": "Python 3",
   "language": "python",
   "name": "python3"
  },
  "language_info": {
   "codemirror_mode": {
    "name": "ipython",
    "version": 3
   },
   "file_extension": ".py",
   "mimetype": "text/x-python",
   "name": "python",
   "nbconvert_exporter": "python",
   "pygments_lexer": "ipython3",
   "version": "3.7.4"
  }
 },
 "nbformat": 4,
 "nbformat_minor": 2
}
