{
 "cells": [
  {
   "cell_type": "markdown",
   "metadata": {},
   "source": [
    "Defining and calling simple functions"
   ]
  },
  {
   "cell_type": "code",
   "execution_count": 14,
   "metadata": {},
   "outputs": [
    {
     "name": "stdout",
     "output_type": "stream",
     "text": [
      "Hello\n"
     ]
    }
   ],
   "source": [
    "def greet():\n",
    "    print(\"Hello\")\n",
    "    \n",
    "greet()"
   ]
  },
  {
   "cell_type": "code",
   "execution_count": 15,
   "metadata": {},
   "outputs": [
    {
     "name": "stdout",
     "output_type": "stream",
     "text": [
      "Howdy\n"
     ]
    }
   ],
   "source": [
    "def greet_two(greeting):\n",
    "    print(greeting)\n",
    "    \n",
    "greet_two(\"Howdy\")"
   ]
  },
  {
   "cell_type": "code",
   "execution_count": 16,
   "metadata": {},
   "outputs": [
    {
     "name": "stdout",
     "output_type": "stream",
     "text": [
      "0\n",
      "Hello!\n"
     ]
    }
   ],
   "source": [
    "def many_types(x):\n",
    "    if x < 0:\n",
    "        return \"Hello!\"\n",
    "    else:\n",
    "        return 0\n",
    "    \n",
    "print(many_types(1))\n",
    "print(many_types(-1))"
   ]
  },
  {
   "cell_type": "code",
   "execution_count": 17,
   "metadata": {},
   "outputs": [
    {
     "name": "stdout",
     "output_type": "stream",
     "text": [
      "None\n"
     ]
    }
   ],
   "source": [
    "def do_nothing():\n",
    "    pass\n",
    "\n",
    "print(do_nothing())"
   ]
  },
  {
   "cell_type": "markdown",
   "metadata": {},
   "source": [
    "Defining a function with an arbitrary number of arguments"
   ]
  },
  {
   "cell_type": "code",
   "execution_count": 18,
   "metadata": {},
   "outputs": [
    {
     "name": "stdout",
     "output_type": "stream",
     "text": [
      "1\n",
      "2\n",
      "3\n"
     ]
    }
   ],
   "source": [
    "def func(*args):\n",
    "    for i in args:\n",
    "        print(i)\n",
    "\n",
    "func(1, 2, 3)"
   ]
  },
  {
   "cell_type": "code",
   "execution_count": 19,
   "metadata": {},
   "outputs": [
    {
     "name": "stdout",
     "output_type": "stream",
     "text": [
      "1\n",
      "2\n",
      "3\n"
     ]
    }
   ],
   "source": [
    "list_of_arg_values = [1,2,3]\n",
    "func(*list_of_arg_values) # Calling it with list of values, * expands the list"
   ]
  },
  {
   "cell_type": "code",
   "execution_count": 20,
   "metadata": {},
   "outputs": [],
   "source": [
    "func() # Calling it without arguments"
   ]
  },
  {
   "cell_type": "code",
   "execution_count": 21,
   "metadata": {},
   "outputs": [
    {
     "name": "stdout",
     "output_type": "stream",
     "text": [
      "value1 1\n",
      "value2 2\n",
      "value3 3\n"
     ]
    }
   ],
   "source": [
    "def func(**kwargs):\n",
    "    # kwargs will be a dictionary containing the names as keys and the values as values\n",
    "    for name, value in kwargs.items():\n",
    "        print(name, value)\n",
    "        \n",
    "func(value1=1, value2=2, value3=3)        "
   ]
  },
  {
   "cell_type": "code",
   "execution_count": 22,
   "metadata": {},
   "outputs": [
    {
     "name": "stdout",
     "output_type": "stream",
     "text": [
      "foo 1\n",
      "bar 2\n"
     ]
    }
   ],
   "source": [
    "my_dict = {'foo' : 1, 'bar' : 2}\n",
    "func(**my_dict)    # Calling it with a dictionary"
   ]
  },
  {
   "cell_type": "markdown",
   "metadata": {},
   "source": [
    "Lambda (Inline/Anonymous) Functions"
   ]
  },
  {
   "cell_type": "code",
   "execution_count": 23,
   "metadata": {},
   "outputs": [
    {
     "name": "stdout",
     "output_type": "stream",
     "text": [
      "Hello\n"
     ]
    }
   ],
   "source": [
    "# The lambda keyword creates an inline function that contains a sinble expression. \n",
    "# The value of this expression is what the function returns wehn invoked.\n",
    "def greeting():\n",
    "    return \"Hello\"\n",
    "\n",
    "print(greeting())"
   ]
  },
  {
   "cell_type": "code",
   "execution_count": 24,
   "metadata": {},
   "outputs": [
    {
     "name": "stdout",
     "output_type": "stream",
     "text": [
      "Hello\n"
     ]
    }
   ],
   "source": [
    "greet_me = lambda: \"Hello\"\n",
    "print(greet_me())"
   ]
  },
  {
   "cell_type": "code",
   "execution_count": 25,
   "metadata": {},
   "outputs": [
    {
     "name": "stdout",
     "output_type": "stream",
     "text": [
      "HELLO\n"
     ]
    }
   ],
   "source": [
    "# lambdas can take arguments\n",
    "strip_and_upper_case = lambda s: s.strip().upper()\n",
    "print(strip_and_upper_case(\"    Hello    \"))"
   ]
  },
  {
   "cell_type": "code",
   "execution_count": 26,
   "metadata": {},
   "outputs": [
    {
     "name": "stdout",
     "output_type": "stream",
     "text": [
      "hello ('world',) {'world': 'world'}\n"
     ]
    }
   ],
   "source": [
    "greeting = lambda x, *args, **kwargs: print(x, args, kwargs)\n",
    "greeting('hello', 'world', world='world')"
   ]
  },
  {
   "cell_type": "code",
   "execution_count": 28,
   "metadata": {},
   "outputs": [
    {
     "data": {
      "text/plain": [
       "['   bAR', 'BaZ   ', ' foo ']"
      ]
     },
     "execution_count": 28,
     "metadata": {},
     "output_type": "execute_result"
    }
   ],
   "source": [
    "# lambdas are commonly used for short functions that are convenient to define\n",
    "# at the point where they are called\n",
    "\n",
    "# For example, this line sorts a list of strings ignoring their case and \n",
    "# ignoring whitespace at the beginning and at the end\n",
    "sorted([\" foo \", \"   bAR\", \"BaZ   \"], key=lambda s: s.strip().upper())"
   ]
  },
  {
   "cell_type": "code",
   "execution_count": 29,
   "metadata": {},
   "outputs": [
    {
     "data": {
      "text/plain": [
       "['BaZ   ', '   bAR', ' foo ']"
      ]
     },
     "execution_count": 29,
     "metadata": {},
     "output_type": "execute_result"
    }
   ],
   "source": [
    "# Sort list just ignoring whitespaces\n",
    "sorted([\" foo \", \"   bAR\", \"BaZ   \"], key=lambda s: s.strip())"
   ]
  },
  {
   "cell_type": "code",
   "execution_count": 30,
   "metadata": {},
   "outputs": [
    {
     "data": {
      "text/plain": [
       "[1, -2, 3, -4, 5, 7]"
      ]
     },
     "execution_count": 30,
     "metadata": {},
     "output_type": "execute_result"
    }
   ],
   "source": [
    "my_list = [3, -4, -2, 5, 1, 7]\n",
    "sorted(my_list, key=lambda x: abs(x))"
   ]
  },
  {
   "cell_type": "code",
   "execution_count": 32,
   "metadata": {},
   "outputs": [
    {
     "name": "stdout",
     "output_type": "stream",
     "text": [
      "hello world\n"
     ]
    }
   ],
   "source": [
    "def foo(msg):\n",
    "    print(msg)\n",
    "    \n",
    "greet = lambda x = \"hello world\": foo(x)\n",
    "greet()"
   ]
  },
  {
   "cell_type": "code",
   "execution_count": 34,
   "metadata": {},
   "outputs": [
    {
     "name": "stdout",
     "output_type": "stream",
     "text": [
      "4\n"
     ]
    }
   ],
   "source": [
    "def f(x):\n",
    "    return 2*x\n",
    "\n",
    "print(f(2))"
   ]
  },
  {
   "cell_type": "code",
   "execution_count": 35,
   "metadata": {},
   "outputs": [
    {
     "name": "stdout",
     "output_type": "stream",
     "text": [
      "4\n"
     ]
    }
   ],
   "source": [
    "f = lambda x: 2*x\n",
    "print(f(2))"
   ]
  },
  {
   "cell_type": "code",
   "execution_count": null,
   "metadata": {},
   "outputs": [],
   "source": []
  }
 ],
 "metadata": {
  "kernelspec": {
   "display_name": "Python 3",
   "language": "python",
   "name": "python3"
  },
  "language_info": {
   "codemirror_mode": {
    "name": "ipython",
    "version": 3
   },
   "file_extension": ".py",
   "mimetype": "text/x-python",
   "name": "python",
   "nbconvert_exporter": "python",
   "pygments_lexer": "ipython3",
   "version": "3.7.4"
  }
 },
 "nbformat": 4,
 "nbformat_minor": 2
}
