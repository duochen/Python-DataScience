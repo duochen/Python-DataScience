{
 "cells": [
  {
   "cell_type": "code",
   "execution_count": 1,
   "id": "aa8196f3",
   "metadata": {},
   "outputs": [],
   "source": [
    "import numpy as np"
   ]
  },
  {
   "cell_type": "code",
   "execution_count": 2,
   "id": "07becacd",
   "metadata": {},
   "outputs": [],
   "source": [
    "days = 30"
   ]
  },
  {
   "cell_type": "code",
   "execution_count": 3,
   "id": "a19268f9",
   "metadata": {},
   "outputs": [
    {
     "data": {
      "text/plain": [
       "array([23.67384542, 20.00599634, 26.65857302, 26.61526863, 25.75800668,\n",
       "       26.56405945, 26.56231537, 29.16621802, 26.32649422, 32.50116162,\n",
       "       20.51527282, 24.77607868, 29.35618341, 21.40540524, 23.36583574,\n",
       "       23.64826134, 30.42628055, 21.54692698, 23.37050282, 33.30965283,\n",
       "       32.09912626, 31.43966258, 33.32265757, 30.55658685, 29.07466565,\n",
       "       32.96306789, 25.53449485, 26.79969981, 22.23986848, 26.38367772])"
      ]
     },
     "execution_count": 3,
     "metadata": {},
     "output_type": "execute_result"
    }
   ],
   "source": [
    "high_temps = np.random.uniform(20, 35, size=days)\n",
    "high_temps"
   ]
  },
  {
   "cell_type": "code",
   "execution_count": 4,
   "id": "8201b707",
   "metadata": {},
   "outputs": [
    {
     "data": {
      "text/plain": [
       "array([22.30131666, 16.47465455, 11.88379306, 10.8426915 , 21.46376808,\n",
       "       16.84566557, 16.58837585, 11.86359385, 16.37200702, 17.3631263 ,\n",
       "       15.45833282, 19.17166627, 12.36810912, 20.59165928, 16.73998875,\n",
       "       23.5019508 , 12.08565834, 24.46285583, 24.32785951, 12.83049497,\n",
       "       19.50007703, 23.31151791, 17.12544969, 18.94696913, 18.54787767,\n",
       "       20.96715797, 12.2915267 , 12.51406628, 23.61074427, 13.44694682])"
      ]
     },
     "execution_count": 4,
     "metadata": {},
     "output_type": "execute_result"
    }
   ],
   "source": [
    "low_temps = np.random.uniform(10, 25, size=days)\n",
    "low_temps"
   ]
  },
  {
   "cell_type": "code",
   "execution_count": 5,
   "id": "89a40044",
   "metadata": {},
   "outputs": [
    {
     "data": {
      "text/plain": [
       "array([30, 20, 20,  0,  0,  0,  0,  0, 10,  0, 20,  0, 30, 30, 10, 20, 20,\n",
       "        0, 30, 30,  0,  0, 10, 30,  0,  0,  0,  0,  0, 10])"
      ]
     },
     "execution_count": 5,
     "metadata": {},
     "output_type": "execute_result"
    }
   ],
   "source": [
    "precipitation = np.random.choice([0, 0, 0, 10, 20, 30], size=days)\n",
    "precipitation"
   ]
  },
  {
   "cell_type": "code",
   "execution_count": 6,
   "id": "4cf70504",
   "metadata": {},
   "outputs": [
    {
     "data": {
      "text/plain": [
       "array([[23.67384542, 22.30131666, 30.        ],\n",
       "       [20.00599634, 16.47465455, 20.        ],\n",
       "       [26.65857302, 11.88379306, 20.        ],\n",
       "       [26.61526863, 10.8426915 ,  0.        ],\n",
       "       [25.75800668, 21.46376808,  0.        ],\n",
       "       [26.56405945, 16.84566557,  0.        ],\n",
       "       [26.56231537, 16.58837585,  0.        ],\n",
       "       [29.16621802, 11.86359385,  0.        ],\n",
       "       [26.32649422, 16.37200702, 10.        ],\n",
       "       [32.50116162, 17.3631263 ,  0.        ],\n",
       "       [20.51527282, 15.45833282, 20.        ],\n",
       "       [24.77607868, 19.17166627,  0.        ],\n",
       "       [29.35618341, 12.36810912, 30.        ],\n",
       "       [21.40540524, 20.59165928, 30.        ],\n",
       "       [23.36583574, 16.73998875, 10.        ],\n",
       "       [23.64826134, 23.5019508 , 20.        ],\n",
       "       [30.42628055, 12.08565834, 20.        ],\n",
       "       [21.54692698, 24.46285583,  0.        ],\n",
       "       [23.37050282, 24.32785951, 30.        ],\n",
       "       [33.30965283, 12.83049497, 30.        ],\n",
       "       [32.09912626, 19.50007703,  0.        ],\n",
       "       [31.43966258, 23.31151791,  0.        ],\n",
       "       [33.32265757, 17.12544969, 10.        ],\n",
       "       [30.55658685, 18.94696913, 30.        ],\n",
       "       [29.07466565, 18.54787767,  0.        ],\n",
       "       [32.96306789, 20.96715797,  0.        ],\n",
       "       [25.53449485, 12.2915267 ,  0.        ],\n",
       "       [26.79969981, 12.51406628,  0.        ],\n",
       "       [22.23986848, 23.61074427,  0.        ],\n",
       "       [26.38367772, 13.44694682, 10.        ]])"
      ]
     },
     "execution_count": 6,
     "metadata": {},
     "output_type": "execute_result"
    }
   ],
   "source": [
    "weather_data = np.column_stack((high_temps, low_temps, precipitation))\n",
    "weather_data"
   ]
  },
  {
   "cell_type": "code",
   "execution_count": 7,
   "id": "b7bda76b",
   "metadata": {},
   "outputs": [
    {
     "name": "stdout",
     "output_type": "stream",
     "text": [
      "26.86552822810003\n"
     ]
    }
   ],
   "source": [
    "mean_high = np.mean(weather_data[:, 0])\n",
    "mean_low = np.mean(weather_data[:, 1])\n",
    "total_rain = np.sum(weather_data[:, 2])\n",
    "\n",
    "print(mean_high)"
   ]
  },
  {
   "cell_type": "code",
   "execution_count": 8,
   "id": "8e4f8aa7",
   "metadata": {},
   "outputs": [
    {
     "name": "stdout",
     "output_type": "stream",
     "text": [
      "17.459996720433825\n"
     ]
    }
   ],
   "source": [
    "print(mean_low)"
   ]
  },
  {
   "cell_type": "code",
   "execution_count": 9,
   "id": "454b3860",
   "metadata": {},
   "outputs": [
    {
     "name": "stdout",
     "output_type": "stream",
     "text": [
      "320.0\n"
     ]
    }
   ],
   "source": [
    "print(total_rain)"
   ]
  },
  {
   "cell_type": "code",
   "execution_count": null,
   "id": "7b3ed58a",
   "metadata": {},
   "outputs": [],
   "source": []
  }
 ],
 "metadata": {
  "kernelspec": {
   "display_name": "Python 3 (ipykernel)",
   "language": "python",
   "name": "python3"
  },
  "language_info": {
   "codemirror_mode": {
    "name": "ipython",
    "version": 3
   },
   "file_extension": ".py",
   "mimetype": "text/x-python",
   "name": "python",
   "nbconvert_exporter": "python",
   "pygments_lexer": "ipython3",
   "version": "3.8.8"
  }
 },
 "nbformat": 4,
 "nbformat_minor": 5
}
